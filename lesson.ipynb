{
 "cells": [
  {
   "cell_type": "code",
   "execution_count": 1,
   "metadata": {
    "collapsed": true
   },
   "outputs": [],
   "source": [
    "from __future__ import print_function"
   ]
  },
  {
   "cell_type": "code",
   "execution_count": null,
   "metadata": {
    "scrolled": true
   },
   "outputs": [
    {
     "name": "stdout",
     "output_type": "stream",
     "text": [
      "Hello world\n"
     ]
    }
   ],
   "source": [
    "print (\"Hello world\")"
   ]
  },
  {
   "cell_type": "code",
   "execution_count": null,
   "metadata": {
    "collapsed": true
   },
   "outputs": [],
   "source": [
    "\n",
    "income = int(input (\"enter salart : \"))\n",
    "tax = int(input (\"enter tax rate %:\"))\n",
    "\n",
    "net_income = income*(1-(tax/100))\n",
    "print (\"annual net_income =\", round(net_income,2))\n",
    "print (\"monthly net_income =\", round(net_income/12,2))"
   ]
  },
  {
   "cell_type": "code",
   "execution_count": null,
   "metadata": {
    "collapsed": true
   },
   "outputs": [],
   "source": [
    "first_name= \"mohamed\"\n",
    "print (f\"my name is {first_name}\")"
   ]
  },
  {
   "cell_type": "code",
   "execution_count": null,
   "metadata": {
    "collapsed": true
   },
   "outputs": [],
   "source": [
    "last_name = \"Sellamia\""
   ]
  },
  {
   "cell_type": "code",
   "execution_count": null,
   "metadata": {
    "collapsed": true
   },
   "outputs": [],
   "source": [
    "print (last_name )"
   ]
  },
  {
   "cell_type": "code",
   "execution_count": null,
   "metadata": {
    "collapsed": true
   },
   "outputs": [],
   "source": [
    "print (\"test\")"
   ]
  },
  {
   "cell_type": "code",
   "execution_count": null,
   "metadata": {
    "collapsed": true
   },
   "outputs": [],
   "source": [
    "print (\"test2\")"
   ]
  },
  {
   "cell_type": "code",
   "execution_count": 3,
   "metadata": {},
   "outputs": [
    {
     "name": "stdout",
     "output_type": "stream",
     "text": [
      "hello \n",
      "\tworld\n"
     ]
    }
   ],
   "source": [
    "print (\"hello \\n\\tworld\")"
   ]
  },
  {
   "cell_type": "code",
   "execution_count": null,
   "metadata": {
    "collapsed": true
   },
   "outputs": [],
   "source": [
    "n=\"hello world\"\n",
    "len(last_name)"
   ]
  },
  {
   "cell_type": "code",
   "execution_count": null,
   "metadata": {
    "collapsed": true
   },
   "outputs": [],
   "source": [
    "print (n[::-1])"
   ]
  },
  {
   "cell_type": "code",
   "execution_count": null,
   "metadata": {
    "collapsed": true
   },
   "outputs": [],
   "source": [
    "print (n[8])\n"
   ]
  },
  {
   "cell_type": "code",
   "execution_count": 1,
   "metadata": {},
   "outputs": [
    {
     "name": "stdout",
     "output_type": "stream",
     "text": [
      "ink\n"
     ]
    }
   ],
   "source": [
    "print ('tinker'[1:4])"
   ]
  },
  {
   "cell_type": "code",
   "execution_count": 38,
   "metadata": {},
   "outputs": [
    {
     "data": {
      "text/plain": [
       "'Pam Hello World'"
      ]
     },
     "execution_count": 38,
     "metadata": {},
     "output_type": "execute_result"
    }
   ],
   "source": [
    "name = \"Sam\" + \" Hello World\"\n",
    "\n",
    "\"P\"+name[1:]"
   ]
  },
  {
   "cell_type": "code",
   "execution_count": 10,
   "metadata": {},
   "outputs": [
    {
     "data": {
      "text/plain": [
       "'Sam Hello WorldSam Hello WorldSam Hello WorldSam Hello WorldSam Hello WorldSam Hello WorldSam Hello WorldSam Hello WorldSam Hello WorldSam Hello WorldSam Hello WorldSam Hello WorldSam Hello WorldSam Hello WorldSam Hello World'"
      ]
     },
     "execution_count": 10,
     "metadata": {},
     "output_type": "execute_result"
    }
   ],
   "source": [
    "name *len(name)\n"
   ]
  },
  {
   "cell_type": "code",
   "execution_count": 11,
   "metadata": {},
   "outputs": [
    {
     "data": {
      "text/plain": [
       "['Sam Hell', ' W', 'rld']"
      ]
     },
     "execution_count": 11,
     "metadata": {},
     "output_type": "execute_result"
    }
   ],
   "source": [
    "name.split('o')"
   ]
  },
  {
   "cell_type": "code",
   "execution_count": null,
   "metadata": {
    "collapsed": true
   },
   "outputs": [],
   "source": [
    "print ('crazy text {1}'.format(1,2,3))"
   ]
  },
  {
   "cell_type": "code",
   "execution_count": 2,
   "metadata": {},
   "outputs": [
    {
     "name": "stdout",
     "output_type": "stream",
     "text": [
      "crazy text 2\n"
     ]
    }
   ],
   "source": [
    "print ('crazy text {1}'.format(1,2,3))"
   ]
  },
  {
   "cell_type": "code",
   "execution_count": null,
   "metadata": {},
   "outputs": [],
   "source": [
    "first_name = str(input (\"enter your first name : \"))\n",
    "last_name = str(input (\"enter your last name : \"))\n",
    "\n",
    "print (\"Welcome {f} {l}\".format(f=first_name.capitalize(), l=last_name.capitalize()))"
   ]
  },
  {
   "cell_type": "code",
   "execution_count": null,
   "metadata": {},
   "outputs": [],
   "source": [
    "print (\"I like {}\".format(first_name))"
   ]
  },
  {
   "cell_type": "code",
   "execution_count": 40,
   "metadata": {},
   "outputs": [],
   "source": [
    "## lists\n",
    "\n",
    "list1 = [1,2,3, \"string\"]"
   ]
  },
  {
   "cell_type": "code",
   "execution_count": 41,
   "metadata": {},
   "outputs": [
    {
     "data": {
      "text/plain": [
       "[1, 2, 3, 'string']"
      ]
     },
     "execution_count": 41,
     "metadata": {},
     "output_type": "execute_result"
    }
   ],
   "source": [
    "list1\n"
   ]
  },
  {
   "cell_type": "code",
   "execution_count": 42,
   "metadata": {},
   "outputs": [],
   "source": [
    "list2 = [\"hi\",\"momo\",3, \"string\"]"
   ]
  },
  {
   "cell_type": "code",
   "execution_count": 43,
   "metadata": {},
   "outputs": [
    {
     "data": {
      "text/plain": [
       "[1, 2, 3, 'string', 'hi', 'momo', 3, 'string']"
      ]
     },
     "execution_count": 43,
     "metadata": {},
     "output_type": "execute_result"
    }
   ],
   "source": [
    "list1+list2"
   ]
  },
  {
   "cell_type": "code",
   "execution_count": 44,
   "metadata": {},
   "outputs": [],
   "source": [
    "list1.append(list2[0])"
   ]
  },
  {
   "cell_type": "code",
   "execution_count": 45,
   "metadata": {},
   "outputs": [
    {
     "data": {
      "text/plain": [
       "[1, 2, 3, 'string', 'hi']"
      ]
     },
     "execution_count": 45,
     "metadata": {},
     "output_type": "execute_result"
    }
   ],
   "source": [
    "list1"
   ]
  },
  {
   "cell_type": "code",
   "execution_count": 14,
   "metadata": {
    "collapsed": true
   },
   "outputs": [],
   "source": [
    "list1.append(\"new nubmer\")"
   ]
  },
  {
   "cell_type": "code",
   "execution_count": 1,
   "metadata": {},
   "outputs": [
    {
     "ename": "NameError",
     "evalue": "name 'list1' is not defined",
     "output_type": "error",
     "traceback": [
      "\u001b[0;31m---------------------------------------------------------------------------\u001b[0m",
      "\u001b[0;31mNameError\u001b[0m                                 Traceback (most recent call last)",
      "\u001b[0;32m<ipython-input-1-32e3a55f6bef>\u001b[0m in \u001b[0;36m<module>\u001b[0;34m()\u001b[0m\n\u001b[0;32m----> 1\u001b[0;31m \u001b[0mlist1\u001b[0m\u001b[0;34m\u001b[0m\u001b[0m\n\u001b[0m",
      "\u001b[0;31mNameError\u001b[0m: name 'list1' is not defined"
     ]
    }
   ],
   "source": [
    "list1"
   ]
  },
  {
   "cell_type": "code",
   "execution_count": 10,
   "metadata": {},
   "outputs": [
    {
     "data": {
      "text/plain": [
       "1"
      ]
     },
     "execution_count": 10,
     "metadata": {},
     "output_type": "execute_result"
    }
   ],
   "source": [
    "list1.pop(0)"
   ]
  },
  {
   "cell_type": "code",
   "execution_count": 11,
   "metadata": {},
   "outputs": [
    {
     "data": {
      "text/plain": [
       "[2, 3, 'string', 'hi', 'new nubmer']"
      ]
     },
     "execution_count": 11,
     "metadata": {},
     "output_type": "execute_result"
    }
   ],
   "source": [
    "list1"
   ]
  },
  {
   "cell_type": "code",
   "execution_count": 1,
   "metadata": {},
   "outputs": [],
   "source": [
    "list1 = [1,2,3, 7, 4,2,3]"
   ]
  },
  {
   "cell_type": "code",
   "execution_count": 2,
   "metadata": {},
   "outputs": [
    {
     "data": {
      "text/plain": [
       "3"
      ]
     },
     "execution_count": 2,
     "metadata": {},
     "output_type": "execute_result"
    }
   ],
   "source": [
    "list1[-1]"
   ]
  },
  {
   "cell_type": "code",
   "execution_count": 19,
   "metadata": {
    "collapsed": true
   },
   "outputs": [],
   "source": [
    "list1.sort()"
   ]
  },
  {
   "cell_type": "code",
   "execution_count": 26,
   "metadata": {},
   "outputs": [
    {
     "data": {
      "text/plain": [
       "[7, 4, 3, 3, 2, 2, 1]"
      ]
     },
     "execution_count": 26,
     "metadata": {},
     "output_type": "execute_result"
    }
   ],
   "source": [
    "list1"
   ]
  },
  {
   "cell_type": "code",
   "execution_count": 27,
   "metadata": {},
   "outputs": [
    {
     "data": {
      "text/plain": [
       "[1, 2, 2, 3, 3, 4, 7]"
      ]
     },
     "execution_count": 27,
     "metadata": {},
     "output_type": "execute_result"
    }
   ],
   "source": [
    "list1[::-1]"
   ]
  },
  {
   "cell_type": "code",
   "execution_count": 28,
   "metadata": {
    "collapsed": true
   },
   "outputs": [],
   "source": [
    "list1.reverse()"
   ]
  },
  {
   "cell_type": "code",
   "execution_count": 29,
   "metadata": {},
   "outputs": [
    {
     "data": {
      "text/plain": [
       "[1, 2, 2, 3, 3, 4, 7]"
      ]
     },
     "execution_count": 29,
     "metadata": {},
     "output_type": "execute_result"
    }
   ],
   "source": [
    "list1"
   ]
  },
  {
   "cell_type": "code",
   "execution_count": 33,
   "metadata": {
    "collapsed": true
   },
   "outputs": [],
   "source": [
    "list1.append([1,2])"
   ]
  },
  {
   "cell_type": "code",
   "execution_count": 34,
   "metadata": {},
   "outputs": [
    {
     "data": {
      "text/plain": [
       "[1, 2, 2, 3, 3, 4, 7, [1, 2]]"
      ]
     },
     "execution_count": 34,
     "metadata": {},
     "output_type": "execute_result"
    }
   ],
   "source": [
    "list1"
   ]
  },
  {
   "cell_type": "code",
   "execution_count": 43,
   "metadata": {},
   "outputs": [
    {
     "data": {
      "text/plain": [
       "2"
      ]
     },
     "execution_count": 43,
     "metadata": {},
     "output_type": "execute_result"
    }
   ],
   "source": [
    "list1[7][1]"
   ]
  },
  {
   "cell_type": "code",
   "execution_count": 44,
   "metadata": {
    "collapsed": true
   },
   "outputs": [],
   "source": [
    "## dictionaries \n",
    "\n",
    "dict1 = {\"key1\":\"value1\", \"key2\":\"value2\"}"
   ]
  },
  {
   "cell_type": "code",
   "execution_count": 46,
   "metadata": {},
   "outputs": [
    {
     "data": {
      "text/plain": [
       "'value2'"
      ]
     },
     "execution_count": 46,
     "metadata": {},
     "output_type": "execute_result"
    }
   ],
   "source": [
    "dict1[\"key2\"]"
   ]
  },
  {
   "cell_type": "code",
   "execution_count": 3,
   "metadata": {},
   "outputs": [],
   "source": [
    "items = {\"apples\":1.5, \"pears\":3.1, \"oranges\":5.6}"
   ]
  },
  {
   "cell_type": "code",
   "execution_count": 4,
   "metadata": {},
   "outputs": [
    {
     "ename": "KeyboardInterrupt",
     "evalue": "",
     "output_type": "error",
     "traceback": [
      "\u001b[0;31m---------------------------------------------------------------------------\u001b[0m",
      "\u001b[0;31mKeyboardInterrupt\u001b[0m                         Traceback (most recent call last)",
      "\u001b[0;32m~/anaconda3/lib/python3.7/site-packages/ipykernel/kernelbase.py\u001b[0m in \u001b[0;36m_input_request\u001b[0;34m(self, prompt, ident, parent, password)\u001b[0m\n\u001b[1;32m    728\u001b[0m             \u001b[0;32mtry\u001b[0m\u001b[0;34m:\u001b[0m\u001b[0;34m\u001b[0m\u001b[0m\n\u001b[0;32m--> 729\u001b[0;31m                 \u001b[0mident\u001b[0m\u001b[0;34m,\u001b[0m \u001b[0mreply\u001b[0m \u001b[0;34m=\u001b[0m \u001b[0mself\u001b[0m\u001b[0;34m.\u001b[0m\u001b[0msession\u001b[0m\u001b[0;34m.\u001b[0m\u001b[0mrecv\u001b[0m\u001b[0;34m(\u001b[0m\u001b[0mself\u001b[0m\u001b[0;34m.\u001b[0m\u001b[0mstdin_socket\u001b[0m\u001b[0;34m,\u001b[0m \u001b[0;36m0\u001b[0m\u001b[0;34m)\u001b[0m\u001b[0;34m\u001b[0m\u001b[0m\n\u001b[0m\u001b[1;32m    730\u001b[0m             \u001b[0;32mexcept\u001b[0m \u001b[0mException\u001b[0m\u001b[0;34m:\u001b[0m\u001b[0;34m\u001b[0m\u001b[0m\n",
      "\u001b[0;32m~/anaconda3/lib/python3.7/site-packages/jupyter_client/session.py\u001b[0m in \u001b[0;36mrecv\u001b[0;34m(self, socket, mode, content, copy)\u001b[0m\n\u001b[1;32m    802\u001b[0m         \u001b[0;32mtry\u001b[0m\u001b[0;34m:\u001b[0m\u001b[0;34m\u001b[0m\u001b[0m\n\u001b[0;32m--> 803\u001b[0;31m             \u001b[0mmsg_list\u001b[0m \u001b[0;34m=\u001b[0m \u001b[0msocket\u001b[0m\u001b[0;34m.\u001b[0m\u001b[0mrecv_multipart\u001b[0m\u001b[0;34m(\u001b[0m\u001b[0mmode\u001b[0m\u001b[0;34m,\u001b[0m \u001b[0mcopy\u001b[0m\u001b[0;34m=\u001b[0m\u001b[0mcopy\u001b[0m\u001b[0;34m)\u001b[0m\u001b[0;34m\u001b[0m\u001b[0m\n\u001b[0m\u001b[1;32m    804\u001b[0m         \u001b[0;32mexcept\u001b[0m \u001b[0mzmq\u001b[0m\u001b[0;34m.\u001b[0m\u001b[0mZMQError\u001b[0m \u001b[0;32mas\u001b[0m \u001b[0me\u001b[0m\u001b[0;34m:\u001b[0m\u001b[0;34m\u001b[0m\u001b[0m\n",
      "\u001b[0;32m~/anaconda3/lib/python3.7/site-packages/zmq/sugar/socket.py\u001b[0m in \u001b[0;36mrecv_multipart\u001b[0;34m(self, flags, copy, track)\u001b[0m\n\u001b[1;32m    466\u001b[0m         \"\"\"\n\u001b[0;32m--> 467\u001b[0;31m         \u001b[0mparts\u001b[0m \u001b[0;34m=\u001b[0m \u001b[0;34m[\u001b[0m\u001b[0mself\u001b[0m\u001b[0;34m.\u001b[0m\u001b[0mrecv\u001b[0m\u001b[0;34m(\u001b[0m\u001b[0mflags\u001b[0m\u001b[0;34m,\u001b[0m \u001b[0mcopy\u001b[0m\u001b[0;34m=\u001b[0m\u001b[0mcopy\u001b[0m\u001b[0;34m,\u001b[0m \u001b[0mtrack\u001b[0m\u001b[0;34m=\u001b[0m\u001b[0mtrack\u001b[0m\u001b[0;34m)\u001b[0m\u001b[0;34m]\u001b[0m\u001b[0;34m\u001b[0m\u001b[0m\n\u001b[0m\u001b[1;32m    468\u001b[0m         \u001b[0;31m# have first part already, only loop while more to receive\u001b[0m\u001b[0;34m\u001b[0m\u001b[0;34m\u001b[0m\u001b[0m\n",
      "\u001b[0;32mzmq/backend/cython/socket.pyx\u001b[0m in \u001b[0;36mzmq.backend.cython.socket.Socket.recv\u001b[0;34m()\u001b[0m\n",
      "\u001b[0;32mzmq/backend/cython/socket.pyx\u001b[0m in \u001b[0;36mzmq.backend.cython.socket.Socket.recv\u001b[0;34m()\u001b[0m\n",
      "\u001b[0;32mzmq/backend/cython/socket.pyx\u001b[0m in \u001b[0;36mzmq.backend.cython.socket._recv_copy\u001b[0;34m()\u001b[0m\n",
      "\u001b[0;32m~/anaconda3/lib/python3.7/site-packages/zmq/backend/cython/checkrc.pxd\u001b[0m in \u001b[0;36mzmq.backend.cython.checkrc._check_rc\u001b[0;34m()\u001b[0m\n",
      "\u001b[0;31mKeyboardInterrupt\u001b[0m: ",
      "\nDuring handling of the above exception, another exception occurred:\n",
      "\u001b[0;31mKeyboardInterrupt\u001b[0m                         Traceback (most recent call last)",
      "\u001b[0;32m<ipython-input-4-109f2292b125>\u001b[0m in \u001b[0;36m<module>\u001b[0;34m()\u001b[0m\n\u001b[1;32m      1\u001b[0m \u001b[0mitems\u001b[0m \u001b[0;34m=\u001b[0m \u001b[0;34m{\u001b[0m\u001b[0;34m\"apples\"\u001b[0m\u001b[0;34m:\u001b[0m\u001b[0;36m1.5\u001b[0m\u001b[0;34m,\u001b[0m \u001b[0;34m\"pears\"\u001b[0m\u001b[0;34m:\u001b[0m\u001b[0;36m3.1\u001b[0m\u001b[0;34m,\u001b[0m \u001b[0;34m\"oranges\"\u001b[0m\u001b[0;34m:\u001b[0m\u001b[0;36m5.6\u001b[0m\u001b[0;34m}\u001b[0m\u001b[0;34m\u001b[0m\u001b[0m\n\u001b[0;32m----> 2\u001b[0;31m \u001b[0morder\u001b[0m \u001b[0;34m=\u001b[0m \u001b[0mint\u001b[0m\u001b[0;34m(\u001b[0m\u001b[0minput\u001b[0m\u001b[0;34m(\u001b[0m\u001b[0;34m\"enter the lb:\"\u001b[0m\u001b[0;34m)\u001b[0m\u001b[0;34m)\u001b[0m\u001b[0;34m\u001b[0m\u001b[0m\n\u001b[0m\u001b[1;32m      3\u001b[0m \u001b[0mproduct\u001b[0m \u001b[0;34m=\u001b[0m \u001b[0mstr\u001b[0m\u001b[0;34m(\u001b[0m\u001b[0minput\u001b[0m\u001b[0;34m(\u001b[0m\u001b[0;34m\"product purchased: \"\u001b[0m\u001b[0;34m)\u001b[0m\u001b[0;34m)\u001b[0m\u001b[0;34m\u001b[0m\u001b[0m\n\u001b[1;32m      4\u001b[0m \u001b[0;32mif\u001b[0m \u001b[0mproduct\u001b[0m \u001b[0;34m==\u001b[0m \u001b[0;34m\"apples\"\u001b[0m\u001b[0;34m:\u001b[0m\u001b[0;34m\u001b[0m\u001b[0m\n\u001b[1;32m      5\u001b[0m     \u001b[0mtotal\u001b[0m \u001b[0;34m=\u001b[0m \u001b[0mitems\u001b[0m\u001b[0;34m[\u001b[0m\u001b[0;34m\"apples\"\u001b[0m\u001b[0;34m]\u001b[0m \u001b[0;34m*\u001b[0m \u001b[0morder\u001b[0m\u001b[0;34m\u001b[0m\u001b[0m\n",
      "\u001b[0;32m~/anaconda3/lib/python3.7/site-packages/ipykernel/kernelbase.py\u001b[0m in \u001b[0;36mraw_input\u001b[0;34m(self, prompt)\u001b[0m\n\u001b[1;32m    702\u001b[0m             \u001b[0mself\u001b[0m\u001b[0;34m.\u001b[0m\u001b[0m_parent_ident\u001b[0m\u001b[0;34m,\u001b[0m\u001b[0;34m\u001b[0m\u001b[0m\n\u001b[1;32m    703\u001b[0m             \u001b[0mself\u001b[0m\u001b[0;34m.\u001b[0m\u001b[0m_parent_header\u001b[0m\u001b[0;34m,\u001b[0m\u001b[0;34m\u001b[0m\u001b[0m\n\u001b[0;32m--> 704\u001b[0;31m             \u001b[0mpassword\u001b[0m\u001b[0;34m=\u001b[0m\u001b[0;32mFalse\u001b[0m\u001b[0;34m,\u001b[0m\u001b[0;34m\u001b[0m\u001b[0m\n\u001b[0m\u001b[1;32m    705\u001b[0m         )\n\u001b[1;32m    706\u001b[0m \u001b[0;34m\u001b[0m\u001b[0m\n",
      "\u001b[0;32m~/anaconda3/lib/python3.7/site-packages/ipykernel/kernelbase.py\u001b[0m in \u001b[0;36m_input_request\u001b[0;34m(self, prompt, ident, parent, password)\u001b[0m\n\u001b[1;32m    732\u001b[0m             \u001b[0;32mexcept\u001b[0m \u001b[0mKeyboardInterrupt\u001b[0m\u001b[0;34m:\u001b[0m\u001b[0;34m\u001b[0m\u001b[0m\n\u001b[1;32m    733\u001b[0m                 \u001b[0;31m# re-raise KeyboardInterrupt, to truncate traceback\u001b[0m\u001b[0;34m\u001b[0m\u001b[0;34m\u001b[0m\u001b[0m\n\u001b[0;32m--> 734\u001b[0;31m                 \u001b[0;32mraise\u001b[0m \u001b[0mKeyboardInterrupt\u001b[0m\u001b[0;34m\u001b[0m\u001b[0m\n\u001b[0m\u001b[1;32m    735\u001b[0m             \u001b[0;32melse\u001b[0m\u001b[0;34m:\u001b[0m\u001b[0;34m\u001b[0m\u001b[0m\n\u001b[1;32m    736\u001b[0m                 \u001b[0;32mbreak\u001b[0m\u001b[0;34m\u001b[0m\u001b[0m\n",
      "\u001b[0;31mKeyboardInterrupt\u001b[0m: "
     ]
    }
   ],
   "source": [
    "items = {\"apples\":1.5, \"pears\":3.1, \"oranges\":5.6}\n",
    "order = int(input(\"enter the lb:\"))\n",
    "product = str(input(\"product purchased: \"))\n",
    "if product == \"apples\":\n",
    "    total = items[\"apples\"] * order\n",
    "    print (f\"total is {total}\")"
   ]
  },
  {
   "cell_type": "code",
   "execution_count": 5,
   "metadata": {},
   "outputs": [],
   "source": [
    "dict2= {\"key1\": [\"a\",\"b\", \"c\"]}"
   ]
  },
  {
   "cell_type": "code",
   "execution_count": 8,
   "metadata": {},
   "outputs": [
    {
     "data": {
      "text/plain": [
       "'c'"
      ]
     },
     "execution_count": 8,
     "metadata": {},
     "output_type": "execute_result"
    }
   ],
   "source": [
    "dict2[\"key1\"][2]"
   ]
  },
  {
   "cell_type": "code",
   "execution_count": 11,
   "metadata": {},
   "outputs": [],
   "source": [
    "name = \"mohamed\""
   ]
  },
  {
   "cell_type": "code",
   "execution_count": 12,
   "metadata": {},
   "outputs": [],
   "source": [
    "from example import example  ## my own module, either leave it in the folder here or move it to anaconda python 3.7 site packages \n"
   ]
  },
  {
   "cell_type": "code",
   "execution_count": 13,
   "metadata": {},
   "outputs": [
    {
     "name": "stdout",
     "output_type": "stream",
     "text": [
      "hello, my name is mohamed\n"
     ]
    }
   ],
   "source": [
    "example(name)"
   ]
  },
  {
   "cell_type": "code",
   "execution_count": 10,
   "metadata": {
    "collapsed": true
   },
   "outputs": [],
   "source": [
    "dict2= {\"key1\": [\"a\",\"b\", \"c\"]}\n"
   ]
  },
  {
   "cell_type": "code",
   "execution_count": 11,
   "metadata": {},
   "outputs": [
    {
     "data": {
      "text/plain": [
       "{'key1': ['a', 'b', 'c']}"
      ]
     },
     "execution_count": 11,
     "metadata": {},
     "output_type": "execute_result"
    }
   ],
   "source": [
    "dict2"
   ]
  },
  {
   "cell_type": "code",
   "execution_count": 14,
   "metadata": {
    "collapsed": true
   },
   "outputs": [],
   "source": [
    "dict2[\"key2\"] = \"d\""
   ]
  },
  {
   "cell_type": "code",
   "execution_count": 14,
   "metadata": {},
   "outputs": [
    {
     "data": {
      "text/plain": [
       "'c'"
      ]
     },
     "execution_count": 14,
     "metadata": {},
     "output_type": "execute_result"
    }
   ],
   "source": [
    "dict2[\"key1\"][2]"
   ]
  },
  {
   "cell_type": "code",
   "execution_count": 14,
   "metadata": {},
   "outputs": [
    {
     "data": {
      "text/plain": [
       "dict_keys(['key1'])"
      ]
     },
     "execution_count": 14,
     "metadata": {},
     "output_type": "execute_result"
    }
   ],
   "source": [
    "dict2.keys()"
   ]
  },
  {
   "cell_type": "code",
   "execution_count": 15,
   "metadata": {},
   "outputs": [
    {
     "data": {
      "text/plain": [
       "dict_values([['a', 'b', 'c']])"
      ]
     },
     "execution_count": 15,
     "metadata": {},
     "output_type": "execute_result"
    }
   ],
   "source": [
    "dict2.values()"
   ]
  },
  {
   "cell_type": "code",
   "execution_count": 18,
   "metadata": {},
   "outputs": [
    {
     "data": {
      "text/plain": [
       "dict_items([('key1', ['a', 'b', 'c']), ('key2', 'd')])"
      ]
     },
     "execution_count": 18,
     "metadata": {},
     "output_type": "execute_result"
    }
   ],
   "source": [
    "dict2.items()"
   ]
  },
  {
   "cell_type": "code",
   "execution_count": 35,
   "metadata": {
    "collapsed": true
   },
   "outputs": [],
   "source": [
    "## tuples\n",
    "t = (1,1,2,2,3)\n"
   ]
  },
  {
   "cell_type": "code",
   "execution_count": 28,
   "metadata": {},
   "outputs": [
    {
     "data": {
      "text/plain": [
       "2"
      ]
     },
     "execution_count": 28,
     "metadata": {},
     "output_type": "execute_result"
    }
   ],
   "source": [
    "t.count(1)"
   ]
  },
  {
   "cell_type": "code",
   "execution_count": 30,
   "metadata": {},
   "outputs": [
    {
     "data": {
      "text/plain": [
       "2"
      ]
     },
     "execution_count": 30,
     "metadata": {},
     "output_type": "execute_result"
    }
   ],
   "source": [
    "t.index(2) # returns the index of the first time the value appeared in the tuple "
   ]
  },
  {
   "cell_type": "code",
   "execution_count": 33,
   "metadata": {
    "collapsed": true
   },
   "outputs": [],
   "source": [
    "# unlike lists, tuple are immmutable i.e. you cannot swith a number for a new one t[1]= 3 for example\n",
    "# that's why tuples are used in indexing data, data will not be moved/changed once stored in a tuple AKA data integrity\n",
    "\n"
   ]
  },
  {
   "cell_type": "code",
   "execution_count": 8,
   "metadata": {
    "collapsed": true
   },
   "outputs": [],
   "source": [
    "## Sets \n",
    "myset = set()"
   ]
  },
  {
   "cell_type": "code",
   "execution_count": 9,
   "metadata": {},
   "outputs": [
    {
     "data": {
      "text/plain": [
       "{0, 1, 2, 3, 4, 5, 6, 7, 8, 9}"
      ]
     },
     "execution_count": 9,
     "metadata": {},
     "output_type": "execute_result"
    }
   ],
   "source": [
    "for i in range (10):\n",
    "    myset.add(i)\n",
    "myset\n",
    "myset.add(1)\n",
    "myset ## the same nubmer/value could be added once/unique, unlike lists and tuples "
   ]
  },
  {
   "cell_type": "code",
   "execution_count": null,
   "metadata": {
    "collapsed": true
   },
   "outputs": [],
   "source": []
  },
  {
   "cell_type": "code",
   "execution_count": 54,
   "metadata": {},
   "outputs": [
    {
     "data": {
      "text/plain": [
       "[0, 1, 2, 3, 4, 5, 6, 7, 8, 9]"
      ]
     },
     "execution_count": 54,
     "metadata": {},
     "output_type": "execute_result"
    }
   ],
   "source": [
    "mylist = []\n",
    "for i in myset:\n",
    "    mylist.append(i)\n",
    "mylist ## converted a set into a list"
   ]
  },
  {
   "cell_type": "code",
   "execution_count": 62,
   "metadata": {
    "collapsed": true
   },
   "outputs": [],
   "source": [
    "mydict = {}"
   ]
  },
  {
   "cell_type": "code",
   "execution_count": 66,
   "metadata": {},
   "outputs": [
    {
     "data": {
      "text/plain": [
       "{0: 0, 1: 1, 2: 4, 3: 9, 4: 16, 5: 25, 6: 36, 7: 49, 8: 64, 9: 81}"
      ]
     },
     "execution_count": 66,
     "metadata": {},
     "output_type": "execute_result"
    }
   ],
   "source": [
    "for i in mylist:\n",
    "    mydict[i]=mylist[i]**2\n",
    "    \n",
    "\n",
    "mydict ## converted a list into a dictionary"
   ]
  },
  {
   "cell_type": "code",
   "execution_count": 68,
   "metadata": {},
   "outputs": [
    {
     "data": {
      "text/plain": [
       "{0, 1, 2, 3, 4, 5, 6, 7, 8, 9}"
      ]
     },
     "execution_count": 68,
     "metadata": {},
     "output_type": "execute_result"
    }
   ],
   "source": [
    "set(mydict)  ## convert a list, tuple, dict to a set (grab unique values only)"
   ]
  },
  {
   "cell_type": "code",
   "execution_count": 73,
   "metadata": {
    "collapsed": true
   },
   "outputs": [],
   "source": [
    "s = set(\"Mississipi\")\n"
   ]
  },
  {
   "cell_type": "code",
   "execution_count": 78,
   "metadata": {},
   "outputs": [
    {
     "name": "stdout",
     "output_type": "stream",
     "text": [
      "S\n",
      "P\n",
      "I\n",
      "M\n"
     ]
    }
   ],
   "source": [
    "for i in s: \n",
    "   print (i.capitalize())"
   ]
  },
  {
   "cell_type": "code",
   "execution_count": 79,
   "metadata": {},
   "outputs": [
    {
     "data": {
      "text/plain": [
       "set"
      ]
     },
     "execution_count": 79,
     "metadata": {},
     "output_type": "execute_result"
    }
   ],
   "source": [
    "type(s)"
   ]
  },
  {
   "cell_type": "code",
   "execution_count": 80,
   "metadata": {},
   "outputs": [
    {
     "data": {
      "text/plain": [
       "False"
      ]
     },
     "execution_count": 80,
     "metadata": {},
     "output_type": "execute_result"
    }
   ],
   "source": [
    "## Boolean\n",
    "True\n",
    "False"
   ]
  },
  {
   "cell_type": "code",
   "execution_count": 87,
   "metadata": {},
   "outputs": [
    {
     "data": {
      "text/plain": [
       "False"
      ]
     },
     "execution_count": 87,
     "metadata": {},
     "output_type": "execute_result"
    }
   ],
   "source": [
    "1>2"
   ]
  },
  {
   "cell_type": "code",
   "execution_count": 89,
   "metadata": {
    "collapsed": true
   },
   "outputs": [],
   "source": [
    "s = None ## place holder for s without having to define it "
   ]
  },
  {
   "cell_type": "code",
   "execution_count": 4,
   "metadata": {
    "collapsed": true
   },
   "outputs": [],
   "source": [
    "mylist = None"
   ]
  },
  {
   "cell_type": "code",
   "execution_count": 5,
   "metadata": {},
   "outputs": [
    {
     "name": "stdout",
     "output_type": "stream",
     "text": [
      "None\n"
     ]
    }
   ],
   "source": [
    "print (mylist)"
   ]
  },
  {
   "cell_type": "code",
   "execution_count": 3,
   "metadata": {},
   "outputs": [
    {
     "data": {
      "text/plain": [
       "[1, 2, 4, 8, 16, 32, 64]"
      ]
     },
     "execution_count": 3,
     "metadata": {},
     "output_type": "execute_result"
    }
   ],
   "source": [
    "mylist = []\n",
    "i = 1\n",
    "while i <100: \n",
    "    mylist.append(i)\n",
    "    i+=i\n",
    "mylist "
   ]
  },
  {
   "cell_type": "code",
   "execution_count": 1,
   "metadata": {},
   "outputs": [
    {
     "data": {
      "text/plain": [
       "[3, 3, 3]"
      ]
     },
     "execution_count": 1,
     "metadata": {},
     "output_type": "execute_result"
    }
   ],
   "source": [
    "[3]*3"
   ]
  },
  {
   "cell_type": "code",
   "execution_count": 4,
   "metadata": {},
   "outputs": [
    {
     "data": {
      "text/plain": [
       "[1, 2, 4, 8, 16, 32, 64]"
      ]
     },
     "execution_count": 4,
     "metadata": {},
     "output_type": "execute_result"
    }
   ],
   "source": [
    "sorted(mylist) ## instead of using mylist.sort()"
   ]
  },
  {
   "cell_type": "code",
   "execution_count": 23,
   "metadata": {},
   "outputs": [
    {
     "name": "stdout",
     "output_type": "stream",
     "text": [
      "im not hungry\n"
     ]
    }
   ],
   "source": [
    "# if,elif,else \n",
    "hungry = False\n",
    "if hungry: \n",
    "    print (\"Feed Me!\")\n",
    "else:\n",
    "    print (\"im not hungry\")\n"
   ]
  },
  {
   "cell_type": "code",
   "execution_count": 7,
   "metadata": {},
   "outputs": [
    {
     "data": {
      "text/plain": [
       "False"
      ]
     },
     "execution_count": 7,
     "metadata": {},
     "output_type": "execute_result"
    }
   ],
   "source": []
  },
  {
   "cell_type": "code",
   "execution_count": 3,
   "metadata": {
    "collapsed": true
   },
   "outputs": [],
   "source": [
    "from random import randint as ri\n",
    "\n"
   ]
  },
  {
   "cell_type": "code",
   "execution_count": 80,
   "metadata": {},
   "outputs": [
    {
     "data": {
      "text/plain": [
       "695"
      ]
     },
     "execution_count": 80,
     "metadata": {},
     "output_type": "execute_result"
    }
   ],
   "source": [
    "list = []\n",
    "for i in range (0,10):\n",
    "    list.append (ri(0,100))\n",
    "\n",
    "list_sum = 0\n",
    "for i in list:\n",
    "    list_sum+=i\n",
    "list_sum\n"
   ]
  },
  {
   "cell_type": "code",
   "execution_count": 57,
   "metadata": {},
   "outputs": [
    {
     "name": "stdout",
     "output_type": "stream",
     "text": [
      "odd number : 39\n",
      "even number : 58\n",
      "odd number : 25\n",
      "odd number : 13\n",
      "odd number : 25\n",
      "odd number : 45\n",
      "even number : 8\n",
      "odd number : 83\n",
      "even number : 30\n",
      "odd number : 37\n"
     ]
    }
   ],
   "source": [
    "for i in list:\n",
    "    if i%2==0:\n",
    "        print (f\"even number : {i}\")\n",
    "    else:     \n",
    "        print (f\"odd number : {i}\")\n",
    "                "
   ]
  },
  {
   "cell_type": "code",
   "execution_count": 69,
   "metadata": {},
   "outputs": [
    {
     "data": {
      "text/plain": [
       "465"
      ]
     },
     "execution_count": 69,
     "metadata": {},
     "output_type": "execute_result"
    }
   ],
   "source": []
  },
  {
   "cell_type": "code",
   "execution_count": 21,
   "metadata": {
    "collapsed": true
   },
   "outputs": [],
   "source": [
    "##5 tips for Python interview questions: \n",
    "#1 brute force solution, not efficient\n",
    "\n",
    "list_1 =[-1,3,8,4, 9,5]\n",
    "list_2 =[4,1,2,10,5,20]\n",
    "def sum (list_1, list_2, target):\n",
    "    for a in list_1:\n",
    "        for b in list_2: \n",
    "            if (a+b)+1 == target or (a+b)-1 == target:\n",
    "                print (a, b)\n",
    "   \n",
    "                    \n",
    "        \n",
    "        "
   ]
  },
  {
   "cell_type": "code",
   "execution_count": 22,
   "metadata": {},
   "outputs": [
    {
     "name": "stdout",
     "output_type": "stream",
     "text": [
      "3 20\n",
      "5 20\n"
     ]
    }
   ],
   "source": [
    "sum(list_1, list_2, 24)"
   ]
  },
  {
   "cell_type": "code",
   "execution_count": 32,
   "metadata": {},
   "outputs": [
    {
     "name": "stdout",
     "output_type": "stream",
     "text": [
      "[[-1, 4], [-1, 1], [-1, 2], [-1, 10], [-1, 5], [-1, 20], [3, 4], [3, 1], [3, 2], [3, 10], [3, 5], [3, 20], [8, 4], [8, 1], [8, 2], [8, 10], [8, 5], [8, 20], [4, 4], [4, 1], [4, 2], [4, 10], [4, 5], [4, 20], [9, 4], [9, 1], [9, 2], [9, 10], [9, 5], [9, 20], [5, 4], [5, 1], [5, 2], [5, 10], [5, 5], [5, 20]]\n"
     ]
    }
   ],
   "source": [
    "new_list = []\n",
    "for a in list_1: \n",
    "    for b in list_2:\n",
    "        new_list.append([a,b])\n",
    "\n",
    "print (new_list)"
   ]
  },
  {
   "cell_type": "code",
   "execution_count": 34,
   "metadata": {},
   "outputs": [
    {
     "name": "stdout",
     "output_type": "stream",
     "text": [
      "4\n",
      "1\n",
      "2\n",
      "10\n",
      "5\n",
      "20\n",
      "4\n",
      "1\n",
      "2\n",
      "10\n",
      "5\n",
      "20\n",
      "4\n",
      "1\n",
      "2\n",
      "10\n",
      "5\n",
      "20\n",
      "4\n",
      "1\n",
      "2\n",
      "10\n",
      "5\n",
      "20\n",
      "4\n",
      "1\n",
      "2\n",
      "10\n",
      "5\n",
      "20\n",
      "4\n",
      "1\n",
      "2\n",
      "10\n",
      "5\n",
      "20\n"
     ]
    }
   ],
   "source": [
    "## list hackinbg = calling part of the item in the list\n",
    "for (a,b) in new_list:\n",
    "    print (b)"
   ]
  },
  {
   "cell_type": "code",
   "execution_count": 35,
   "metadata": {
    "collapsed": true
   },
   "outputs": [],
   "source": [
    "## tuple impackiing / hackinbg\n",
    "\n",
    "items = {\"apples\":1.5, \"pears\":3.1, \"oranges\":5.6}"
   ]
  },
  {
   "cell_type": "code",
   "execution_count": 38,
   "metadata": {},
   "outputs": [
    {
     "name": "stdout",
     "output_type": "stream",
     "text": [
      "1.5\n",
      "3.1\n",
      "5.6\n"
     ]
    }
   ],
   "source": [
    "for fruit, price in items.items(): ## note that you need to add the .items()\n",
    "    print (price)"
   ]
  },
  {
   "cell_type": "code",
   "execution_count": 3,
   "metadata": {
    "collapsed": true
   },
   "outputs": [],
   "source": [
    "## use pass as a place holder \n",
    "for i in range (1,10):\n",
    "    pass\n",
    "\n"
   ]
  },
  {
   "cell_type": "code",
   "execution_count": 9,
   "metadata": {},
   "outputs": [
    {
     "name": "stdout",
     "output_type": "stream",
     "text": [
      "m\n",
      "o\n",
      "h\n",
      "m\n",
      "e\n",
      "d\n"
     ]
    }
   ],
   "source": [
    "## use continue to skipe a value \n",
    "myname=\"mohamed\"\n",
    "for letter in myname:\n",
    "    if letter == \"a\":\n",
    "        continue\n",
    "    print (letter)"
   ]
  },
  {
   "cell_type": "code",
   "execution_count": 6,
   "metadata": {},
   "outputs": [
    {
     "name": "stdout",
     "output_type": "stream",
     "text": [
      "[0, 4, 8, 12, 16, 20, 24, 28, 32, 36, 40, 44, 48, 52, 56, 60, 64, 68, 72, 76, 80, 84, 88, 92, 96]\n"
     ]
    }
   ],
   "source": [
    "# range with a step side exp 4\n",
    "list_1=[]\n",
    "for num in range (0,100,4):\n",
    "    list_1.append(num)\n",
    "print (list_1)"
   ]
  },
  {
   "cell_type": "code",
   "execution_count": 7,
   "metadata": {},
   "outputs": [
    {
     "data": {
      "text/plain": [
       "[0, 2, 4, 6, 8]"
      ]
     },
     "execution_count": 7,
     "metadata": {},
     "output_type": "execute_result"
    }
   ],
   "source": [
    "list(range(0,10,2))"
   ]
  },
  {
   "cell_type": "code",
   "execution_count": 17,
   "metadata": {},
   "outputs": [
    {
     "name": "stdout",
     "output_type": "stream",
     "text": [
      "index_count 0 letter is m\n",
      "index_count 1 letter is o\n",
      "index_count 2 letter is h\n",
      "index_count 3 letter is a\n",
      "index_count 4 letter is m\n",
      "index_count 5 letter is e\n",
      "index_count 6 letter is d\n"
     ]
    }
   ],
   "source": [
    "#enumerate to get the index #\n",
    "\n",
    "index_count=0\n",
    "for letter in (\"mohamed\"):\n",
    "    print ( \"index_count {} letter is {}\".format(index_count, letter))\n",
    "    index_count+=1\n"
   ]
  },
  {
   "cell_type": "code",
   "execution_count": 30,
   "metadata": {},
   "outputs": [
    {
     "data": {
      "text/plain": [
       "0    <enumerate object at 0x10ece5ca8>\n",
       "1    <enumerate object at 0x10ece5cf0>\n",
       "2    <enumerate object at 0x10ece5b40>\n",
       "3    <enumerate object at 0x10ece5a68>\n",
       "4    <enumerate object at 0x10ece5990>\n",
       "5    <enumerate object at 0x10ece5af8>\n",
       "6    <enumerate object at 0x10ece5c60>\n",
       "dtype: object"
      ]
     },
     "execution_count": 30,
     "metadata": {},
     "output_type": "execute_result"
    }
   ],
   "source": [
    "import pandas as pd\n",
    "word = \"mohamed\"\n",
    "df = pd.Series(enumerate(word) for i in word);\n",
    "df \n",
    "\n"
   ]
  },
  {
   "cell_type": "code",
   "execution_count": 31,
   "metadata": {},
   "outputs": [
    {
     "data": {
      "text/plain": [
       "[(0, 0), (2, 1), (4, 2), (6, 3), (8, 4)]"
      ]
     },
     "execution_count": 31,
     "metadata": {},
     "output_type": "execute_result"
    }
   ],
   "source": [
    "## zip to connnect values\n",
    "list1=list(range(0,10,2))\n",
    "list2=list(range(0,10,1))\n",
    "list3=list(zip(list1,list2))\n",
    "list3"
   ]
  },
  {
   "cell_type": "code",
   "execution_count": 45,
   "metadata": {},
   "outputs": [
    {
     "data": {
      "text/plain": [
       "False"
      ]
     },
     "execution_count": 45,
     "metadata": {},
     "output_type": "execute_result"
    }
   ],
   "source": [
    "## in to check value in a list \n",
    "\"n\" in \"mohamed\""
   ]
  },
  {
   "cell_type": "code",
   "execution_count": 46,
   "metadata": {},
   "outputs": [
    {
     "data": {
      "text/plain": [
       "True"
      ]
     },
     "execution_count": 46,
     "metadata": {},
     "output_type": "execute_result"
    }
   ],
   "source": [
    "\"m\" in \"mohamed\""
   ]
  },
  {
   "cell_type": "code",
   "execution_count": 52,
   "metadata": {},
   "outputs": [
    {
     "data": {
      "text/plain": [
       "((0, 0), (8, 4))"
      ]
     },
     "execution_count": 52,
     "metadata": {},
     "output_type": "execute_result"
    }
   ],
   "source": [
    "#min / max function\n",
    "min(list3), max(list3)"
   ]
  },
  {
   "cell_type": "code",
   "execution_count": 23,
   "metadata": {
    "collapsed": true
   },
   "outputs": [],
   "source": [
    "# shuffle the existing list\n",
    "from random import shuffle\n"
   ]
  },
  {
   "cell_type": "code",
   "execution_count": 24,
   "metadata": {
    "collapsed": true
   },
   "outputs": [],
   "source": [
    "mylist = [1,2,3]"
   ]
  },
  {
   "cell_type": "code",
   "execution_count": 25,
   "metadata": {
    "collapsed": true
   },
   "outputs": [],
   "source": [
    "shuffle(mylist)"
   ]
  },
  {
   "cell_type": "code",
   "execution_count": 16,
   "metadata": {},
   "outputs": [
    {
     "data": {
      "text/plain": [
       "[2, 1, 3]"
      ]
     },
     "execution_count": 16,
     "metadata": {},
     "output_type": "execute_result"
    }
   ],
   "source": [
    "mylist "
   ]
  },
  {
   "cell_type": "code",
   "execution_count": 43,
   "metadata": {},
   "outputs": [
    {
     "data": {
      "text/plain": [
       "['m', 'o', 'h', 'a', 'm', 'e', 'd']"
      ]
     },
     "execution_count": 43,
     "metadata": {},
     "output_type": "execute_result"
    }
   ],
   "source": [
    "## list comprehension\n",
    "name_list=(list(\"mohamed\"))\n",
    "name_list"
   ]
  },
  {
   "cell_type": "code",
   "execution_count": 44,
   "metadata": {},
   "outputs": [
    {
     "name": "stdout",
     "output_type": "stream",
     "text": [
      "(0, 'm')\n",
      "(1, 'o')\n",
      "(2, 'h')\n",
      "(3, 'a')\n",
      "(4, 'm')\n",
      "(5, 'e')\n",
      "(6, 'd')\n"
     ]
    }
   ],
   "source": [
    "for item in enumerate(name_list):\n",
    "    print (item)\n",
    "    "
   ]
  },
  {
   "cell_type": "code",
   "execution_count": 37,
   "metadata": {},
   "outputs": [
    {
     "data": {
      "text/plain": [
       "[95.0, 96.8, 99.5]"
      ]
     },
     "execution_count": 37,
     "metadata": {},
     "output_type": "execute_result"
    }
   ],
   "source": [
    "celcious = [35,36,37.5]\n",
    "fahrenheit = [((9/5) * items + 32) for items in celcious]\n",
    "fahrenheit"
   ]
  },
  {
   "cell_type": "code",
   "execution_count": 58,
   "metadata": {
    "collapsed": true
   },
   "outputs": [],
   "source": [
    "mylist =[x*y for x in [1,2,3] for y in [10,100,1000]]"
   ]
  },
  {
   "cell_type": "code",
   "execution_count": 59,
   "metadata": {},
   "outputs": [
    {
     "data": {
      "text/plain": [
       "[10, 100, 1000, 20, 200, 2000, 30, 300, 3000]"
      ]
     },
     "execution_count": 59,
     "metadata": {},
     "output_type": "execute_result"
    }
   ],
   "source": [
    "mylist"
   ]
  },
  {
   "cell_type": "code",
   "execution_count": 2,
   "metadata": {
    "collapsed": true
   },
   "outputs": [],
   "source": [
    "from matplotlib import pyplot as plt\n"
   ]
  },
  {
   "cell_type": "code",
   "execution_count": 3,
   "metadata": {
    "collapsed": true
   },
   "outputs": [],
   "source": [
    "mylist_x= [1, 2, 4, 8, 16, 32, 64]"
   ]
  },
  {
   "cell_type": "code",
   "execution_count": 4,
   "metadata": {},
   "outputs": [
    {
     "data": {
      "image/png": "[encoded data removed]",
      "text/plain": [
       "<Figure size 432x288 with 1 Axes>"
      ]
     },
     "metadata": {},
     "output_type": "display_data"
    }
   ],
   "source": [
    "## Creating plots using matplotlib: use this url: https://www.youtube.com/watch?v=UO98lJQ3QGI\n",
    "\n",
    "from matplotlib  import pyplot as plt \n",
    "plt.style.use('fivethirtyeight') # use print (plt.style.available) to see which styles are available, see output below \n",
    "## ['seaborn-dark', 'seaborn-darkgrid', 'seaborn-ticks', 'fivethirtyeight', 'seaborn-whitegrid', 'classic', '_classic_test', 'fast', 'seaborn-talk', 'seaborn-dark-palette', 'seaborn-bright', 'seaborn-pastel', 'grayscale', 'seaborn-notebook', 'ggplot', 'seaborn-colorblind', 'seaborn-muted', 'seaborn', 'Solarize_Light2', 'seaborn-paper', 'bmh', 'seaborn-white', 'dark_background', 'seaborn-poster', 'seaborn-deep']\n",
    "mylist_x=[]\n",
    "mylist_y=[]\n",
    "for i in range (0,10):\n",
    "\tif i<=5:\n",
    "\t\tmylist_x.append(i)\n",
    "\t\tmylist_y.append(i**3)\n",
    "\telse :\n",
    "\t\tmylist_x.append(i*2)\n",
    "\t\tmylist_y.append(i*3)\n",
    "\n",
    "\n",
    "plt.plot(mylist_x,mylist_y, color = 'b', linestyle='--', linewidth=1, marker = \"o\", label= \"Xs to Ys\") ## '-' for solid line, \"--\" for dottend line, letters for colors more options url: https://matplotlib.org/api/_as_gen/matplotlib.pyplot.plot.html \n",
    "plt.title(\"my first graph\")\n",
    "plt.xlabel(\"Xs\")\n",
    "plt.ylabel(\"Ys\")\n",
    "plt.legend()\n",
    "plt.grid()\n",
    "plt.show()\n"
   ]
  },
  {
   "cell_type": "code",
   "execution_count": 5,
   "metadata": {},
   "outputs": [
    {
     "data": {
      "image/png": "[encoded data removed]",
      "text/plain": [
       "<Figure size 432x288 with 1 Axes>"
      ]
     },
     "metadata": {},
     "output_type": "display_data"
    }
   ],
   "source": [
    "plt.plot([1,2,3], [1,2,3], 'b-', label='line 1', linewidth=2)\n",
    "plt.plot([1,2,3], [1,4,9], 'r',  label='line 2')\n",
    "plt.show()"
   ]
  },
  {
   "cell_type": "code",
   "execution_count": 6,
   "metadata": {},
   "outputs": [
    {
     "name": "stdout",
     "output_type": "stream",
     "text": [
      "play again Y/N? :y\n",
      "3\n",
      "play again Y/N? :y\n",
      "1\n",
      "3\n",
      "play again Y/N? :n\n",
      "Game over\n"
     ]
    }
   ],
   "source": [
    "## random fun exercise \n",
    "from random import randint as ri \n",
    "playagain = str (input (\"play again Y/N? :\"))\n",
    "while playagain in (\"Y\", \"y\", \"yes\", \"Yes\", \"YES\"):\n",
    "    print (ri(1,6))\n",
    "    playagain = str (input (\"play again Y/N? :\"))\n",
    "    if playagain in (\"Y\", \"y\", \"yes\", \"Yes\", \"YES\"):\n",
    "        print (ri(1,6))\n",
    "    else:\n",
    "        print (\"Game over\")"
   ]
  },
  {
   "cell_type": "code",
   "execution_count": 1,
   "metadata": {},
   "outputs": [
    {
     "name": "stdout",
     "output_type": "stream",
     "text": [
      "enter salart : 676660\n",
      "enter tax rate %:30\n",
      "annual net_income = 473662.0\n",
      "monthly net_income = 39471.83\n"
     ]
    }
   ],
   "source": [
    "income = int(input (\"enter salart : \"))\n",
    "tax = int(input (\"enter tax rate %:\"))\n",
    "\n",
    "net_income = income*(1-(tax/100))\n",
    "print (\"annual net_income =\", round(net_income,2))\n",
    "print (\"monthly net_income =\", round(net_income/12,2))"
   ]
  },
  {
   "cell_type": "code",
   "execution_count": 9,
   "metadata": {},
   "outputs": [
    {
     "ename": "SyntaxError",
     "evalue": "invalid syntax (<ipython-input-9-2d7746b6fb99>, line 3)",
     "output_type": "error",
     "traceback": [
      "\u001b[0;36m  File \u001b[0;32m\"<ipython-input-9-2d7746b6fb99>\"\u001b[0;36m, line \u001b[0;32m3\u001b[0m\n\u001b[0;31m    %%writefile myfile.txt\u001b[0m\n\u001b[0m    ^\u001b[0m\n\u001b[0;31mSyntaxError\u001b[0m\u001b[0;31m:\u001b[0m invalid syntax\n"
     ]
    }
   ],
   "source": [
    "## write/read a file \n",
    "\n",
    "%%writefile myfile.txt\n",
    "hello this a textfile\n",
    "you are getting better at coding \n",
    "I love you my cat"
   ]
  },
  {
   "cell_type": "code",
   "execution_count": 14,
   "metadata": {
    "collapsed": true
   },
   "outputs": [],
   "source": [
    "myfile = open (\"myfile.txt\") # you will get the famous error [Errno 2] No such file or directory: if the file is N/A\n",
    "# to avoid error 2, use pwd to know  the current directory"
   ]
  },
  {
   "cell_type": "code",
   "execution_count": 13,
   "metadata": {},
   "outputs": [
    {
     "ename": "FileNotFoundError",
     "evalue": "[Errno 2] No such file or directory: '/Users/mohamedsellamia/python/hello.txt'",
     "output_type": "error",
     "traceback": [
      "\u001b[0;31m---------------------------------------------------------------------------\u001b[0m",
      "\u001b[0;31mFileNotFoundError\u001b[0m                         Traceback (most recent call last)",
      "\u001b[0;32m<ipython-input-13-2844c99059af>\u001b[0m in \u001b[0;36m<module>\u001b[0;34m()\u001b[0m\n\u001b[0;32m----> 1\u001b[0;31m \u001b[0mmyfile\u001b[0m\u001b[0;34m=\u001b[0m \u001b[0mopen\u001b[0m \u001b[0;34m(\u001b[0m\u001b[0;34m\"/Users/mohamedsellamia/python/hello.txt\"\u001b[0m\u001b[0;34m)\u001b[0m \u001b[0;31m# to open the file hello.txt that I created\u001b[0m\u001b[0;34m\u001b[0m\u001b[0m\n\u001b[0m",
      "\u001b[0;31mFileNotFoundError\u001b[0m: [Errno 2] No such file or directory: '/Users/mohamedsellamia/python/hello.txt'"
     ]
    }
   ],
   "source": [
    "myfile= open (\"/Users/mohamedsellamia/python/hello.txt\") # to open the file hello.txt that I created"
   ]
  },
  {
   "cell_type": "code",
   "execution_count": null,
   "metadata": {
    "collapsed": true
   },
   "outputs": [],
   "source": [
    "\n",
    "myfile.read() # to read text content of a file\n"
   ]
  },
  {
   "cell_type": "code",
   "execution_count": 3,
   "metadata": {},
   "outputs": [
    {
     "ename": "FileNotFoundError",
     "evalue": "[Errno 2] No such file or directory: '/Users/mohamedsellamia/python/example.py'",
     "output_type": "error",
     "traceback": [
      "\u001b[0;31m---------------------------------------------------------------------------\u001b[0m",
      "\u001b[0;31mFileNotFoundError\u001b[0m                         Traceback (most recent call last)",
      "\u001b[0;32m<ipython-input-3-4debc4a1693c>\u001b[0m in \u001b[0;36m<module>\u001b[0;34m()\u001b[0m\n\u001b[0;32m----> 1\u001b[0;31m \u001b[0mmyfile\u001b[0m\u001b[0;34m=\u001b[0m \u001b[0mopen\u001b[0m \u001b[0;34m(\u001b[0m\u001b[0;34m\"/Users/mohamedsellamia/python/example.py\"\u001b[0m\u001b[0;34m)\u001b[0m\u001b[0;34m\u001b[0m\u001b[0m\n\u001b[0m",
      "\u001b[0;31mFileNotFoundError\u001b[0m: [Errno 2] No such file or directory: '/Users/mohamedsellamia/python/example.py'"
     ]
    }
   ],
   "source": [
    "myfile= open (\"/Users/mohamedsellamia/python/example.py\")"
   ]
  },
  {
   "cell_type": "code",
   "execution_count": null,
   "metadata": {
    "collapsed": true
   },
   "outputs": [],
   "source": [
    "myfile.read() # you will get '' if you re-read a file, you need to reset the curser to the beg of the file seek(0)"
   ]
  },
  {
   "cell_type": "code",
   "execution_count": null,
   "metadata": {
    "collapsed": true
   },
   "outputs": [],
   "source": [
    "\n",
    "myfile.seek(0)"
   ]
  },
  {
   "cell_type": "code",
   "execution_count": null,
   "metadata": {
    "collapsed": true
   },
   "outputs": [],
   "source": [
    "myfile.readlines() # read line by line in a list"
   ]
  },
  {
   "cell_type": "code",
   "execution_count": 2,
   "metadata": {},
   "outputs": [
    {
     "ename": "NameError",
     "evalue": "name 'myfile' is not defined",
     "output_type": "error",
     "traceback": [
      "\u001b[0;31m---------------------------------------------------------------------------\u001b[0m",
      "\u001b[0;31mNameError\u001b[0m                                 Traceback (most recent call last)",
      "\u001b[0;32m<ipython-input-2-fb20351fd956>\u001b[0m in \u001b[0;36m<module>\u001b[0;34m()\u001b[0m\n\u001b[0;32m----> 1\u001b[0;31m \u001b[0mmyfile\u001b[0m\u001b[0;34m.\u001b[0m\u001b[0mclose\u001b[0m\u001b[0;34m(\u001b[0m\u001b[0;34m)\u001b[0m \u001b[0;31m# to close the file an avoid error if you try to delete it\u001b[0m\u001b[0;34m\u001b[0m\u001b[0m\n\u001b[0m",
      "\u001b[0;31mNameError\u001b[0m: name 'myfile' is not defined"
     ]
    }
   ],
   "source": [
    "myfile.close() # to close the file an avoid error if you try to delete it\n"
   ]
  },
  {
   "cell_type": "code",
   "execution_count": 1,
   "metadata": {},
   "outputs": [
    {
     "ename": "FileNotFoundError",
     "evalue": "[Errno 2] No such file or directory: '/Users/mohamedsellamia/python/example.py'",
     "output_type": "error",
     "traceback": [
      "\u001b[0;31m---------------------------------------------------------------------------\u001b[0m",
      "\u001b[0;31mFileNotFoundError\u001b[0m                         Traceback (most recent call last)",
      "\u001b[0;32m<ipython-input-1-4e3e32bf1d00>\u001b[0m in \u001b[0;36m<module>\u001b[0;34m()\u001b[0m\n\u001b[0;32m----> 1\u001b[0;31m \u001b[0;32mwith\u001b[0m \u001b[0mopen\u001b[0m \u001b[0;34m(\u001b[0m\u001b[0;34m\"/Users/mohamedsellamia/python/example.py\"\u001b[0m\u001b[0;34m,\u001b[0m \u001b[0mmode\u001b[0m\u001b[0;34m=\u001b[0m\u001b[0;34m'r'\u001b[0m\u001b[0;34m)\u001b[0m \u001b[0;32mas\u001b[0m \u001b[0mmy_new_file\u001b[0m\u001b[0;34m:\u001b[0m \u001b[0;31m# mode is r or w or a or r+\u001b[0m\u001b[0;34m\u001b[0m\u001b[0m\n\u001b[0m\u001b[1;32m      2\u001b[0m     \u001b[0mcontent\u001b[0m \u001b[0;34m=\u001b[0m \u001b[0mmy_new_file\u001b[0m\u001b[0;34m.\u001b[0m\u001b[0mread\u001b[0m\u001b[0;34m(\u001b[0m\u001b[0;34m)\u001b[0m\u001b[0;34m\u001b[0m\u001b[0m\n\u001b[1;32m      3\u001b[0m \u001b[0mcontent\u001b[0m\u001b[0;34m\u001b[0m\u001b[0m\n",
      "\u001b[0;31mFileNotFoundError\u001b[0m: [Errno 2] No such file or directory: '/Users/mohamedsellamia/python/example.py'"
     ]
    }
   ],
   "source": [
    "with open (\"/Users/mohamedsellamia/python/example.py\", mode='r') as my_new_file: # mode is r or w or a or r+\n",
    "    content = my_new_file.read()\n",
    "content\n"
   ]
  },
  {
   "cell_type": "code",
   "execution_count": null,
   "metadata": {
    "collapsed": true
   },
   "outputs": [],
   "source": [
    "with open (\"/Users/mohamedsellamia/python/hello.txt\", mode='r') as my_new_file: # mode is r or w or a or r+\n",
    "    content = my_new_file.read()"
   ]
  },
  {
   "cell_type": "code",
   "execution_count": null,
   "metadata": {
    "collapsed": true
   },
   "outputs": [],
   "source": [
    "content"
   ]
  },
  {
   "cell_type": "code",
   "execution_count": 6,
   "metadata": {},
   "outputs": [
    {
     "name": "stdout",
     "output_type": "stream",
     "text": [
      "Writing myfile.txt\n"
     ]
    }
   ],
   "source": [
    "%%writefile myfile.txt\n",
    "hello my cat"
   ]
  },
  {
   "cell_type": "code",
   "execution_count": 16,
   "metadata": {},
   "outputs": [
    {
     "data": {
      "text/plain": [
       "'/Users/msellamia/python'"
      ]
     },
     "execution_count": 16,
     "metadata": {},
     "output_type": "execute_result"
    }
   ],
   "source": [
    "pwd  myfile.txt"
   ]
  },
  {
   "cell_type": "code",
   "execution_count": 24,
   "metadata": {
    "collapsed": true
   },
   "outputs": [],
   "source": [
    "# exercises \n",
    "text = \"WASHINGTON — President Trump said he would increase taxes on all Chinese goods and demanded that American companies stop doing business with China as his anger toward Beijing and his Federal Reserve chair boiled over on Friday. Twelve hours after China said it would retaliate against Mr. Trump’s next round of tariffs by raising taxes on American goods, Mr. Trump said he would bolster existing tariffs on $250 billion worth of Chinese goods to 30 percent from 25 percent on Oct. 1. And he said the United States would tax an additional $300 billion worth of Chinese imports at a 15 percent rate, rather than the 10 percent he had initially planned. Those levies go into effect on Sept. 1. “China should not have put new Tariffs on 75 BILLION DOLLARS of United States product (politically motivated!)” Mr. Trump said on Twitter. “Starting on October 1st, the 250 BILLION DOLLARS of goods and products from China, currently being taxed at 25%, will be taxed at 30%.” In a series of angry tweets earlier in the day, Mr. Trump called for American companies to cut ties with Beijing and said the United States would be economically stronger without China. Those comments sent stocks plunging, helping push the market to its fourth straight weekly loss. The president also called the Fed chair, Jerome H. Powell, an “enemy” of the United States and compared him to President Xi Jinping of China, his trade nemesis, after Mr. Powell declined to signal an imminent cut in interest rates. Mr. Trump has been counting on Mr. Powell to help blunt the effect of his trade war by cutting interest rates to keep the economy humming. While Mr. Powell said on Friday that the Fed could push through another cut if the economy weakened further, he suggested that the central bank’s ability to limit economic damage from the president’s trade war was constrained. “My only question is, who is our bigger enemy, Jay Powell or Chairman Xi?” the president tweeted. Mr. Trump’s tariff announcement came after financial markets had closed for the day. But his earlier response to China had already unnerved investors, who worry that the trade war between the world’s two largest economies will further drag on global growth. Stocks fell sharply on Friday, with the S&P 500 closing down 2.6 percent. The Dow Jones industrial average was down slightly more than 2 percent and the technology-heavy Nasdaq index fell 3 percent. Behind the tirade was the growing reality that the type of trade war Mr. Trump once called “easy to win” is proving to be more difficult and economically damaging than the president envisioned. Mr. Trump’s stiff tariffs on Chinese goods have been met with reciprocal levies, hurting American farmers and companies and contributing to a global slowdown. On Friday, China said it would increase tariffs on $75 billion worth of American goods, including crude oil, automobiles and farm products like soybeans, pork and corn in response to Mr. Trump’s plan to tax an additional $300 billion worth of Chinese goods in September and December. The higher rates will only aggravate the financial pain from the trade war, which is already raising prices for businesses and consumers across the globe. Even before the new 30 percent rate, Mr. Trump’s existing tariffs were expected to cost the average American household more than $800 a year, according to research by the Federal Reserve Bank of New York. And Mr. Trump’s next $300 billion tranche will affect consumer products like toys, smartphones and clothing.\""
   ]
  },
  {
   "cell_type": "code",
   "execution_count": 38,
   "metadata": {},
   "outputs": [
    {
     "name": "stdout",
     "output_type": "stream",
     "text": [
      "Trump\n",
      "taxes\n",
      "that\n",
      "toward\n",
      "Twelve\n",
      "Trump’s\n",
      "tariffs\n",
      "taxes\n",
      "Trump\n",
      "tariffs\n",
      "to\n",
      "the\n",
      "tax\n",
      "than\n",
      "the\n",
      "Those\n",
      "Tariffs\n",
      "Trump\n",
      "Twitter.\n",
      "the\n",
      "taxed\n",
      "taxed\n",
      "tweets\n",
      "the\n",
      "Trump\n",
      "to\n",
      "ties\n",
      "the\n",
      "Those\n",
      "the\n",
      "to\n",
      "The\n",
      "the\n",
      "the\n",
      "to\n",
      "trade\n",
      "to\n",
      "Trump\n",
      "to\n",
      "the\n",
      "trade\n",
      "to\n",
      "the\n",
      "that\n",
      "the\n",
      "through\n",
      "the\n",
      "that\n",
      "the\n",
      "to\n",
      "the\n",
      "trade\n",
      "the\n",
      "tweeted.\n",
      "Trump’s\n",
      "tariff\n",
      "the\n",
      "to\n",
      "that\n",
      "the\n",
      "trade\n",
      "the\n",
      "two\n",
      "the\n",
      "The\n",
      "than\n",
      "the\n",
      "technology-heavy\n",
      "the\n",
      "tirade\n",
      "the\n",
      "that\n",
      "the\n",
      "type\n",
      "trade\n",
      "Trump\n",
      "to\n",
      "to\n",
      "than\n",
      "the\n",
      "Trump’s\n",
      "tariffs\n",
      "to\n",
      "tariffs\n",
      "to\n",
      "Trump’s\n",
      "to\n",
      "tax\n",
      "The\n",
      "the\n",
      "the\n",
      "trade\n",
      "the\n",
      "the\n",
      "Trump’s\n",
      "tariffs\n",
      "to\n",
      "the\n",
      "than\n",
      "to\n",
      "the\n",
      "Trump’s\n",
      "tranche\n",
      "toys,\n"
     ]
    }
   ],
   "source": [
    "for word in text.split():\n",
    "    if word[0] in (\"T\", \"t\"):\n",
    "        print (word)"
   ]
  },
  {
   "cell_type": "code",
   "execution_count": 28,
   "metadata": {},
   "outputs": [
    {
     "name": "stdout",
     "output_type": "stream",
     "text": [
      "0\n",
      "2\n",
      "4\n",
      "6\n",
      "8\n",
      "10\n"
     ]
    }
   ],
   "source": [
    "for num in range (0,11):\n",
    "    if num %2 == 0:\n",
    "        print (num)"
   ]
  },
  {
   "cell_type": "code",
   "execution_count": 40,
   "metadata": {
    "collapsed": true
   },
   "outputs": [],
   "source": [
    "list2=[i for i in range (0,50) if i%3==0]\n"
   ]
  },
  {
   "cell_type": "code",
   "execution_count": 41,
   "metadata": {},
   "outputs": [
    {
     "data": {
      "text/plain": [
       "[0, 3, 6, 9, 12, 15, 18, 21, 24, 27, 30, 33, 36, 39, 42, 45, 48]"
      ]
     },
     "execution_count": 41,
     "metadata": {},
     "output_type": "execute_result"
    }
   ],
   "source": [
    "list2"
   ]
  },
  {
   "cell_type": "code",
   "execution_count": 51,
   "metadata": {},
   "outputs": [
    {
     "name": "stdout",
     "output_type": "stream",
     "text": [
      "WASHINGTON\n",
      "not an even word\n",
      "not an even word\n",
      "not an even word\n",
      "said\n",
      "he\n",
      "not an even word\n",
      "increase\n",
      "not an even word\n",
      "on\n",
      "not an even word\n",
      "not an even word\n",
      "not an even word\n",
      "not an even word\n",
      "demanded\n",
      "that\n",
      "American\n",
      "not an even word\n",
      "stop\n",
      "not an even word\n",
      "business\n",
      "with\n",
      "not an even word\n",
      "as\n",
      "not an even word\n",
      "not an even word\n",
      "toward\n",
      "not an even word\n",
      "not an even word\n",
      "not an even word\n",
      "not an even word\n",
      "not an even word\n",
      "not an even word\n",
      "boiled\n",
      "over\n",
      "on\n",
      "not an even word\n",
      "Twelve\n",
      "not an even word\n",
      "not an even word\n",
      "not an even word\n",
      "said\n",
      "it\n",
      "not an even word\n",
      "not an even word\n",
      "not an even word\n",
      "not an even word\n",
      "not an even word\n",
      "next\n",
      "not an even word\n",
      "of\n",
      "not an even word\n",
      "by\n",
      "not an even word\n",
      "not an even word\n",
      "on\n",
      "American\n",
      "goods,\n",
      "not an even word\n",
      "not an even word\n",
      "said\n",
      "he\n",
      "not an even word\n",
      "not an even word\n",
      "existing\n",
      "not an even word\n",
      "on\n",
      "$250\n",
      "not an even word\n",
      "not an even word\n",
      "of\n",
      "not an even word\n",
      "not an even word\n",
      "to\n",
      "30\n",
      "not an even word\n",
      "from\n",
      "25\n",
      "not an even word\n",
      "on\n",
      "Oct.\n",
      "1.\n",
      "not an even word\n",
      "he\n",
      "said\n",
      "not an even word\n",
      "United\n",
      "States\n",
      "not an even word\n",
      "not an even word\n",
      "an\n",
      "additional\n",
      "$300\n",
      "not an even word\n",
      "not an even word\n",
      "of\n",
      "not an even word\n",
      "not an even word\n",
      "at\n",
      "not an even word\n",
      "15\n",
      "not an even word\n",
      "not an even word\n",
      "rather\n",
      "than\n",
      "not an even word\n",
      "10\n",
      "not an even word\n",
      "he\n",
      "not an even word\n",
      "not an even word\n",
      "planned.\n",
      "not an even word\n",
      "levies\n",
      "go\n",
      "into\n",
      "effect\n",
      "on\n",
      "not an even word\n",
      "1.\n",
      "“China\n",
      "should\n",
      "not an even word\n",
      "have\n",
      "not an even word\n",
      "not an even word\n",
      "not an even word\n",
      "on\n",
      "75\n",
      "not an even word\n",
      "not an even word\n",
      "of\n",
      "United\n",
      "States\n",
      "not an even word\n",
      "(politically\n",
      "motivated!)”\n",
      "not an even word\n",
      "not an even word\n",
      "said\n",
      "on\n",
      "Twitter.\n",
      "not an even word\n",
      "on\n",
      "not an even word\n",
      "1st,\n",
      "not an even word\n",
      "not an even word\n",
      "not an even word\n",
      "not an even word\n",
      "of\n",
      "not an even word\n",
      "not an even word\n",
      "products\n",
      "from\n",
      "China,\n",
      "not an even word\n",
      "not an even word\n",
      "not an even word\n",
      "at\n",
      "25%,\n",
      "will\n",
      "be\n",
      "not an even word\n",
      "at\n",
      "not an even word\n",
      "In\n",
      "not an even word\n",
      "series\n",
      "of\n",
      "not an even word\n",
      "tweets\n",
      "not an even word\n",
      "in\n",
      "not an even word\n",
      "day,\n",
      "not an even word\n",
      "not an even word\n",
      "called\n",
      "not an even word\n",
      "American\n",
      "not an even word\n",
      "to\n",
      "not an even word\n",
      "ties\n",
      "with\n",
      "not an even word\n",
      "not an even word\n",
      "said\n",
      "not an even word\n",
      "United\n",
      "States\n",
      "not an even word\n",
      "be\n",
      "economically\n",
      "stronger\n",
      "not an even word\n",
      "China.\n",
      "not an even word\n",
      "comments\n",
      "sent\n",
      "stocks\n",
      "not an even word\n",
      "not an even word\n",
      "push\n",
      "not an even word\n",
      "market\n",
      "to\n",
      "not an even word\n",
      "fourth\n",
      "straight\n",
      "weekly\n",
      "not an even word\n",
      "not an even word\n",
      "not an even word\n",
      "also\n",
      "called\n",
      "not an even word\n",
      "not an even word\n",
      "chair,\n",
      "Jerome\n",
      "H.\n",
      "not an even word\n",
      "an\n",
      "not an even word\n",
      "of\n",
      "not an even word\n",
      "United\n",
      "States\n",
      "not an even word\n",
      "compared\n",
      "not an even word\n",
      "to\n",
      "not an even word\n",
      "Xi\n",
      "not an even word\n",
      "of\n",
      "China,\n",
      "not an even word\n",
      "not an even word\n",
      "nemesis,\n",
      "not an even word\n",
      "not an even word\n",
      "Powell\n",
      "declined\n",
      "to\n",
      "signal\n",
      "an\n",
      "imminent\n",
      "not an even word\n",
      "in\n",
      "interest\n",
      "rates.\n",
      "not an even word\n",
      "not an even word\n",
      "not an even word\n",
      "been\n",
      "counting\n",
      "on\n",
      "not an even word\n",
      "Powell\n",
      "to\n",
      "help\n",
      "not an even word\n",
      "not an even word\n",
      "effect\n",
      "of\n",
      "not an even word\n",
      "not an even word\n",
      "not an even word\n",
      "by\n",
      "not an even word\n",
      "interest\n",
      "not an even word\n",
      "to\n",
      "keep\n",
      "not an even word\n",
      "not an even word\n",
      "humming.\n",
      "not an even word\n",
      "not an even word\n",
      "Powell\n",
      "said\n",
      "on\n",
      "Friday\n",
      "that\n",
      "not an even word\n",
      "not an even word\n",
      "not an even word\n",
      "push\n",
      "not an even word\n",
      "not an even word\n",
      "not an even word\n",
      "if\n",
      "not an even word\n",
      "not an even word\n",
      "weakened\n",
      "further,\n",
      "he\n",
      "not an even word\n",
      "that\n",
      "not an even word\n",
      "not an even word\n",
      "bank’s\n",
      "not an even word\n",
      "to\n",
      "not an even word\n",
      "economic\n",
      "damage\n",
      "from\n",
      "not an even word\n",
      "not an even word\n",
      "not an even word\n",
      "not an even word\n",
      "not an even word\n",
      "constrained.\n",
      "not an even word\n",
      "only\n",
      "question\n",
      "not an even word\n",
      "not an even word\n",
      "is\n",
      "not an even word\n",
      "bigger\n",
      "enemy,\n",
      "not an even word\n",
      "Powell\n",
      "or\n",
      "Chairman\n",
      "Xi?”\n",
      "not an even word\n",
      "not an even word\n",
      "tweeted.\n",
      "not an even word\n",
      "not an even word\n",
      "tariff\n",
      "announcement\n",
      "came\n",
      "not an even word\n",
      "not an even word\n",
      "not an even word\n",
      "not an even word\n",
      "closed\n",
      "not an even word\n",
      "not an even word\n",
      "day.\n",
      "not an even word\n",
      "not an even word\n",
      "not an even word\n",
      "response\n",
      "to\n",
      "not an even word\n",
      "not an even word\n",
      "not an even word\n",
      "unnerved\n",
      "investors,\n",
      "not an even word\n",
      "not an even word\n",
      "that\n",
      "not an even word\n",
      "not an even word\n",
      "not an even word\n",
      "not an even word\n",
      "not an even word\n",
      "not an even word\n",
      "not an even word\n",
      "not an even word\n",
      "not an even word\n",
      "will\n",
      "not an even word\n",
      "drag\n",
      "on\n",
      "global\n",
      "not an even word\n",
      "Stocks\n",
      "fell\n",
      "not an even word\n",
      "on\n",
      "not an even word\n",
      "with\n",
      "not an even word\n",
      "not an even word\n",
      "not an even word\n",
      "not an even word\n",
      "down\n",
      "not an even word\n",
      "percent.\n",
      "not an even word\n",
      "not an even word\n",
      "not an even word\n",
      "industrial\n",
      "not an even word\n",
      "not an even word\n",
      "down\n",
      "slightly\n",
      "more\n",
      "than\n",
      "not an even word\n",
      "not an even word\n",
      "not an even word\n",
      "not an even word\n",
      "technology-heavy\n",
      "Nasdaq\n",
      "not an even word\n",
      "fell\n",
      "not an even word\n",
      "percent.\n",
      "Behind\n",
      "not an even word\n",
      "tirade\n",
      "not an even word\n",
      "not an even word\n",
      "not an even word\n",
      "not an even word\n",
      "that\n",
      "not an even word\n",
      "type\n",
      "of\n",
      "not an even word\n",
      "not an even word\n",
      "not an even word\n",
      "not an even word\n",
      "once\n",
      "called\n",
      "not an even word\n",
      "to\n",
      "win”\n",
      "is\n",
      "not an even word\n",
      "to\n",
      "be\n",
      "more\n",
      "not an even word\n",
      "not an even word\n",
      "economically\n",
      "damaging\n",
      "than\n",
      "not an even word\n",
      "not an even word\n",
      "not an even word\n",
      "not an even word\n",
      "not an even word\n",
      "not an even word\n",
      "not an even word\n",
      "on\n",
      "not an even word\n",
      "not an even word\n",
      "have\n",
      "been\n",
      "not an even word\n",
      "with\n",
      "reciprocal\n",
      "not an even word\n",
      "not an even word\n",
      "American\n",
      "not an even word\n",
      "not an even word\n",
      "not an even word\n",
      "not an even word\n",
      "contributing\n",
      "to\n",
      "not an even word\n",
      "global\n",
      "not an even word\n",
      "On\n",
      "not an even word\n",
      "not an even word\n",
      "said\n",
      "it\n",
      "not an even word\n",
      "increase\n",
      "not an even word\n",
      "on\n",
      "not an even word\n",
      "not an even word\n",
      "not an even word\n",
      "of\n",
      "American\n",
      "goods,\n",
      "not an even word\n",
      "not an even word\n",
      "oil,\n",
      "not an even word\n",
      "not an even word\n",
      "farm\n",
      "products\n",
      "like\n",
      "not an even word\n",
      "pork\n",
      "not an even word\n",
      "corn\n",
      "in\n",
      "response\n",
      "to\n",
      "not an even word\n",
      "not an even word\n",
      "plan\n",
      "to\n",
      "not an even word\n",
      "an\n",
      "additional\n",
      "$300\n",
      "not an even word\n",
      "not an even word\n",
      "of\n",
      "not an even word\n",
      "not an even word\n",
      "in\n",
      "not an even word\n",
      "not an even word\n",
      "not an even word\n",
      "not an even word\n",
      "higher\n",
      "not an even word\n",
      "will\n",
      "only\n",
      "not an even word\n",
      "not an even word\n",
      "not an even word\n",
      "pain\n",
      "from\n",
      "not an even word\n",
      "not an even word\n",
      "war,\n",
      "not an even word\n",
      "is\n",
      "not an even word\n",
      "not an even word\n",
      "prices\n",
      "not an even word\n",
      "businesses\n",
      "not an even word\n",
      "not an even word\n",
      "across\n",
      "not an even word\n",
      "globe.\n",
      "Even\n",
      "before\n",
      "not an even word\n",
      "not an even word\n",
      "30\n",
      "not an even word\n",
      "not an even word\n",
      "not an even word\n",
      "not an even word\n",
      "existing\n",
      "not an even word\n",
      "were\n",
      "expected\n",
      "to\n",
      "cost\n",
      "not an even word\n",
      "not an even word\n",
      "American\n",
      "not an even word\n",
      "more\n",
      "than\n",
      "$800\n",
      "not an even word\n",
      "not an even word\n",
      "not an even word\n",
      "to\n",
      "research\n",
      "by\n",
      "not an even word\n",
      "not an even word\n",
      "not an even word\n",
      "Bank\n",
      "of\n",
      "not an even word\n",
      "not an even word\n",
      "not an even word\n",
      "not an even word\n",
      "not an even word\n",
      "next\n",
      "$300\n",
      "not an even word\n",
      "not an even word\n",
      "will\n",
      "affect\n",
      "consumer\n",
      "products\n",
      "like\n",
      "not an even word\n",
      "not an even word\n",
      "not an even word\n",
      "not an even word\n"
     ]
    }
   ],
   "source": [
    "for word in text.split():\n",
    "    if len(word)%2==0:\n",
    "        print (word)\n",
    "    else:\n",
    "        print (\"not an even word\")\n",
    "       \n",
    "    "
   ]
  },
  {
   "cell_type": "code",
   "execution_count": 39,
   "metadata": {},
   "outputs": [
    {
     "name": "stdout",
     "output_type": "stream",
     "text": [
      "fuzzbuzz\n",
      "1\n",
      "2\n",
      "fuzz\n",
      "4\n",
      "buzz\n",
      "fuzz\n",
      "7\n",
      "8\n",
      "fuzz\n",
      "buzz\n",
      "11\n",
      "fuzz\n",
      "13\n",
      "14\n",
      "fuzzbuzz\n",
      "16\n",
      "17\n",
      "fuzz\n",
      "19\n",
      "buzz\n",
      "fuzz\n",
      "22\n",
      "23\n",
      "fuzz\n",
      "buzz\n",
      "26\n",
      "fuzz\n",
      "28\n",
      "29\n",
      "fuzzbuzz\n",
      "31\n",
      "32\n",
      "fuzz\n",
      "34\n",
      "buzz\n",
      "fuzz\n",
      "37\n",
      "38\n",
      "fuzz\n",
      "buzz\n",
      "41\n",
      "fuzz\n",
      "43\n",
      "44\n",
      "fuzzbuzz\n",
      "46\n",
      "47\n",
      "fuzz\n",
      "49\n",
      "buzz\n",
      "fuzz\n",
      "52\n",
      "53\n",
      "fuzz\n",
      "buzz\n",
      "56\n",
      "fuzz\n",
      "58\n",
      "59\n",
      "fuzzbuzz\n",
      "61\n",
      "62\n",
      "fuzz\n",
      "64\n",
      "buzz\n",
      "fuzz\n",
      "67\n",
      "68\n",
      "fuzz\n",
      "buzz\n",
      "71\n",
      "fuzz\n",
      "73\n",
      "74\n",
      "fuzzbuzz\n",
      "76\n",
      "77\n",
      "fuzz\n",
      "79\n",
      "buzz\n",
      "fuzz\n",
      "82\n",
      "83\n",
      "fuzz\n",
      "buzz\n",
      "86\n",
      "fuzz\n",
      "88\n",
      "89\n",
      "fuzzbuzz\n",
      "91\n",
      "92\n",
      "fuzz\n",
      "94\n",
      "buzz\n",
      "fuzz\n",
      "97\n",
      "98\n",
      "fuzz\n",
      "buzz\n"
     ]
    }
   ],
   "source": [
    "for num in range (0,101):\n",
    "    if num%3 == 0 and num%5 == 0:\n",
    "        print (\"fuzzbuzz\")\n",
    "    elif num %3==0:\n",
    "        print (\"fuzz\")\n",
    "    elif num%5 == 0:\n",
    "        print (\"buzz\")\n",
    "  \n",
    "    else:\n",
    "        print (num)\n",
    "        \n",
    "        "
   ]
  },
  {
   "cell_type": "code",
   "execution_count": 37,
   "metadata": {},
   "outputs": [
    {
     "data": {
      "text/plain": [
       "['W',\n",
       " '—',\n",
       " 'P',\n",
       " 'T',\n",
       " 's',\n",
       " 'h',\n",
       " 'w',\n",
       " 'i',\n",
       " 't',\n",
       " 'o',\n",
       " 'a',\n",
       " 'C',\n",
       " 'g',\n",
       " 'a',\n",
       " 'd',\n",
       " 't',\n",
       " 'A',\n",
       " 'c',\n",
       " 's',\n",
       " 'd',\n",
       " 'b',\n",
       " 'w',\n",
       " 'C',\n",
       " 'a',\n",
       " 'h',\n",
       " 'a',\n",
       " 't',\n",
       " 'B',\n",
       " 'a',\n",
       " 'h',\n",
       " 'F',\n",
       " 'R',\n",
       " 'c',\n",
       " 'b',\n",
       " 'o',\n",
       " 'o',\n",
       " 'F',\n",
       " 'T',\n",
       " 'h',\n",
       " 'a',\n",
       " 'C',\n",
       " 's',\n",
       " 'i',\n",
       " 'w',\n",
       " 'r',\n",
       " 'a',\n",
       " 'M',\n",
       " 'T',\n",
       " 'n',\n",
       " 'r',\n",
       " 'o',\n",
       " 't',\n",
       " 'b',\n",
       " 'r',\n",
       " 't',\n",
       " 'o',\n",
       " 'A',\n",
       " 'g',\n",
       " 'M',\n",
       " 'T',\n",
       " 's',\n",
       " 'h',\n",
       " 'w',\n",
       " 'b',\n",
       " 'e',\n",
       " 't',\n",
       " 'o',\n",
       " '$',\n",
       " 'b',\n",
       " 'w',\n",
       " 'o',\n",
       " 'C',\n",
       " 'g',\n",
       " 't',\n",
       " '3',\n",
       " 'p',\n",
       " 'f',\n",
       " '2',\n",
       " 'p',\n",
       " 'o',\n",
       " 'O',\n",
       " '1',\n",
       " 'A',\n",
       " 'h',\n",
       " 's',\n",
       " 't',\n",
       " 'U',\n",
       " 'S',\n",
       " 'w',\n",
       " 't',\n",
       " 'a',\n",
       " 'a',\n",
       " '$',\n",
       " 'b',\n",
       " 'w',\n",
       " 'o',\n",
       " 'C',\n",
       " 'i',\n",
       " 'a',\n",
       " 'a',\n",
       " '1',\n",
       " 'p',\n",
       " 'r',\n",
       " 'r',\n",
       " 't',\n",
       " 't',\n",
       " '1',\n",
       " 'p',\n",
       " 'h',\n",
       " 'h',\n",
       " 'i',\n",
       " 'p',\n",
       " 'T',\n",
       " 'l',\n",
       " 'g',\n",
       " 'i',\n",
       " 'e',\n",
       " 'o',\n",
       " 'S',\n",
       " '1',\n",
       " '“',\n",
       " 's',\n",
       " 'n',\n",
       " 'h',\n",
       " 'p',\n",
       " 'n',\n",
       " 'T',\n",
       " 'o',\n",
       " '7',\n",
       " 'B',\n",
       " 'D',\n",
       " 'o',\n",
       " 'U',\n",
       " 'S',\n",
       " 'p',\n",
       " '(',\n",
       " 'm',\n",
       " 'M',\n",
       " 'T',\n",
       " 's',\n",
       " 'o',\n",
       " 'T',\n",
       " '“',\n",
       " 'o',\n",
       " 'O',\n",
       " '1',\n",
       " 't',\n",
       " '2',\n",
       " 'B',\n",
       " 'D',\n",
       " 'o',\n",
       " 'g',\n",
       " 'a',\n",
       " 'p',\n",
       " 'f',\n",
       " 'C',\n",
       " 'c',\n",
       " 'b',\n",
       " 't',\n",
       " 'a',\n",
       " '2',\n",
       " 'w',\n",
       " 'b',\n",
       " 't',\n",
       " 'a',\n",
       " '3',\n",
       " 'I',\n",
       " 'a',\n",
       " 's',\n",
       " 'o',\n",
       " 'a',\n",
       " 't',\n",
       " 'e',\n",
       " 'i',\n",
       " 't',\n",
       " 'd',\n",
       " 'M',\n",
       " 'T',\n",
       " 'c',\n",
       " 'f',\n",
       " 'A',\n",
       " 'c',\n",
       " 't',\n",
       " 'c',\n",
       " 't',\n",
       " 'w',\n",
       " 'B',\n",
       " 'a',\n",
       " 's',\n",
       " 't',\n",
       " 'U',\n",
       " 'S',\n",
       " 'w',\n",
       " 'b',\n",
       " 'e',\n",
       " 's',\n",
       " 'w',\n",
       " 'C',\n",
       " 'T',\n",
       " 'c',\n",
       " 's',\n",
       " 's',\n",
       " 'p',\n",
       " 'h',\n",
       " 'p',\n",
       " 't',\n",
       " 'm',\n",
       " 't',\n",
       " 'i',\n",
       " 'f',\n",
       " 's',\n",
       " 'w',\n",
       " 'l',\n",
       " 'T',\n",
       " 'p',\n",
       " 'a',\n",
       " 'c',\n",
       " 't',\n",
       " 'F',\n",
       " 'c',\n",
       " 'J',\n",
       " 'H',\n",
       " 'P',\n",
       " 'a',\n",
       " '“',\n",
       " 'o',\n",
       " 't',\n",
       " 'U',\n",
       " 'S',\n",
       " 'a',\n",
       " 'c',\n",
       " 'h',\n",
       " 't',\n",
       " 'P',\n",
       " 'X',\n",
       " 'J',\n",
       " 'o',\n",
       " 'C',\n",
       " 'h',\n",
       " 't',\n",
       " 'n',\n",
       " 'a',\n",
       " 'M',\n",
       " 'P',\n",
       " 'd',\n",
       " 't',\n",
       " 's',\n",
       " 'a',\n",
       " 'i',\n",
       " 'c',\n",
       " 'i',\n",
       " 'i',\n",
       " 'r',\n",
       " 'M',\n",
       " 'T',\n",
       " 'h',\n",
       " 'b',\n",
       " 'c',\n",
       " 'o',\n",
       " 'M',\n",
       " 'P',\n",
       " 't',\n",
       " 'h',\n",
       " 'b',\n",
       " 't',\n",
       " 'e',\n",
       " 'o',\n",
       " 'h',\n",
       " 't',\n",
       " 'w',\n",
       " 'b',\n",
       " 'c',\n",
       " 'i',\n",
       " 'r',\n",
       " 't',\n",
       " 'k',\n",
       " 't',\n",
       " 'e',\n",
       " 'h',\n",
       " 'W',\n",
       " 'M',\n",
       " 'P',\n",
       " 's',\n",
       " 'o',\n",
       " 'F',\n",
       " 't',\n",
       " 't',\n",
       " 'F',\n",
       " 'c',\n",
       " 'p',\n",
       " 't',\n",
       " 'a',\n",
       " 'c',\n",
       " 'i',\n",
       " 't',\n",
       " 'e',\n",
       " 'w',\n",
       " 'f',\n",
       " 'h',\n",
       " 's',\n",
       " 't',\n",
       " 't',\n",
       " 'c',\n",
       " 'b',\n",
       " 'a',\n",
       " 't',\n",
       " 'l',\n",
       " 'e',\n",
       " 'd',\n",
       " 'f',\n",
       " 't',\n",
       " 'p',\n",
       " 't',\n",
       " 'w',\n",
       " 'w',\n",
       " 'c',\n",
       " '“',\n",
       " 'o',\n",
       " 'q',\n",
       " 'i',\n",
       " 'w',\n",
       " 'i',\n",
       " 'o',\n",
       " 'b',\n",
       " 'e',\n",
       " 'J',\n",
       " 'P',\n",
       " 'o',\n",
       " 'C',\n",
       " 'X',\n",
       " 't',\n",
       " 'p',\n",
       " 't',\n",
       " 'M',\n",
       " 'T',\n",
       " 't',\n",
       " 'a',\n",
       " 'c',\n",
       " 'a',\n",
       " 'f',\n",
       " 'm',\n",
       " 'h',\n",
       " 'c',\n",
       " 'f',\n",
       " 't',\n",
       " 'd',\n",
       " 'B',\n",
       " 'h',\n",
       " 'e',\n",
       " 'r',\n",
       " 't',\n",
       " 'C',\n",
       " 'h',\n",
       " 'a',\n",
       " 'u',\n",
       " 'i',\n",
       " 'w',\n",
       " 'w',\n",
       " 't',\n",
       " 't',\n",
       " 't',\n",
       " 'w',\n",
       " 'b',\n",
       " 't',\n",
       " 'w',\n",
       " 't',\n",
       " 'l',\n",
       " 'e',\n",
       " 'w',\n",
       " 'f',\n",
       " 'd',\n",
       " 'o',\n",
       " 'g',\n",
       " 'g',\n",
       " 'S',\n",
       " 'f',\n",
       " 's',\n",
       " 'o',\n",
       " 'F',\n",
       " 'w',\n",
       " 't',\n",
       " 'S',\n",
       " '5',\n",
       " 'c',\n",
       " 'd',\n",
       " '2',\n",
       " 'p',\n",
       " 'T',\n",
       " 'D',\n",
       " 'J',\n",
       " 'i',\n",
       " 'a',\n",
       " 'w',\n",
       " 'd',\n",
       " 's',\n",
       " 'm',\n",
       " 't',\n",
       " '2',\n",
       " 'p',\n",
       " 'a',\n",
       " 't',\n",
       " 't',\n",
       " 'N',\n",
       " 'i',\n",
       " 'f',\n",
       " '3',\n",
       " 'p',\n",
       " 'B',\n",
       " 't',\n",
       " 't',\n",
       " 'w',\n",
       " 't',\n",
       " 'g',\n",
       " 'r',\n",
       " 't',\n",
       " 't',\n",
       " 't',\n",
       " 'o',\n",
       " 't',\n",
       " 'w',\n",
       " 'M',\n",
       " 'T',\n",
       " 'o',\n",
       " 'c',\n",
       " '“',\n",
       " 't',\n",
       " 'w',\n",
       " 'i',\n",
       " 'p',\n",
       " 't',\n",
       " 'b',\n",
       " 'm',\n",
       " 'd',\n",
       " 'a',\n",
       " 'e',\n",
       " 'd',\n",
       " 't',\n",
       " 't',\n",
       " 'p',\n",
       " 'e',\n",
       " 'M',\n",
       " 'T',\n",
       " 's',\n",
       " 't',\n",
       " 'o',\n",
       " 'C',\n",
       " 'g',\n",
       " 'h',\n",
       " 'b',\n",
       " 'm',\n",
       " 'w',\n",
       " 'r',\n",
       " 'l',\n",
       " 'h',\n",
       " 'A',\n",
       " 'f',\n",
       " 'a',\n",
       " 'c',\n",
       " 'a',\n",
       " 'c',\n",
       " 't',\n",
       " 'a',\n",
       " 'g',\n",
       " 's',\n",
       " 'O',\n",
       " 'F',\n",
       " 'C',\n",
       " 's',\n",
       " 'i',\n",
       " 'w',\n",
       " 'i',\n",
       " 't',\n",
       " 'o',\n",
       " '$',\n",
       " 'b',\n",
       " 'w',\n",
       " 'o',\n",
       " 'A',\n",
       " 'g',\n",
       " 'i',\n",
       " 'c',\n",
       " 'o',\n",
       " 'a',\n",
       " 'a',\n",
       " 'f',\n",
       " 'p',\n",
       " 'l',\n",
       " 's',\n",
       " 'p',\n",
       " 'a',\n",
       " 'c',\n",
       " 'i',\n",
       " 'r',\n",
       " 't',\n",
       " 'M',\n",
       " 'T',\n",
       " 'p',\n",
       " 't',\n",
       " 't',\n",
       " 'a',\n",
       " 'a',\n",
       " '$',\n",
       " 'b',\n",
       " 'w',\n",
       " 'o',\n",
       " 'C',\n",
       " 'g',\n",
       " 'i',\n",
       " 'S',\n",
       " 'a',\n",
       " 'D',\n",
       " 'T',\n",
       " 'h',\n",
       " 'r',\n",
       " 'w',\n",
       " 'o',\n",
       " 'a',\n",
       " 't',\n",
       " 'f',\n",
       " 'p',\n",
       " 'f',\n",
       " 't',\n",
       " 't',\n",
       " 'w',\n",
       " 'w',\n",
       " 'i',\n",
       " 'a',\n",
       " 'r',\n",
       " 'p',\n",
       " 'f',\n",
       " 'b',\n",
       " 'a',\n",
       " 'c',\n",
       " 'a',\n",
       " 't',\n",
       " 'g',\n",
       " 'E',\n",
       " 'b',\n",
       " 't',\n",
       " 'n',\n",
       " '3',\n",
       " 'p',\n",
       " 'r',\n",
       " 'M',\n",
       " 'T',\n",
       " 'e',\n",
       " 't',\n",
       " 'w',\n",
       " 'e',\n",
       " 't',\n",
       " 'c',\n",
       " 't',\n",
       " 'a',\n",
       " 'A',\n",
       " 'h',\n",
       " 'm',\n",
       " 't',\n",
       " '$',\n",
       " 'a',\n",
       " 'y',\n",
       " 'a',\n",
       " 't',\n",
       " 'r',\n",
       " 'b',\n",
       " 't',\n",
       " 'F',\n",
       " 'R',\n",
       " 'B',\n",
       " 'o',\n",
       " 'N',\n",
       " 'Y',\n",
       " 'A',\n",
       " 'M',\n",
       " 'T',\n",
       " 'n',\n",
       " '$',\n",
       " 'b',\n",
       " 't',\n",
       " 'w',\n",
       " 'a',\n",
       " 'c',\n",
       " 'p',\n",
       " 'l',\n",
       " 't',\n",
       " 's',\n",
       " 'a',\n",
       " 'c']"
      ]
     },
     "execution_count": 37,
     "metadata": {},
     "output_type": "execute_result"
    }
   ],
   "source": [
    "list5=[word[0] for word in text.split()]\n",
    "list5"
   ]
  },
  {
   "cell_type": "code",
   "execution_count": 1,
   "metadata": {
    "collapsed": true
   },
   "outputs": [],
   "source": [
    "#  Methods \n",
    "mylist = [1,2,3]\n"
   ]
  },
  {
   "cell_type": "code",
   "execution_count": 4,
   "metadata": {},
   "outputs": [
    {
     "name": "stdout",
     "output_type": "stream",
     "text": [
      "Help on built-in function insert:\n",
      "\n",
      "insert(index, object, /) method of builtins.list instance\n",
      "    Insert object before index.\n",
      "\n"
     ]
    }
   ],
   "source": [
    "help(mylist.insert) ## help function to get the documentation on an object, or use the official documentation https://docs.python.org/3/library/index.html\n",
    "\n",
    "\n"
   ]
  },
  {
   "cell_type": "code",
   "execution_count": 8,
   "metadata": {
    "collapsed": true
   },
   "outputs": [],
   "source": [
    "def test_function(name=\"NAME\"): ## \"name is the default input\"\n",
    "    '''\n",
    "    Docstring: prints input \n",
    "    Input: name\n",
    "    outpute: hello, ma name is name\n",
    "    '''\n",
    "    print (f\"hello, ma name is {name}\")"
   ]
  },
  {
   "cell_type": "code",
   "execution_count": 9,
   "metadata": {},
   "outputs": [
    {
     "name": "stdout",
     "output_type": "stream",
     "text": [
      "hello, ma name is NAME\n"
     ]
    }
   ],
   "source": [
    "test_function()"
   ]
  },
  {
   "cell_type": "code",
   "execution_count": 4,
   "metadata": {},
   "outputs": [
    {
     "name": "stdout",
     "output_type": "stream",
     "text": [
      "Help on function test_function in module __main__:\n",
      "\n",
      "test_function(name)\n",
      "    Docstring: prints input \n",
      "    Input: name\n",
      "    outpute: hello, ma name is name\n",
      "\n"
     ]
    }
   ],
   "source": [
    "help(test_function)"
   ]
  },
  {
   "cell_type": "code",
   "execution_count": 16,
   "metadata": {
    "collapsed": true
   },
   "outputs": [],
   "source": [
    "def test_print(name=\"NAME\"):\n",
    "    return \"my name is\", name # unlik print, return assign the output to a variable, functions mostly use return "
   ]
  },
  {
   "cell_type": "code",
   "execution_count": 15,
   "metadata": {},
   "outputs": [
    {
     "data": {
      "text/plain": [
       "('my name is', 'lauren')"
      ]
     },
     "execution_count": 15,
     "metadata": {},
     "output_type": "execute_result"
    }
   ],
   "source": [
    "test_print(\"lauren\")"
   ]
  },
  {
   "cell_type": "code",
   "execution_count": 17,
   "metadata": {
    "collapsed": true
   },
   "outputs": [],
   "source": [
    "# exercises \n",
    "text = \"WASHINGTON — President Trump said he would increase taxes on all Chinese goods and demanded that American companies stop doing business with China as his anger toward Beijing and his Federal Reserve chair boiled over on Friday. Twelve hours after China said it would retaliate against Mr. Trump’s next round of tariffs by raising taxes on American goods, Mr. Trump said he would bolster existing tariffs on $250 billion worth of Chinese goods to 30 percent from 25 percent on Oct. 1. And he said the United States would tax an additional $300 billion worth of Chinese imports at a 15 percent rate, rather than the 10 percent he had initially planned. Those levies go into effect on Sept. 1. “China should not have put new Tariffs on 75 BILLION DOLLARS of United States product (politically motivated!)” Mr. Trump said on Twitter. “Starting on October 1st, the 250 BILLION DOLLARS of goods and products from China, currently being taxed at 25%, will be taxed at 30%.” In a series of angry tweets earlier in the day, Mr. Trump called for American companies to cut ties with Beijing and said the United States would be economically stronger without China. Those comments sent stocks plunging, helping push the market to its fourth straight weekly loss. The president also called the Fed chair, Jerome H. Powell, an “enemy” of the United States and compared him to President Xi Jinping of China, his trade nemesis, after Mr. Powell declined to signal an imminent cut in interest rates. Mr. Trump has been counting on Mr. Powell to help blunt the effect of his trade war by cutting interest rates to keep the economy humming. While Mr. Powell said on Friday that the Fed could push through another cut if the economy weakened further, he suggested that the central bank’s ability to limit economic damage from the president’s trade war was constrained. “My only question is, who is our bigger enemy, Jay Powell or Chairman Xi?” the president tweeted. Mr. Trump’s tariff announcement came after financial markets had closed for the day. But his earlier response to China had already unnerved investors, who worry that the trade war between the world’s two largest economies will further drag on global growth. Stocks fell sharply on Friday, with the S&P 500 closing down 2.6 percent. The Dow Jones industrial average was down slightly more than 2 percent and the technology-heavy Nasdaq index fell 3 percent. Behind the tirade was the growing reality that the type of trade war Mr. Trump once called “easy to win” is proving to be more difficult and economically damaging than the president envisioned. Mr. Trump’s stiff tariffs on Chinese goods have been met with reciprocal levies, hurting American farmers and companies and contributing to a global slowdown. On Friday, China said it would increase tariffs on $75 billion worth of American goods, including crude oil, automobiles and farm products like soybeans, pork and corn in response to Mr. Trump’s plan to tax an additional $300 billion worth of Chinese goods in September and December. The higher rates will only aggravate the financial pain from the trade war, which is already raising prices for businesses and consumers across the globe. Even before the new 30 percent rate, Mr. Trump’s existing tariffs were expected to cost the average American household more than $800 a year, according to research by the Federal Reserve Bank of New York. And Mr. Trump’s next $300 billion tranche will affect consumer products like toys, smartphones and clothing.\""
   ]
  },
  {
   "cell_type": "code",
   "execution_count": 166,
   "metadata": {
    "collapsed": true
   },
   "outputs": [],
   "source": [
    "def dog(text):\n",
    "    '''\n",
    "    checks for the word \"dog\" in a text\n",
    "    '''\n",
    "    return \"dog\" in text.lower()"
   ]
  },
  {
   "cell_type": "code",
   "execution_count": 168,
   "metadata": {},
   "outputs": [
    {
     "data": {
      "text/plain": [
       "False"
      ]
     },
     "execution_count": 168,
     "metadata": {},
     "output_type": "execute_result"
    }
   ],
   "source": [
    "dog(\"test\")"
   ]
  },
  {
   "cell_type": "code",
   "execution_count": 30,
   "metadata": {},
   "outputs": [
    {
     "name": "stdout",
     "output_type": "stream",
     "text": [
      "Help on function dog in module __main__:\n",
      "\n",
      "dog(text)\n",
      "    checks for the word \"dog\" in a text\n",
      "\n"
     ]
    }
   ],
   "source": [
    "help(dog)"
   ]
  },
  {
   "cell_type": "code",
   "execution_count": 48,
   "metadata": {
    "collapsed": true
   },
   "outputs": [],
   "source": [
    "text = \"mohamed sellami\""
   ]
  },
  {
   "cell_type": "code",
   "execution_count": 87,
   "metadata": {
    "collapsed": true
   },
   "outputs": [],
   "source": [
    "def vowel(text):\n",
    "    for word in text:\n",
    "        if word[0] in \"aeiuy\":\n",
    "            return word+\"ay\"\n",
    "        else: \n",
    "            return word+word[0]+\"ay\"\n",
    "\n",
    "        \n",
    "    "
   ]
  },
  {
   "cell_type": "code",
   "execution_count": 88,
   "metadata": {
    "collapsed": true
   },
   "outputs": [],
   "source": [
    "text = \"mohamed ila ova oy loly iula sellamia\""
   ]
  },
  {
   "cell_type": "code",
   "execution_count": 89,
   "metadata": {},
   "outputs": [
    {
     "data": {
      "text/plain": [
       "'mmay'"
      ]
     },
     "execution_count": 89,
     "metadata": {},
     "output_type": "execute_result"
    }
   ],
   "source": [
    "vowel(text)"
   ]
  },
  {
   "cell_type": "code",
   "execution_count": 15,
   "metadata": {
    "collapsed": true
   },
   "outputs": [],
   "source": [
    "## *args and **kwargs: arbitraty and key word arbitrary \n",
    "def myfun(a,b,c=0, d=0, e=0, f=0):\n",
    "    '''5% of the sum of a and b ''' \n",
    "    return sum((a,b, c,d,e,f))*0.05\n",
    "    \n"
   ]
  },
  {
   "cell_type": "code",
   "execution_count": 21,
   "metadata": {},
   "outputs": [
    {
     "data": {
      "text/plain": [
       "7.5"
      ]
     },
     "execution_count": 21,
     "metadata": {},
     "output_type": "execute_result"
    }
   ],
   "source": [
    "myfun(40,60,10, 20, 20) ## if you put more than 6 parameters, you will havce an error, to avoid this, use *args instead"
   ]
  },
  {
   "cell_type": "code",
   "execution_count": 23,
   "metadata": {
    "collapsed": true
   },
   "outputs": [],
   "source": [
    "def myfun2(*args):\n",
    "    return sum(args) * 0.05"
   ]
  },
  {
   "cell_type": "code",
   "execution_count": 24,
   "metadata": {},
   "outputs": [
    {
     "data": {
      "text/plain": [
       "5.7"
      ]
     },
     "execution_count": 24,
     "metadata": {},
     "output_type": "execute_result"
    }
   ],
   "source": [
    "myfun2(89,9,8,0,8)"
   ]
  },
  {
   "cell_type": "code",
   "execution_count": 59,
   "metadata": {
    "collapsed": true
   },
   "outputs": [],
   "source": [
    "## kwargs builds a dictionnary with the parameters \n",
    "def myfun(**kwargs):\n",
    "    print (kwargs)\n",
    "    if \"fruit\" in kwargs:\n",
    "        print (\"my favotite fruit is {}\".format(kwargs[\"fruit\"]))\n"
   ]
  },
  {
   "cell_type": "code",
   "execution_count": 60,
   "metadata": {},
   "outputs": [
    {
     "name": "stdout",
     "output_type": "stream",
     "text": [
      "{'fruit': 'apples', 'tomatoes': 'veggies'}\n",
      "my favotite fruit is apples\n"
     ]
    }
   ],
   "source": [
    "myfun(fruit = \"apples\", tomatoes = \"veggies\")"
   ]
  },
  {
   "cell_type": "code",
   "execution_count": 14,
   "metadata": {
    "collapsed": true
   },
   "outputs": [],
   "source": [
    "def myfun(*args, **kwargs):\n",
    "    print (args)\n",
    "    print (kwargs)\n",
    "    print (\"i would like to have {}\".format(args[1], kwargs[\"fruit\"]))\n",
    "    "
   ]
  },
  {
   "cell_type": "code",
   "execution_count": 15,
   "metadata": {},
   "outputs": [
    {
     "name": "stdout",
     "output_type": "stream",
     "text": [
      "(10, 20)\n",
      "{'fruit': 'apple'}\n",
      "i would like to have 20\n"
     ]
    }
   ],
   "source": [
    "myfun(10,20, fruit =\"apple\")"
   ]
  },
  {
   "cell_type": "code",
   "execution_count": 97,
   "metadata": {
    "collapsed": true
   },
   "outputs": [],
   "source": [
    "# practice  exercise \n",
    "def fun_lesser (a,b):\n",
    "    if a %2 == 0 and b%2==0:\n",
    "        return min(a,b)\n",
    "    else:\n",
    "        return max(a,b)"
   ]
  },
  {
   "cell_type": "code",
   "execution_count": 37,
   "metadata": {},
   "outputs": [
    {
     "data": {
      "text/plain": [
       "5"
      ]
     },
     "execution_count": 37,
     "metadata": {},
     "output_type": "execute_result"
    }
   ],
   "source": [
    "fun_lesser(2,5)"
   ]
  },
  {
   "cell_type": "code",
   "execution_count": 109,
   "metadata": {
    "collapsed": true
   },
   "outputs": [],
   "source": [
    "def word_fun (text):\n",
    "    word_list = text.lower().split()\n",
    "    return word_list[0][0] == word_list[1][0]\n",
    "    \n",
    "        "
   ]
  },
  {
   "cell_type": "code",
   "execution_count": 111,
   "metadata": {},
   "outputs": [
    {
     "data": {
      "text/plain": [
       "True"
      ]
     },
     "execution_count": 111,
     "metadata": {},
     "output_type": "execute_result"
    }
   ],
   "source": [
    "word_fun(\"mohamned Mama\")"
   ]
  },
  {
   "cell_type": "code",
   "execution_count": 119,
   "metadata": {
    "collapsed": true
   },
   "outputs": [],
   "source": [
    "def twenty(a,b):\n",
    "    return (a == 20 or b == 20 or (a+b) == 20)\n",
    "   \n",
    "        "
   ]
  },
  {
   "cell_type": "code",
   "execution_count": 122,
   "metadata": {},
   "outputs": [
    {
     "data": {
      "text/plain": [
       "False"
      ]
     },
     "execution_count": 122,
     "metadata": {},
     "output_type": "execute_result"
    }
   ],
   "source": [
    "twenty(10,3)"
   ]
  },
  {
   "cell_type": "code",
   "execution_count": 187,
   "metadata": {
    "collapsed": true
   },
   "outputs": [],
   "source": [
    "def cap(text):\n",
    "    return text.upper()[0]+text[1:3]+text.upper()[3]+text[4:]"
   ]
  },
  {
   "cell_type": "code",
   "execution_count": 189,
   "metadata": {},
   "outputs": [
    {
     "data": {
      "text/plain": [
       "'MaoHhhaahahaha'"
      ]
     },
     "execution_count": 189,
     "metadata": {},
     "output_type": "execute_result"
    }
   ],
   "source": [
    "cap(\"maohhhaahahaha\")"
   ]
  },
  {
   "cell_type": "code",
   "execution_count": 273,
   "metadata": {
    "collapsed": true
   },
   "outputs": [],
   "source": [
    "def rever(text):\n",
    "    words = text.split()\n",
    "    revers_words = words[::-1]\n",
    "    print (revers_words)\n",
    "    return \" \".join(revers_words)\n",
    "    "
   ]
  },
  {
   "cell_type": "code",
   "execution_count": 274,
   "metadata": {},
   "outputs": [
    {
     "name": "stdout",
     "output_type": "stream",
     "text": [
      "['sellamia', 'moahmed']\n"
     ]
    },
    {
     "data": {
      "text/plain": [
       "'sellamia moahmed'"
      ]
     },
     "execution_count": 274,
     "metadata": {},
     "output_type": "execute_result"
    }
   ],
   "source": [
    "rever(\"moahmed sellamia\")\n"
   ]
  },
  {
   "cell_type": "code",
   "execution_count": 311,
   "metadata": {
    "collapsed": true
   },
   "outputs": [],
   "source": [
    "def within(num):\n",
    "    return abs(100 - num) <= 10  or abs(200 - num) <= 10"
   ]
  },
  {
   "cell_type": "code",
   "execution_count": 312,
   "metadata": {},
   "outputs": [
    {
     "data": {
      "text/plain": [
       "False"
      ]
     },
     "execution_count": 312,
     "metadata": {},
     "output_type": "execute_result"
    }
   ],
   "source": [
    "within (150)\n"
   ]
  },
  {
   "cell_type": "code",
   "execution_count": 358,
   "metadata": {
    "collapsed": true
   },
   "outputs": [],
   "source": [
    "def prox(list_1):\n",
    "    for i in range (0, len(list_1)-1): \n",
    "        return list_1[i] == 3 and list_1[(i+1)] == 3\n",
    "     "
   ]
  },
  {
   "cell_type": "code",
   "execution_count": 360,
   "metadata": {},
   "outputs": [
    {
     "data": {
      "text/plain": [
       "False"
      ]
     },
     "execution_count": 360,
     "metadata": {},
     "output_type": "execute_result"
    }
   ],
   "source": [
    "prox([3,6,7,3,3])"
   ]
  },
  {
   "cell_type": "code",
   "execution_count": 410,
   "metadata": {
    "collapsed": true
   },
   "outputs": [],
   "source": [
    "def hello(text):\n",
    "    st = \"\"\n",
    "    for i in text:\n",
    "        st+=i*3\n",
    "    return st"
   ]
  },
  {
   "cell_type": "code",
   "execution_count": 411,
   "metadata": {},
   "outputs": [
    {
     "data": {
      "text/plain": [
       "'ssseeexxxyyy'"
      ]
     },
     "execution_count": 411,
     "metadata": {},
     "output_type": "execute_result"
    }
   ],
   "source": [
    "hello(\"sexy\")"
   ]
  },
  {
   "cell_type": "code",
   "execution_count": 454,
   "metadata": {
    "collapsed": true
   },
   "outputs": [],
   "source": [
    "def black(a,b,c):\n",
    "    if a+b+c <=21:\n",
    "        return a+b+c\n",
    "    elif a+b+c <=31 and 11 in(a,b,c):\n",
    "        return (a+b+c) -10 \n",
    "    else:\n",
    "        return \"Bust\"\n",
    "        \n"
   ]
  },
  {
   "cell_type": "code",
   "execution_count": 453,
   "metadata": {},
   "outputs": [
    {
     "data": {
      "text/plain": [
       "'Bust'"
      ]
     },
     "execution_count": 453,
     "metadata": {},
     "output_type": "execute_result"
    }
   ],
   "source": [
    "black(9,9,9)"
   ]
  },
  {
   "cell_type": "code",
   "execution_count": 6,
   "metadata": {
    "collapsed": true
   },
   "outputs": [],
   "source": [
    "def sixty_nine(numbers):\n",
    "    total = 0\n",
    "    add = True\n",
    "    for num in numbers:\n",
    "        while add:\n",
    "            if num!=6:\n",
    "                total += num\n",
    "                break\n",
    "            else:\n",
    "                add = False\n",
    "        while not add:\n",
    "            if num!=9:\n",
    "                break \n",
    "            else:\n",
    "                add = True\n",
    "                break\n",
    "                \n",
    "            \n",
    "    return total "
   ]
  },
  {
   "cell_type": "code",
   "execution_count": 10,
   "metadata": {},
   "outputs": [
    {
     "data": {
      "text/plain": [
       "6"
      ]
     },
     "execution_count": 10,
     "metadata": {},
     "output_type": "execute_result"
    }
   ],
   "source": [
    "sixty_nine([1,6,6,7,8,9, 5])"
   ]
  },
  {
   "cell_type": "code",
   "execution_count": null,
   "metadata": {
    "collapsed": true
   },
   "outputs": [],
   "source": [
    "def secret(numbers):\n",
    "    secret = \"\"\n",
    "    for num in numbers:\n",
    "        secret+=str(num)\n",
    "    zero = \"\"\n",
    "    seven = \"\"\n",
    "    for letter in secret:\n",
    "        if letter !=\"7\" and zero !=\"00\":\n",
    "            if letter == 0:\n",
    "                zero+=letter\n",
    "        elif letter =\"7\" and seven = \"\": \n",
    "            seven+=\"7\"\n",
    "    return zero+seven\n",
    "\n"
   ]
  },
  {
   "cell_type": "code",
   "execution_count": null,
   "metadata": {
    "collapsed": true
   },
   "outputs": [],
   "source": [
    "secret([1,0,6,0,8,7, 5])"
   ]
  },
  {
   "cell_type": "code",
   "execution_count": 18,
   "metadata": {
    "collapsed": true
   },
   "outputs": [],
   "source": [
    "def sec(text):\n",
    "    return \"007\" in text\n"
   ]
  },
  {
   "cell_type": "code",
   "execution_count": 20,
   "metadata": {},
   "outputs": [
    {
     "data": {
      "text/plain": [
       "False"
      ]
     },
     "execution_count": 20,
     "metadata": {},
     "output_type": "execute_result"
    }
   ],
   "source": [
    "sec(\"12346\")"
   ]
  },
  {
   "cell_type": "code",
   "execution_count": 1,
   "metadata": {
    "collapsed": true
   },
   "outputs": [],
   "source": [
    "def prime(numbers):\n",
    "    prime = 0\n",
    "    for num in numbers: \n",
    "        if num>1:\n",
    "            for i in range (2, (num+1), 2):\n",
    "                if num % i == 0:\n",
    "                    break\n",
    "                    else:\n",
    "                        print (num)\n",
    "\n",
    "\n",
    "            "
   ]
  },
  {
   "cell_type": "code",
   "execution_count": 2,
   "metadata": {},
   "outputs": [
    {
     "name": "stdout",
     "output_type": "stream",
     "text": [
      "5\n",
      "5\n",
      "7\n",
      "7\n",
      "7\n",
      "11\n",
      "11\n",
      "11\n",
      "11\n",
      "11\n",
      "5\n",
      "5\n",
      "11\n",
      "11\n",
      "11\n",
      "11\n",
      "11\n",
      "33\n",
      "33\n",
      "33\n",
      "33\n",
      "33\n",
      "33\n",
      "33\n",
      "33\n",
      "33\n",
      "33\n",
      "33\n",
      "33\n",
      "33\n",
      "33\n",
      "33\n",
      "33\n",
      "7\n",
      "7\n",
      "7\n"
     ]
    }
   ],
   "source": [
    "prime ([5, 2, 7, 11, 5, 6, 11, 33, 7, 8])"
   ]
  },
  {
   "cell_type": "code",
   "execution_count": 1,
   "metadata": {
    "collapsed": true
   },
   "outputs": [],
   "source": [
    "#update\n"
   ]
  },
  {
   "cell_type": "code",
   "execution_count": 5,
   "metadata": {},
   "outputs": [
    {
     "data": {
      "text/plain": [
       "343"
      ]
     },
     "execution_count": 5,
     "metadata": {},
     "output_type": "execute_result"
    }
   ],
   "source": [
    "def square(num):\n",
    "    return num**3\n",
    "square(7)"
   ]
  },
  {
   "cell_type": "code",
   "execution_count": 1,
   "metadata": {
    "collapsed": true
   },
   "outputs": [],
   "source": [
    "numbers = ([1,2,4])"
   ]
  },
  {
   "cell_type": "code",
   "execution_count": 3,
   "metadata": {},
   "outputs": [
    {
     "data": {
      "text/plain": [
       "[1, 2, 4]"
      ]
     },
     "execution_count": 3,
     "metadata": {},
     "output_type": "execute_result"
    }
   ],
   "source": [
    "numbers"
   ]
  },
  {
   "cell_type": "code",
   "execution_count": 6,
   "metadata": {},
   "outputs": [
    {
     "data": {
      "text/plain": [
       "[1, 8, 64]"
      ]
     },
     "execution_count": 6,
     "metadata": {},
     "output_type": "execute_result"
    }
   ],
   "source": [
    "list(map(square,numbers)) # funcion, that array"
   ]
  },
  {
   "cell_type": "code",
   "execution_count": 7,
   "metadata": {
    "collapsed": true
   },
   "outputs": [],
   "source": [
    "def splicer(mystring):\n",
    "    if len(mystring)%2 == 0:\n",
    "        return \"even\"\n",
    "    else:\n",
    "        return mystring[0]"
   ]
  },
  {
   "cell_type": "code",
   "execution_count": 8,
   "metadata": {
    "collapsed": true
   },
   "outputs": [],
   "source": [
    "list_of_name = [\"lauren\",\"mohamed\",\"andre\", \"mer\"]"
   ]
  },
  {
   "cell_type": "code",
   "execution_count": 9,
   "metadata": {},
   "outputs": [
    {
     "data": {
      "text/plain": [
       "['even', 'm', 'a', 'm']"
      ]
     },
     "execution_count": 9,
     "metadata": {},
     "output_type": "execute_result"
    }
   ],
   "source": [
    "list(map(splicer,list_of_name))"
   ]
  },
  {
   "cell_type": "code",
   "execution_count": 10,
   "metadata": {
    "collapsed": true
   },
   "outputs": [],
   "source": [
    "## filter function \n",
    "\n",
    "def even_num(num):\n",
    "    return num%2==0"
   ]
  },
  {
   "cell_type": "code",
   "execution_count": 11,
   "metadata": {
    "collapsed": true
   },
   "outputs": [],
   "source": [
    "list_of_numbers = [1,2,3,4,5,6]"
   ]
  },
  {
   "cell_type": "code",
   "execution_count": 12,
   "metadata": {},
   "outputs": [
    {
     "data": {
      "text/plain": [
       "[False, True, False, True, False, True]"
      ]
     },
     "execution_count": 12,
     "metadata": {},
     "output_type": "execute_result"
    }
   ],
   "source": [
    "list(map(even_num, list_of_numbers)) "
   ]
  },
  {
   "cell_type": "code",
   "execution_count": 13,
   "metadata": {},
   "outputs": [
    {
     "data": {
      "text/plain": [
       "[2, 4, 6]"
      ]
     },
     "execution_count": 13,
     "metadata": {},
     "output_type": "execute_result"
    }
   ],
   "source": [
    "list(filter(even_num, list_of_numbers)) # used filter to filter out true resulsts only "
   ]
  },
  {
   "cell_type": "code",
   "execution_count": 14,
   "metadata": {
    "collapsed": true
   },
   "outputs": [],
   "source": [
    "## lambda AKA anonymous function. used for a one time function, no need to give it a name "
   ]
  },
  {
   "cell_type": "code",
   "execution_count": 15,
   "metadata": {},
   "outputs": [
    {
     "data": {
      "text/plain": [
       "<function __main__.<lambda>>"
      ]
     },
     "execution_count": 15,
     "metadata": {},
     "output_type": "execute_result"
    }
   ],
   "source": [
    "lambda num : num **2 # for num, return num**2"
   ]
  },
  {
   "cell_type": "code",
   "execution_count": 16,
   "metadata": {
    "collapsed": true
   },
   "outputs": [],
   "source": [
    "## now use this insteaf of the def you created earlier, you pretty much saved one line of coding "
   ]
  },
  {
   "cell_type": "code",
   "execution_count": 17,
   "metadata": {},
   "outputs": [
    {
     "data": {
      "text/plain": [
       "[1, 4, 9, 16, 25, 36]"
      ]
     },
     "execution_count": 17,
     "metadata": {},
     "output_type": "execute_result"
    }
   ],
   "source": [
    "list(map(lambda num:num**2, list_of_numbers))"
   ]
  },
  {
   "cell_type": "code",
   "execution_count": 18,
   "metadata": {
    "collapsed": true
   },
   "outputs": [],
   "source": [
    "## now use lambda with filter funcion "
   ]
  },
  {
   "cell_type": "code",
   "execution_count": 19,
   "metadata": {},
   "outputs": [
    {
     "data": {
      "text/plain": [
       "[2, 4, 6]"
      ]
     },
     "execution_count": 19,
     "metadata": {},
     "output_type": "execute_result"
    }
   ],
   "source": [
    "list(filter(lambda num:num%2==0 , list_of_numbers))"
   ]
  },
  {
   "cell_type": "code",
   "execution_count": 20,
   "metadata": {},
   "outputs": [
    {
     "data": {
      "text/plain": [
       "['l', 'm', 'a', 'm']"
      ]
     },
     "execution_count": 20,
     "metadata": {},
     "output_type": "execute_result"
    }
   ],
   "source": [
    "list(map(lambda word: word[0], list_of_name))"
   ]
  },
  {
   "cell_type": "code",
   "execution_count": 21,
   "metadata": {
    "collapsed": true
   },
   "outputs": [],
   "source": [
    "## order of variables LEGB = Local, Enclosing, Global, Built-in"
   ]
  },
  {
   "cell_type": "code",
   "execution_count": 22,
   "metadata": {
    "collapsed": true
   },
   "outputs": [],
   "source": [
    "x = 25\n",
    "def fun():\n",
    "    global x ## using global, you will be able to change x in the top there\n",
    "    return x*2"
   ]
  },
  {
   "cell_type": "code",
   "execution_count": 23,
   "metadata": {},
   "outputs": [
    {
     "data": {
      "text/plain": [
       "50"
      ]
     },
     "execution_count": 23,
     "metadata": {},
     "output_type": "execute_result"
    }
   ],
   "source": [
    "fun()"
   ]
  },
  {
   "cell_type": "code",
   "execution_count": 24,
   "metadata": {
    "collapsed": true
   },
   "outputs": [],
   "source": [
    "## homework"
   ]
  },
  {
   "cell_type": "code",
   "execution_count": 25,
   "metadata": {},
   "outputs": [
    {
     "data": {
      "text/plain": [
       "4188.790204786391"
      ]
     },
     "execution_count": 25,
     "metadata": {},
     "output_type": "execute_result"
    }
   ],
   "source": [
    "## calculate sphere area\n",
    "from math import pi\n",
    "def sphere(r):\n",
    "    return (4/3)*pi*r**3\n",
    "sphere(10)"
   ]
  },
  {
   "cell_type": "code",
   "execution_count": 26,
   "metadata": {},
   "outputs": [
    {
     "data": {
      "text/plain": [
       "'in range'"
      ]
     },
     "execution_count": 26,
     "metadata": {},
     "output_type": "execute_result"
    }
   ],
   "source": [
    "## check if num within range\n",
    "def rang(num, high, low):\n",
    "    if num >= low and num<= high:\n",
    "        return 'in range'\n",
    "    else:\n",
    "        return \"no in range\"\n",
    "rang(8,8,3)"
   ]
  },
  {
   "cell_type": "code",
   "execution_count": 27,
   "metadata": {
    "collapsed": true
   },
   "outputs": [],
   "source": [
    "## check if num within range\n",
    "def rang(num, high, low):\n",
    "     return num >= low and num<= high"
   ]
  },
  {
   "cell_type": "code",
   "execution_count": 1,
   "metadata": {},
   "outputs": [],
   "source": [
    "## check if num within range\n",
    "def rang(num, high, low):\n",
    "     return num in range (low, high)"
   ]
  },
  {
   "cell_type": "code",
   "execution_count": 3,
   "metadata": {},
   "outputs": [
    {
     "name": "stdout",
     "output_type": "stream",
     "text": [
      "enter a text: kjkjkj j j .h\n"
     ]
    },
    {
     "data": {
      "text/plain": [
       "(9, 0)"
      ]
     },
     "execution_count": 3,
     "metadata": {},
     "output_type": "execute_result"
    }
   ],
   "source": [
    "## count the number of upper or lower case letters \n",
    "mystring = input(str(\"enter a text: \"))\n",
    "def num_of_letter(mystring):\n",
    "    lower_case_count = 0\n",
    "    upper_case_count = 0\n",
    "    for letter in mystring:\n",
    "        if (letter.islower()) == True:\n",
    "            lower_case_count +=1\n",
    "        elif (letter.isupper()) == True:\n",
    "             upper_case_count+=1\n",
    "            \n",
    "    return lower_case_count, upper_case_count        \n",
    "num_of_letter(mystring)   "
   ]
  },
  {
   "cell_type": "code",
   "execution_count": 31,
   "metadata": {},
   "outputs": [],
   "source": [
    "my_list = [1,2,2,2,3,5,6]\n",
    "\n",
    "def uniq(mylist):\n",
    "    unique_list = []\n",
    "    for i in mylist:\n",
    "        if i not in unique_list:\n",
    "            unique_list.append(i)\n",
    "        \n",
    "    return unique_list"
   ]
  },
  {
   "cell_type": "code",
   "execution_count": 32,
   "metadata": {},
   "outputs": [
    {
     "data": {
      "text/plain": [
       "[1, 3, 4, 56, 6, 7]"
      ]
     },
     "execution_count": 32,
     "metadata": {},
     "output_type": "execute_result"
    }
   ],
   "source": [
    "mylist  = [1,3,4,56,6,6,6,7]\n",
    "\n",
    "uniq(mylist)"
   ]
  },
  {
   "cell_type": "code",
   "execution_count": 33,
   "metadata": {},
   "outputs": [],
   "source": [
    "\n",
    "def mult(mylist):\n",
    "    multiply_list = 1\n",
    " \n",
    "    for i in mylist:\n",
    "        multiply_list = multiply_list*i\n",
    "    return multiply_list"
   ]
  },
  {
   "cell_type": "code",
   "execution_count": 37,
   "metadata": {},
   "outputs": [],
   "source": [
    "\n",
    "def mult(mylist):\n",
    "    total = mylist [0]\n",
    " \n",
    "    for i in mylist:\n",
    "        total*= i\n",
    "    return total"
   ]
  },
  {
   "cell_type": "code",
   "execution_count": 38,
   "metadata": {},
   "outputs": [
    {
     "data": {
      "text/plain": [
       "2"
      ]
     },
     "execution_count": 38,
     "metadata": {},
     "output_type": "execute_result"
    }
   ],
   "source": [
    "mult([1,2])"
   ]
  },
  {
   "cell_type": "code",
   "execution_count": 33,
   "metadata": {
    "collapsed": true
   },
   "outputs": [],
   "source": [
    "# check for palendrum\n",
    "def pal(string):\n",
    "    return string == string [::-1]"
   ]
  },
  {
   "cell_type": "code",
   "execution_count": 34,
   "metadata": {},
   "outputs": [
    {
     "data": {
      "text/plain": [
       "True"
      ]
     },
     "execution_count": 34,
     "metadata": {},
     "output_type": "execute_result"
    }
   ],
   "source": [
    "pal(\"ala\")"
   ]
  },
  {
   "cell_type": "code",
   "execution_count": 40,
   "metadata": {},
   "outputs": [],
   "source": [
    "import string\n",
    "def pan(string):\n",
    "    alphabet = \"\"\n",
    "    checklist= \"abcdefghijklmnopqrstuvwxyz\"\n",
    "    for letter in string:\n",
    "        if letter.lower() not in alphabet:\n",
    "            if letter in checklist:\n",
    "                alphabet+= letter.lower()\n",
    "    return alphabet == checklist"
   ]
  },
  {
   "cell_type": "code",
   "execution_count": 41,
   "metadata": {},
   "outputs": [
    {
     "data": {
      "text/plain": [
       "False"
      ]
     },
     "execution_count": 41,
     "metadata": {},
     "output_type": "execute_result"
    }
   ],
   "source": [
    "pan(\" quick brown fox jumps over the lazy dog\")"
   ]
  },
  {
   "cell_type": "code",
   "execution_count": 85,
   "metadata": {},
   "outputs": [
    {
     "data": {
      "text/plain": [
       "array([   1,    2,    3, ..., 1997, 1998, 1999])"
      ]
     },
     "execution_count": 85,
     "metadata": {},
     "output_type": "execute_result"
    }
   ],
   "source": [
    "##numpy \n",
    "\n",
    "import numpy as np\n",
    "\n",
    "a=np.arange(1,2000,1)\n",
    "a"
   ]
  },
  {
   "cell_type": "code",
   "execution_count": 86,
   "metadata": {},
   "outputs": [
    {
     "data": {
      "text/plain": [
       "array([   1,   11,   21,   31,   41,   51,   61,   71,   81,   91,  101,\n",
       "        111,  121,  131,  141,  151,  161,  171,  181,  191,  201,  211,\n",
       "        221,  231,  241,  251,  261,  271,  281,  291,  301,  311,  321,\n",
       "        331,  341,  351,  361,  371,  381,  391,  401,  411,  421,  431,\n",
       "        441,  451,  461,  471,  481,  491,  501,  511,  521,  531,  541,\n",
       "        551,  561,  571,  581,  591,  601,  611,  621,  631,  641,  651,\n",
       "        661,  671,  681,  691,  701,  711,  721,  731,  741,  751,  761,\n",
       "        771,  781,  791,  801,  811,  821,  831,  841,  851,  861,  871,\n",
       "        881,  891,  901,  911,  921,  931,  941,  951,  961,  971,  981,\n",
       "        991, 1001, 1011, 1021, 1031, 1041, 1051, 1061, 1071, 1081, 1091,\n",
       "       1101, 1111, 1121, 1131, 1141, 1151, 1161, 1171, 1181, 1191, 1201,\n",
       "       1211, 1221, 1231, 1241, 1251, 1261, 1271, 1281, 1291, 1301, 1311,\n",
       "       1321, 1331, 1341, 1351, 1361, 1371, 1381, 1391, 1401, 1411, 1421,\n",
       "       1431, 1441, 1451, 1461, 1471, 1481, 1491, 1501, 1511, 1521, 1531,\n",
       "       1541, 1551, 1561, 1571, 1581, 1591, 1601, 1611, 1621, 1631, 1641,\n",
       "       1651, 1661, 1671, 1681, 1691, 1701, 1711, 1721, 1731, 1741, 1751,\n",
       "       1761, 1771, 1781, 1791, 1801, 1811, 1821, 1831, 1841, 1851, 1861,\n",
       "       1871, 1881, 1891, 1901, 1911, 1921, 1931, 1941, 1951, 1961, 1971,\n",
       "       1981, 1991])"
      ]
     },
     "execution_count": 86,
     "metadata": {},
     "output_type": "execute_result"
    }
   ],
   "source": [
    "a=np.arange(1,2000,10)\n",
    "a"
   ]
  },
  {
   "cell_type": "code",
   "execution_count": 73,
   "metadata": {},
   "outputs": [
    {
     "data": {
      "text/plain": [
       "200"
      ]
     },
     "execution_count": 73,
     "metadata": {},
     "output_type": "execute_result"
    }
   ],
   "source": [
    "len(a)\n"
   ]
  },
  {
   "cell_type": "code",
   "execution_count": 74,
   "metadata": {},
   "outputs": [
    {
     "data": {
      "text/plain": [
       "200"
      ]
     },
     "execution_count": 74,
     "metadata": {},
     "output_type": "execute_result"
    }
   ],
   "source": [
    "a.size"
   ]
  },
  {
   "cell_type": "code",
   "execution_count": 75,
   "metadata": {},
   "outputs": [
    {
     "data": {
      "text/plain": [
       "dtype('int64')"
      ]
     },
     "execution_count": 75,
     "metadata": {},
     "output_type": "execute_result"
    }
   ],
   "source": [
    "a.dtype"
   ]
  },
  {
   "cell_type": "code",
   "execution_count": 76,
   "metadata": {},
   "outputs": [
    {
     "data": {
      "text/plain": [
       "8"
      ]
     },
     "execution_count": 76,
     "metadata": {},
     "output_type": "execute_result"
    }
   ],
   "source": [
    "a.itemsize"
   ]
  },
  {
   "cell_type": "code",
   "execution_count": 81,
   "metadata": {},
   "outputs": [
    {
     "data": {
      "text/plain": [
       "array([ True,  True,  True,  True, False, False, False, False, False,\n",
       "       False, False, False, False, False, False, False, False, False,\n",
       "       False, False, False, False, False, False, False, False, False,\n",
       "       False, False, False, False, False, False, False, False, False,\n",
       "       False, False, False, False, False, False, False, False, False,\n",
       "       False, False, False, False, False, False, False, False, False,\n",
       "       False, False, False, False, False, False, False, False, False,\n",
       "       False, False, False, False, False, False, False, False, False,\n",
       "       False, False, False, False, False, False, False, False, False,\n",
       "       False, False, False, False, False, False, False, False, False,\n",
       "       False, False, False, False, False, False, False, False, False,\n",
       "       False, False, False, False, False, False, False, False, False,\n",
       "       False, False, False, False, False, False, False, False, False,\n",
       "       False, False, False, False, False, False, False, False, False,\n",
       "       False, False, False, False, False, False, False, False, False,\n",
       "       False, False, False, False, False, False, False, False, False,\n",
       "       False, False, False, False, False, False, False, False, False,\n",
       "       False, False, False, False, False, False, False, False, False,\n",
       "       False, False, False, False, False, False, False, False, False,\n",
       "       False, False, False, False, False, False, False, False, False,\n",
       "       False, False, False, False, False, False, False, False, False,\n",
       "       False, False, False, False, False, False, False, False, False,\n",
       "       False, False])"
      ]
     },
     "execution_count": 81,
     "metadata": {},
     "output_type": "execute_result"
    }
   ],
   "source": [
    "a<100"
   ]
  },
  {
   "cell_type": "code",
   "execution_count": 119,
   "metadata": {},
   "outputs": [
    {
     "data": {
      "text/plain": [
       "array([[    65536,    720896,   1376256,   2031616,   2686976,   3342336,\n",
       "          3997696,   4653056,   5308416,   5963776,   6619136,   7274496,\n",
       "          7929856,   8585216,   9240576,   9895936,  10551296,  11206656,\n",
       "         11862016,  12517376,  13172736,  13828096,  14483456,  15138816,\n",
       "         15794176,  16449536,  17104896,  17760256,  18415616,  19070976,\n",
       "         19726336,  20381696,  21037056,  21692416,  22347776,  23003136,\n",
       "         23658496,  24313856,  24969216,  25624576,  26279936,  26935296,\n",
       "         27590656,  28246016,  28901376,  29556736,  30212096,  30867456,\n",
       "         31522816,  32178176],\n",
       "       [ 32833536,  33488896,  34144256,  34799616,  35454976,  36110336,\n",
       "         36765696,  37421056,  38076416,  38731776,  39387136,  40042496,\n",
       "         40697856,  41353216,  42008576,  42663936,  43319296,  43974656,\n",
       "         44630016,  45285376,  45940736,  46596096,  47251456,  47906816,\n",
       "         48562176,  49217536,  49872896,  50528256,  51183616,  51838976,\n",
       "         52494336,  53149696,  53805056,  54460416,  55115776,  55771136,\n",
       "         56426496,  57081856,  57737216,  58392576,  59047936,  59703296,\n",
       "         60358656,  61014016,  61669376,  62324736,  62980096,  63635456,\n",
       "         64290816,  64946176],\n",
       "       [ 65601536,  66256896,  66912256,  67567616,  68222976,  68878336,\n",
       "         69533696,  70189056,  70844416,  71499776,  72155136,  72810496,\n",
       "         73465856,  74121216,  74776576,  75431936,  76087296,  76742656,\n",
       "         77398016,  78053376,  78708736,  79364096,  80019456,  80674816,\n",
       "         81330176,  81985536,  82640896,  83296256,  83951616,  84606976,\n",
       "         85262336,  85917696,  86573056,  87228416,  87883776,  88539136,\n",
       "         89194496,  89849856,  90505216,  91160576,  91815936,  92471296,\n",
       "         93126656,  93782016,  94437376,  95092736,  95748096,  96403456,\n",
       "         97058816,  97714176],\n",
       "       [ 98369536,  99024896,  99680256, 100335616, 100990976, 101646336,\n",
       "        102301696, 102957056, 103612416, 104267776, 104923136, 105578496,\n",
       "        106233856, 106889216, 107544576, 108199936, 108855296, 109510656,\n",
       "        110166016, 110821376, 111476736, 112132096, 112787456, 113442816,\n",
       "        114098176, 114753536, 115408896, 116064256, 116719616, 117374976,\n",
       "        118030336, 118685696, 119341056, 119996416, 120651776, 121307136,\n",
       "        121962496, 122617856, 123273216, 123928576, 124583936, 125239296,\n",
       "        125894656, 126550016, 127205376, 127860736, 128516096, 129171456,\n",
       "        129826816, 130482176]])"
      ]
     },
     "execution_count": 119,
     "metadata": {},
     "output_type": "execute_result"
    }
   ],
   "source": [
    "a*=4\n",
    "a.reshape(4,50)"
   ]
  },
  {
   "cell_type": "code",
   "execution_count": 116,
   "metadata": {},
   "outputs": [
    {
     "data": {
      "text/plain": [
       "dtype('int64')"
      ]
     },
     "execution_count": 116,
     "metadata": {},
     "output_type": "execute_result"
    }
   ],
   "source": [
    "a.dtype"
   ]
  },
  {
   "cell_type": "code",
   "execution_count": 114,
   "metadata": {},
   "outputs": [
    {
     "data": {
      "text/plain": [
       "array([ 1,  3,  5,  7,  9, 11, 13, 15, 17, 19], dtype=int8)"
      ]
     },
     "execution_count": 114,
     "metadata": {},
     "output_type": "execute_result"
    }
   ],
   "source": [
    "b = (np.arange(1,20,2, dtype =np.int8))\n",
    "b"
   ]
  },
  {
   "cell_type": "code",
   "execution_count": 120,
   "metadata": {},
   "outputs": [
    {
     "data": {
      "text/plain": [
       "array([ 1,  3,  5,  7,  9, 11, 13, 15, 17, 19], dtype=int8)"
      ]
     },
     "execution_count": 120,
     "metadata": {},
     "output_type": "execute_result"
    }
   ],
   "source": [
    "b.reshape(5,2)\n",
    "b.size\n",
    "b"
   ]
  },
  {
   "cell_type": "code",
   "execution_count": 121,
   "metadata": {},
   "outputs": [
    {
     "data": {
      "text/plain": [
       "array([1, 4, 2], dtype=int16)"
      ]
     },
     "execution_count": 121,
     "metadata": {},
     "output_type": "execute_result"
    }
   ],
   "source": [
    "c=(np.array([1,4,2], dtype = np.int16))\n",
    "c"
   ]
  },
  {
   "cell_type": "code",
   "execution_count": 137,
   "metadata": {},
   "outputs": [
    {
     "data": {
      "text/plain": [
       "array([21, 28, 27, 23, 34, 16], dtype=int16)"
      ]
     },
     "execution_count": 137,
     "metadata": {},
     "output_type": "execute_result"
    }
   ],
   "source": [
    "r = np.random.randint(0,40,6, dtype=np.int16)\n",
    "r"
   ]
  },
  {
   "cell_type": "code",
   "execution_count": 160,
   "metadata": {},
   "outputs": [
    {
     "data": {
      "text/plain": [
       "(34, 16, 149, 24.833333333333332, 5.6984403324262525, 32.47222222222222)"
      ]
     },
     "execution_count": 160,
     "metadata": {},
     "output_type": "execute_result"
    }
   ],
   "source": [
    "r.max(), r.min(), r.sum(), r.mean(), r.std(), r.var()"
   ]
  },
  {
   "cell_type": "code",
   "execution_count": 188,
   "metadata": {},
   "outputs": [
    {
     "data": {
      "text/plain": [
       "149"
      ]
     },
     "execution_count": 188,
     "metadata": {},
     "output_type": "execute_result"
    }
   ],
   "source": [
    "r.reshape(3,2)\n",
    "r.sum(axis=0)\n"
   ]
  },
  {
   "cell_type": "code",
   "execution_count": 190,
   "metadata": {},
   "outputs": [
    {
     "ename": "AxisError",
     "evalue": "axis 1 is out of bounds for array of dimension 1",
     "output_type": "error",
     "traceback": [
      "\u001b[0;31m---------------------------------------------------------------------------\u001b[0m",
      "\u001b[0;31mAxisError\u001b[0m                                 Traceback (most recent call last)",
      "\u001b[0;32m<ipython-input-190-d47355682db5>\u001b[0m in \u001b[0;36m<module>\u001b[0;34m()\u001b[0m\n\u001b[0;32m----> 1\u001b[0;31m \u001b[0ma\u001b[0m\u001b[0;34m.\u001b[0m\u001b[0msum\u001b[0m\u001b[0;34m(\u001b[0m\u001b[0maxis\u001b[0m\u001b[0;34m=\u001b[0m\u001b[0;36m1\u001b[0m\u001b[0;34m)\u001b[0m\u001b[0;34m\u001b[0m\u001b[0m\n\u001b[0m",
      "\u001b[0;32m~/anaconda3/lib/python3.7/site-packages/numpy/core/_methods.py\u001b[0m in \u001b[0;36m_sum\u001b[0;34m(a, axis, dtype, out, keepdims, initial)\u001b[0m\n\u001b[1;32m     34\u001b[0m def _sum(a, axis=None, dtype=None, out=None, keepdims=False,\n\u001b[1;32m     35\u001b[0m          initial=_NoValue):\n\u001b[0;32m---> 36\u001b[0;31m     \u001b[0;32mreturn\u001b[0m \u001b[0mumr_sum\u001b[0m\u001b[0;34m(\u001b[0m\u001b[0ma\u001b[0m\u001b[0;34m,\u001b[0m \u001b[0maxis\u001b[0m\u001b[0;34m,\u001b[0m \u001b[0mdtype\u001b[0m\u001b[0;34m,\u001b[0m \u001b[0mout\u001b[0m\u001b[0;34m,\u001b[0m \u001b[0mkeepdims\u001b[0m\u001b[0;34m,\u001b[0m \u001b[0minitial\u001b[0m\u001b[0;34m)\u001b[0m\u001b[0;34m\u001b[0m\u001b[0m\n\u001b[0m\u001b[1;32m     37\u001b[0m \u001b[0;34m\u001b[0m\u001b[0m\n\u001b[1;32m     38\u001b[0m def _prod(a, axis=None, dtype=None, out=None, keepdims=False,\n",
      "\u001b[0;31mAxisError\u001b[0m: axis 1 is out of bounds for array of dimension 1"
     ]
    }
   ],
   "source": [
    "a.sum(axis=1)"
   ]
  },
  {
   "cell_type": "code",
   "execution_count": 196,
   "metadata": {},
   "outputs": [
    {
     "data": {
      "text/plain": [
       "array([[1, 2],\n",
       "       [3, 4],\n",
       "       [5, 6],\n",
       "       [7, 8]])"
      ]
     },
     "execution_count": 196,
     "metadata": {},
     "output_type": "execute_result"
    }
   ],
   "source": [
    "d = (np.arange(1,9,1)).reshape(4,2)\n",
    "d\n"
   ]
  },
  {
   "cell_type": "code",
   "execution_count": 197,
   "metadata": {},
   "outputs": [
    {
     "data": {
      "text/plain": [
       "array([ 3,  7, 11, 15])"
      ]
     },
     "execution_count": 197,
     "metadata": {},
     "output_type": "execute_result"
    }
   ],
   "source": [
    "d.sum(axis=1)"
   ]
  },
  {
   "cell_type": "code",
   "execution_count": null,
   "metadata": {},
   "outputs": [],
   "source": [
    "## Pandas"
   ]
  },
  {
   "cell_type": "code",
   "execution_count": 1,
   "metadata": {},
   "outputs": [],
   "source": [
    "import numpy as np\n",
    "import pandas as pd\n"
   ]
  },
  {
   "cell_type": "code",
   "execution_count": 2,
   "metadata": {},
   "outputs": [],
   "source": [
    "file = \"Fremont_weather.txt\""
   ]
  },
  {
   "cell_type": "code",
   "execution_count": 3,
   "metadata": {},
   "outputs": [],
   "source": [
    "df = pd.read_csv(file)"
   ]
  },
  {
   "cell_type": "code",
   "execution_count": 4,
   "metadata": {},
   "outputs": [
    {
     "data": {
      "text/plain": [
       "month                 object\n",
       "avg_high               int64\n",
       "avg_low                int64\n",
       "record_high            int64\n",
       "record_low             int64\n",
       "avg_precipitation    float64\n",
       "dtype: object"
      ]
     },
     "execution_count": 4,
     "metadata": {},
     "output_type": "execute_result"
    }
   ],
   "source": [
    "df.dtypes"
   ]
  },
  {
   "cell_type": "code",
   "execution_count": 5,
   "metadata": {},
   "outputs": [
    {
     "data": {
      "text/plain": [
       "RangeIndex(start=0, stop=12, step=1)"
      ]
     },
     "execution_count": 5,
     "metadata": {},
     "output_type": "execute_result"
    }
   ],
   "source": [
    "df.index"
   ]
  },
  {
   "cell_type": "code",
   "execution_count": 6,
   "metadata": {},
   "outputs": [
    {
     "data": {
      "text/plain": [
       "Index(['month', 'avg_high', 'avg_low', 'record_high', 'record_low',\n",
       "       'avg_precipitation'],\n",
       "      dtype='object')"
      ]
     },
     "execution_count": 6,
     "metadata": {},
     "output_type": "execute_result"
    }
   ],
   "source": [
    "df.columns"
   ]
  },
  {
   "cell_type": "code",
   "execution_count": 23,
   "metadata": {},
   "outputs": [
    {
     "data": {
      "text/plain": [
       "array([['Jan', 58, 42, 74, 22, 2.95],\n",
       "       ['Feb', 61, 45, 78, 26, 3.02],\n",
       "       ['Mar', 65, 48, 84, 25, 2.34],\n",
       "       ['Apr', 67, 50, 92, 28, 1.02],\n",
       "       ['May', 71, 53, 98, 35, 0.48],\n",
       "       ['Jun', 75, 56, 107, 41, 0.11],\n",
       "       ['Jul', 77, 58, 105, 44, 0.0],\n",
       "       ['Aug', 77, 59, 102, 43, 0.03],\n",
       "       ['Sep', 77, 57, 103, 40, 0.17],\n",
       "       ['Oct', 73, 54, 96, 34, 0.81],\n",
       "       ['Nov', 64, 48, 84, 30, 1.7],\n",
       "       ['Dec', 58, 42, 73, 21, 2.56]], dtype=object)"
      ]
     },
     "execution_count": 23,
     "metadata": {},
     "output_type": "execute_result"
    }
   ],
   "source": [
    "df.values"
   ]
  },
  {
   "cell_type": "code",
   "execution_count": 7,
   "metadata": {},
   "outputs": [
    {
     "data": {
      "text/html": [
       "<div>\n",
       "<style scoped>\n",
       "    .dataframe tbody tr th:only-of-type {\n",
       "        vertical-align: middle;\n",
       "    }\n",
       "\n",
       "    .dataframe tbody tr th {\n",
       "        vertical-align: top;\n",
       "    }\n",
       "\n",
       "    .dataframe thead th {\n",
       "        text-align: right;\n",
       "    }\n",
       "</style>\n",
       "<table border=\"1\" class=\"dataframe\">\n",
       "  <thead>\n",
       "    <tr style=\"text-align: right;\">\n",
       "      <th></th>\n",
       "      <th>avg_high</th>\n",
       "      <th>avg_low</th>\n",
       "      <th>record_high</th>\n",
       "      <th>record_low</th>\n",
       "      <th>avg_precipitation</th>\n",
       "    </tr>\n",
       "  </thead>\n",
       "  <tbody>\n",
       "    <tr>\n",
       "      <th>count</th>\n",
       "      <td>12.000000</td>\n",
       "      <td>12.000000</td>\n",
       "      <td>12.000000</td>\n",
       "      <td>12.000000</td>\n",
       "      <td>12.000000</td>\n",
       "    </tr>\n",
       "    <tr>\n",
       "      <th>mean</th>\n",
       "      <td>68.583333</td>\n",
       "      <td>51.000000</td>\n",
       "      <td>91.333333</td>\n",
       "      <td>32.416667</td>\n",
       "      <td>1.265833</td>\n",
       "    </tr>\n",
       "    <tr>\n",
       "      <th>std</th>\n",
       "      <td>7.366488</td>\n",
       "      <td>6.060303</td>\n",
       "      <td>12.323911</td>\n",
       "      <td>8.240238</td>\n",
       "      <td>1.186396</td>\n",
       "    </tr>\n",
       "    <tr>\n",
       "      <th>min</th>\n",
       "      <td>58.000000</td>\n",
       "      <td>42.000000</td>\n",
       "      <td>73.000000</td>\n",
       "      <td>21.000000</td>\n",
       "      <td>0.000000</td>\n",
       "    </tr>\n",
       "    <tr>\n",
       "      <th>25%</th>\n",
       "      <td>63.250000</td>\n",
       "      <td>47.250000</td>\n",
       "      <td>82.500000</td>\n",
       "      <td>25.750000</td>\n",
       "      <td>0.155000</td>\n",
       "    </tr>\n",
       "    <tr>\n",
       "      <th>50%</th>\n",
       "      <td>69.000000</td>\n",
       "      <td>51.500000</td>\n",
       "      <td>94.000000</td>\n",
       "      <td>32.000000</td>\n",
       "      <td>0.915000</td>\n",
       "    </tr>\n",
       "    <tr>\n",
       "      <th>75%</th>\n",
       "      <td>75.500000</td>\n",
       "      <td>56.250000</td>\n",
       "      <td>102.250000</td>\n",
       "      <td>40.250000</td>\n",
       "      <td>2.395000</td>\n",
       "    </tr>\n",
       "    <tr>\n",
       "      <th>max</th>\n",
       "      <td>77.000000</td>\n",
       "      <td>59.000000</td>\n",
       "      <td>107.000000</td>\n",
       "      <td>44.000000</td>\n",
       "      <td>3.020000</td>\n",
       "    </tr>\n",
       "  </tbody>\n",
       "</table>\n",
       "</div>"
      ],
      "text/plain": [
       "        avg_high    avg_low  record_high  record_low  avg_precipitation\n",
       "count  12.000000  12.000000    12.000000   12.000000          12.000000\n",
       "mean   68.583333  51.000000    91.333333   32.416667           1.265833\n",
       "std     7.366488   6.060303    12.323911    8.240238           1.186396\n",
       "min    58.000000  42.000000    73.000000   21.000000           0.000000\n",
       "25%    63.250000  47.250000    82.500000   25.750000           0.155000\n",
       "50%    69.000000  51.500000    94.000000   32.000000           0.915000\n",
       "75%    75.500000  56.250000   102.250000   40.250000           2.395000\n",
       "max    77.000000  59.000000   107.000000   44.000000           3.020000"
      ]
     },
     "execution_count": 7,
     "metadata": {},
     "output_type": "execute_result"
    }
   ],
   "source": [
    "df.describe()\n"
   ]
  },
  {
   "cell_type": "code",
   "execution_count": 33,
   "metadata": {},
   "outputs": [
    {
     "data": {
      "text/html": [
       "<div>\n",
       "<style scoped>\n",
       "    .dataframe tbody tr th:only-of-type {\n",
       "        vertical-align: middle;\n",
       "    }\n",
       "\n",
       "    .dataframe tbody tr th {\n",
       "        vertical-align: top;\n",
       "    }\n",
       "\n",
       "    .dataframe thead th {\n",
       "        text-align: right;\n",
       "    }\n",
       "</style>\n",
       "<table border=\"1\" class=\"dataframe\">\n",
       "  <thead>\n",
       "    <tr style=\"text-align: right;\">\n",
       "      <th></th>\n",
       "      <th>month</th>\n",
       "      <th>avg_high</th>\n",
       "      <th>avg_low</th>\n",
       "      <th>record_high</th>\n",
       "      <th>record_low</th>\n",
       "      <th>avg_precipitation</th>\n",
       "    </tr>\n",
       "  </thead>\n",
       "  <tbody>\n",
       "    <tr>\n",
       "      <th>0</th>\n",
       "      <td>Jan</td>\n",
       "      <td>58</td>\n",
       "      <td>42</td>\n",
       "      <td>74</td>\n",
       "      <td>22</td>\n",
       "      <td>2.95</td>\n",
       "    </tr>\n",
       "    <tr>\n",
       "      <th>1</th>\n",
       "      <td>Feb</td>\n",
       "      <td>61</td>\n",
       "      <td>45</td>\n",
       "      <td>78</td>\n",
       "      <td>26</td>\n",
       "      <td>3.02</td>\n",
       "    </tr>\n",
       "    <tr>\n",
       "      <th>2</th>\n",
       "      <td>Mar</td>\n",
       "      <td>65</td>\n",
       "      <td>48</td>\n",
       "      <td>84</td>\n",
       "      <td>25</td>\n",
       "      <td>2.34</td>\n",
       "    </tr>\n",
       "    <tr>\n",
       "      <th>3</th>\n",
       "      <td>Apr</td>\n",
       "      <td>67</td>\n",
       "      <td>50</td>\n",
       "      <td>92</td>\n",
       "      <td>28</td>\n",
       "      <td>1.02</td>\n",
       "    </tr>\n",
       "    <tr>\n",
       "      <th>4</th>\n",
       "      <td>May</td>\n",
       "      <td>71</td>\n",
       "      <td>53</td>\n",
       "      <td>98</td>\n",
       "      <td>35</td>\n",
       "      <td>0.48</td>\n",
       "    </tr>\n",
       "    <tr>\n",
       "      <th>5</th>\n",
       "      <td>Jun</td>\n",
       "      <td>75</td>\n",
       "      <td>56</td>\n",
       "      <td>107</td>\n",
       "      <td>41</td>\n",
       "      <td>0.11</td>\n",
       "    </tr>\n",
       "    <tr>\n",
       "      <th>6</th>\n",
       "      <td>Jul</td>\n",
       "      <td>77</td>\n",
       "      <td>58</td>\n",
       "      <td>105</td>\n",
       "      <td>44</td>\n",
       "      <td>0.00</td>\n",
       "    </tr>\n",
       "    <tr>\n",
       "      <th>7</th>\n",
       "      <td>Aug</td>\n",
       "      <td>77</td>\n",
       "      <td>59</td>\n",
       "      <td>102</td>\n",
       "      <td>43</td>\n",
       "      <td>0.03</td>\n",
       "    </tr>\n",
       "    <tr>\n",
       "      <th>8</th>\n",
       "      <td>Sep</td>\n",
       "      <td>77</td>\n",
       "      <td>57</td>\n",
       "      <td>103</td>\n",
       "      <td>40</td>\n",
       "      <td>0.17</td>\n",
       "    </tr>\n",
       "    <tr>\n",
       "      <th>9</th>\n",
       "      <td>Oct</td>\n",
       "      <td>73</td>\n",
       "      <td>54</td>\n",
       "      <td>96</td>\n",
       "      <td>34</td>\n",
       "      <td>0.81</td>\n",
       "    </tr>\n",
       "    <tr>\n",
       "      <th>10</th>\n",
       "      <td>Nov</td>\n",
       "      <td>64</td>\n",
       "      <td>48</td>\n",
       "      <td>84</td>\n",
       "      <td>30</td>\n",
       "      <td>1.70</td>\n",
       "    </tr>\n",
       "    <tr>\n",
       "      <th>11</th>\n",
       "      <td>Dec</td>\n",
       "      <td>58</td>\n",
       "      <td>42</td>\n",
       "      <td>73</td>\n",
       "      <td>21</td>\n",
       "      <td>2.56</td>\n",
       "    </tr>\n",
       "  </tbody>\n",
       "</table>\n",
       "</div>"
      ],
      "text/plain": [
       "   month  avg_high  avg_low  record_high  record_low  avg_precipitation\n",
       "0    Jan        58       42           74          22               2.95\n",
       "1    Feb        61       45           78          26               3.02\n",
       "2    Mar        65       48           84          25               2.34\n",
       "3    Apr        67       50           92          28               1.02\n",
       "4    May        71       53           98          35               0.48\n",
       "5    Jun        75       56          107          41               0.11\n",
       "6    Jul        77       58          105          44               0.00\n",
       "7    Aug        77       59          102          43               0.03\n",
       "8    Sep        77       57          103          40               0.17\n",
       "9    Oct        73       54           96          34               0.81\n",
       "10   Nov        64       48           84          30               1.70\n",
       "11   Dec        58       42           73          21               2.56"
      ]
     },
     "execution_count": 33,
     "metadata": {},
     "output_type": "execute_result"
    }
   ],
   "source": [
    "df.sort_index( ascending=True)"
   ]
  },
  {
   "cell_type": "code",
   "execution_count": 35,
   "metadata": {},
   "outputs": [
    {
     "data": {
      "text/html": [
       "<div>\n",
       "<style scoped>\n",
       "    .dataframe tbody tr th:only-of-type {\n",
       "        vertical-align: middle;\n",
       "    }\n",
       "\n",
       "    .dataframe tbody tr th {\n",
       "        vertical-align: top;\n",
       "    }\n",
       "\n",
       "    .dataframe thead th {\n",
       "        text-align: right;\n",
       "    }\n",
       "</style>\n",
       "<table border=\"1\" class=\"dataframe\">\n",
       "  <thead>\n",
       "    <tr style=\"text-align: right;\">\n",
       "      <th></th>\n",
       "      <th>month</th>\n",
       "      <th>avg_high</th>\n",
       "      <th>avg_low</th>\n",
       "      <th>record_high</th>\n",
       "      <th>record_low</th>\n",
       "      <th>avg_precipitation</th>\n",
       "    </tr>\n",
       "  </thead>\n",
       "  <tbody>\n",
       "    <tr>\n",
       "      <th>1</th>\n",
       "      <td>Feb</td>\n",
       "      <td>61</td>\n",
       "      <td>45</td>\n",
       "      <td>78</td>\n",
       "      <td>26</td>\n",
       "      <td>3.02</td>\n",
       "    </tr>\n",
       "    <tr>\n",
       "      <th>0</th>\n",
       "      <td>Jan</td>\n",
       "      <td>58</td>\n",
       "      <td>42</td>\n",
       "      <td>74</td>\n",
       "      <td>22</td>\n",
       "      <td>2.95</td>\n",
       "    </tr>\n",
       "    <tr>\n",
       "      <th>11</th>\n",
       "      <td>Dec</td>\n",
       "      <td>58</td>\n",
       "      <td>42</td>\n",
       "      <td>73</td>\n",
       "      <td>21</td>\n",
       "      <td>2.56</td>\n",
       "    </tr>\n",
       "    <tr>\n",
       "      <th>2</th>\n",
       "      <td>Mar</td>\n",
       "      <td>65</td>\n",
       "      <td>48</td>\n",
       "      <td>84</td>\n",
       "      <td>25</td>\n",
       "      <td>2.34</td>\n",
       "    </tr>\n",
       "    <tr>\n",
       "      <th>10</th>\n",
       "      <td>Nov</td>\n",
       "      <td>64</td>\n",
       "      <td>48</td>\n",
       "      <td>84</td>\n",
       "      <td>30</td>\n",
       "      <td>1.70</td>\n",
       "    </tr>\n",
       "    <tr>\n",
       "      <th>3</th>\n",
       "      <td>Apr</td>\n",
       "      <td>67</td>\n",
       "      <td>50</td>\n",
       "      <td>92</td>\n",
       "      <td>28</td>\n",
       "      <td>1.02</td>\n",
       "    </tr>\n",
       "    <tr>\n",
       "      <th>9</th>\n",
       "      <td>Oct</td>\n",
       "      <td>73</td>\n",
       "      <td>54</td>\n",
       "      <td>96</td>\n",
       "      <td>34</td>\n",
       "      <td>0.81</td>\n",
       "    </tr>\n",
       "    <tr>\n",
       "      <th>4</th>\n",
       "      <td>May</td>\n",
       "      <td>71</td>\n",
       "      <td>53</td>\n",
       "      <td>98</td>\n",
       "      <td>35</td>\n",
       "      <td>0.48</td>\n",
       "    </tr>\n",
       "    <tr>\n",
       "      <th>8</th>\n",
       "      <td>Sep</td>\n",
       "      <td>77</td>\n",
       "      <td>57</td>\n",
       "      <td>103</td>\n",
       "      <td>40</td>\n",
       "      <td>0.17</td>\n",
       "    </tr>\n",
       "    <tr>\n",
       "      <th>5</th>\n",
       "      <td>Jun</td>\n",
       "      <td>75</td>\n",
       "      <td>56</td>\n",
       "      <td>107</td>\n",
       "      <td>41</td>\n",
       "      <td>0.11</td>\n",
       "    </tr>\n",
       "    <tr>\n",
       "      <th>7</th>\n",
       "      <td>Aug</td>\n",
       "      <td>77</td>\n",
       "      <td>59</td>\n",
       "      <td>102</td>\n",
       "      <td>43</td>\n",
       "      <td>0.03</td>\n",
       "    </tr>\n",
       "    <tr>\n",
       "      <th>6</th>\n",
       "      <td>Jul</td>\n",
       "      <td>77</td>\n",
       "      <td>58</td>\n",
       "      <td>105</td>\n",
       "      <td>44</td>\n",
       "      <td>0.00</td>\n",
       "    </tr>\n",
       "  </tbody>\n",
       "</table>\n",
       "</div>"
      ],
      "text/plain": [
       "   month  avg_high  avg_low  record_high  record_low  avg_precipitation\n",
       "1    Feb        61       45           78          26               3.02\n",
       "0    Jan        58       42           74          22               2.95\n",
       "11   Dec        58       42           73          21               2.56\n",
       "2    Mar        65       48           84          25               2.34\n",
       "10   Nov        64       48           84          30               1.70\n",
       "3    Apr        67       50           92          28               1.02\n",
       "9    Oct        73       54           96          34               0.81\n",
       "4    May        71       53           98          35               0.48\n",
       "8    Sep        77       57          103          40               0.17\n",
       "5    Jun        75       56          107          41               0.11\n",
       "7    Aug        77       59          102          43               0.03\n",
       "6    Jul        77       58          105          44               0.00"
      ]
     },
     "execution_count": 35,
     "metadata": {},
     "output_type": "execute_result"
    }
   ],
   "source": [
    "df.sort_values(\"avg_precipitation\", ascending=False)"
   ]
  },
  {
   "cell_type": "code",
   "execution_count": 36,
   "metadata": {},
   "outputs": [
    {
     "data": {
      "text/plain": [
       "0     58\n",
       "1     61\n",
       "2     65\n",
       "3     67\n",
       "4     71\n",
       "5     75\n",
       "6     77\n",
       "7     77\n",
       "8     77\n",
       "9     73\n",
       "10    64\n",
       "11    58\n",
       "Name: avg_high, dtype: int64"
      ]
     },
     "execution_count": 36,
     "metadata": {},
     "output_type": "execute_result"
    }
   ],
   "source": [
    "#Slicing the data\n",
    "df.avg_high"
   ]
  },
  {
   "cell_type": "code",
   "execution_count": 46,
   "metadata": {},
   "outputs": [
    {
     "data": {
      "text/html": [
       "<div>\n",
       "<style scoped>\n",
       "    .dataframe tbody tr th:only-of-type {\n",
       "        vertical-align: middle;\n",
       "    }\n",
       "\n",
       "    .dataframe tbody tr th {\n",
       "        vertical-align: top;\n",
       "    }\n",
       "\n",
       "    .dataframe thead th {\n",
       "        text-align: right;\n",
       "    }\n",
       "</style>\n",
       "<table border=\"1\" class=\"dataframe\">\n",
       "  <thead>\n",
       "    <tr style=\"text-align: right;\">\n",
       "      <th></th>\n",
       "      <th>avg_high</th>\n",
       "      <th>avg_low</th>\n",
       "    </tr>\n",
       "  </thead>\n",
       "  <tbody>\n",
       "    <tr>\n",
       "      <th>0</th>\n",
       "      <td>58</td>\n",
       "      <td>42</td>\n",
       "    </tr>\n",
       "    <tr>\n",
       "      <th>1</th>\n",
       "      <td>61</td>\n",
       "      <td>45</td>\n",
       "    </tr>\n",
       "    <tr>\n",
       "      <th>2</th>\n",
       "      <td>65</td>\n",
       "      <td>48</td>\n",
       "    </tr>\n",
       "    <tr>\n",
       "      <th>3</th>\n",
       "      <td>67</td>\n",
       "      <td>50</td>\n",
       "    </tr>\n",
       "    <tr>\n",
       "      <th>4</th>\n",
       "      <td>71</td>\n",
       "      <td>53</td>\n",
       "    </tr>\n",
       "    <tr>\n",
       "      <th>5</th>\n",
       "      <td>75</td>\n",
       "      <td>56</td>\n",
       "    </tr>\n",
       "    <tr>\n",
       "      <th>6</th>\n",
       "      <td>77</td>\n",
       "      <td>58</td>\n",
       "    </tr>\n",
       "    <tr>\n",
       "      <th>7</th>\n",
       "      <td>77</td>\n",
       "      <td>59</td>\n",
       "    </tr>\n",
       "    <tr>\n",
       "      <th>8</th>\n",
       "      <td>77</td>\n",
       "      <td>57</td>\n",
       "    </tr>\n",
       "    <tr>\n",
       "      <th>9</th>\n",
       "      <td>73</td>\n",
       "      <td>54</td>\n",
       "    </tr>\n",
       "    <tr>\n",
       "      <th>10</th>\n",
       "      <td>64</td>\n",
       "      <td>48</td>\n",
       "    </tr>\n",
       "    <tr>\n",
       "      <th>11</th>\n",
       "      <td>58</td>\n",
       "      <td>42</td>\n",
       "    </tr>\n",
       "  </tbody>\n",
       "</table>\n",
       "</div>"
      ],
      "text/plain": [
       "    avg_high  avg_low\n",
       "0         58       42\n",
       "1         61       45\n",
       "2         65       48\n",
       "3         67       50\n",
       "4         71       53\n",
       "5         75       56\n",
       "6         77       58\n",
       "7         77       59\n",
       "8         77       57\n",
       "9         73       54\n",
       "10        64       48\n",
       "11        58       42"
      ]
     },
     "execution_count": 46,
     "metadata": {},
     "output_type": "execute_result"
    }
   ],
   "source": [
    "df[[\"avg_high\", \"avg_low\"]]"
   ]
  },
  {
   "cell_type": "code",
   "execution_count": 62,
   "metadata": {},
   "outputs": [
    {
     "data": {
      "text/html": [
       "<div>\n",
       "<style scoped>\n",
       "    .dataframe tbody tr th:only-of-type {\n",
       "        vertical-align: middle;\n",
       "    }\n",
       "\n",
       "    .dataframe tbody tr th {\n",
       "        vertical-align: top;\n",
       "    }\n",
       "\n",
       "    .dataframe thead th {\n",
       "        text-align: right;\n",
       "    }\n",
       "</style>\n",
       "<table border=\"1\" class=\"dataframe\">\n",
       "  <thead>\n",
       "    <tr style=\"text-align: right;\">\n",
       "      <th></th>\n",
       "      <th>month</th>\n",
       "      <th>avg_high</th>\n",
       "      <th>avg_low</th>\n",
       "      <th>record_high</th>\n",
       "      <th>record_low</th>\n",
       "      <th>avg_precipitation</th>\n",
       "    </tr>\n",
       "  </thead>\n",
       "  <tbody>\n",
       "    <tr>\n",
       "      <th>1</th>\n",
       "      <td>Feb</td>\n",
       "      <td>61</td>\n",
       "      <td>45</td>\n",
       "      <td>78</td>\n",
       "      <td>26</td>\n",
       "      <td>3.02</td>\n",
       "    </tr>\n",
       "    <tr>\n",
       "      <th>2</th>\n",
       "      <td>Mar</td>\n",
       "      <td>65</td>\n",
       "      <td>48</td>\n",
       "      <td>84</td>\n",
       "      <td>25</td>\n",
       "      <td>2.34</td>\n",
       "    </tr>\n",
       "    <tr>\n",
       "      <th>3</th>\n",
       "      <td>Apr</td>\n",
       "      <td>67</td>\n",
       "      <td>50</td>\n",
       "      <td>92</td>\n",
       "      <td>28</td>\n",
       "      <td>1.02</td>\n",
       "    </tr>\n",
       "    <tr>\n",
       "      <th>4</th>\n",
       "      <td>May</td>\n",
       "      <td>71</td>\n",
       "      <td>53</td>\n",
       "      <td>98</td>\n",
       "      <td>35</td>\n",
       "      <td>0.48</td>\n",
       "    </tr>\n",
       "    <tr>\n",
       "      <th>5</th>\n",
       "      <td>Jun</td>\n",
       "      <td>75</td>\n",
       "      <td>56</td>\n",
       "      <td>107</td>\n",
       "      <td>41</td>\n",
       "      <td>0.11</td>\n",
       "    </tr>\n",
       "  </tbody>\n",
       "</table>\n",
       "</div>"
      ],
      "text/plain": [
       "  month  avg_high  avg_low  record_high  record_low  avg_precipitation\n",
       "1   Feb        61       45           78          26               3.02\n",
       "2   Mar        65       48           84          25               2.34\n",
       "3   Apr        67       50           92          28               1.02\n",
       "4   May        71       53           98          35               0.48\n",
       "5   Jun        75       56          107          41               0.11"
      ]
     },
     "execution_count": 62,
     "metadata": {},
     "output_type": "execute_result"
    }
   ],
   "source": [
    "df[1:6]"
   ]
  },
  {
   "cell_type": "code",
   "execution_count": 76,
   "metadata": {},
   "outputs": [
    {
     "data": {
      "text/plain": [
       "month                 Sep\n",
       "avg_high               77\n",
       "avg_low                59\n",
       "record_high           107\n",
       "record_low             44\n",
       "avg_precipitation    3.02\n",
       "dtype: object"
      ]
     },
     "execution_count": 76,
     "metadata": {},
     "output_type": "execute_result"
    }
   ],
   "source": [
    "df.max()"
   ]
  },
  {
   "cell_type": "code",
   "execution_count": 81,
   "metadata": {},
   "outputs": [
    {
     "data": {
      "text/html": [
       "<div>\n",
       "<style scoped>\n",
       "    .dataframe tbody tr th:only-of-type {\n",
       "        vertical-align: middle;\n",
       "    }\n",
       "\n",
       "    .dataframe tbody tr th {\n",
       "        vertical-align: top;\n",
       "    }\n",
       "\n",
       "    .dataframe thead th {\n",
       "        text-align: right;\n",
       "    }\n",
       "</style>\n",
       "<table border=\"1\" class=\"dataframe\">\n",
       "  <thead>\n",
       "    <tr style=\"text-align: right;\">\n",
       "      <th></th>\n",
       "      <th>month</th>\n",
       "      <th>avg_high_temp</th>\n",
       "      <th>avg_low</th>\n",
       "      <th>record_high</th>\n",
       "      <th>record_low</th>\n",
       "      <th>avg_precipitation</th>\n",
       "    </tr>\n",
       "  </thead>\n",
       "  <tbody>\n",
       "    <tr>\n",
       "      <th>0</th>\n",
       "      <td>Jan</td>\n",
       "      <td>58</td>\n",
       "      <td>42</td>\n",
       "      <td>74</td>\n",
       "      <td>22</td>\n",
       "      <td>2.95</td>\n",
       "    </tr>\n",
       "    <tr>\n",
       "      <th>1</th>\n",
       "      <td>Feb</td>\n",
       "      <td>61</td>\n",
       "      <td>45</td>\n",
       "      <td>78</td>\n",
       "      <td>26</td>\n",
       "      <td>3.02</td>\n",
       "    </tr>\n",
       "    <tr>\n",
       "      <th>2</th>\n",
       "      <td>Mar</td>\n",
       "      <td>65</td>\n",
       "      <td>48</td>\n",
       "      <td>84</td>\n",
       "      <td>25</td>\n",
       "      <td>2.34</td>\n",
       "    </tr>\n",
       "    <tr>\n",
       "      <th>3</th>\n",
       "      <td>Apr</td>\n",
       "      <td>67</td>\n",
       "      <td>50</td>\n",
       "      <td>92</td>\n",
       "      <td>28</td>\n",
       "      <td>1.02</td>\n",
       "    </tr>\n",
       "    <tr>\n",
       "      <th>4</th>\n",
       "      <td>May</td>\n",
       "      <td>71</td>\n",
       "      <td>53</td>\n",
       "      <td>98</td>\n",
       "      <td>35</td>\n",
       "      <td>0.48</td>\n",
       "    </tr>\n",
       "    <tr>\n",
       "      <th>5</th>\n",
       "      <td>Jun</td>\n",
       "      <td>75</td>\n",
       "      <td>56</td>\n",
       "      <td>107</td>\n",
       "      <td>41</td>\n",
       "      <td>0.11</td>\n",
       "    </tr>\n",
       "    <tr>\n",
       "      <th>6</th>\n",
       "      <td>Jul</td>\n",
       "      <td>77</td>\n",
       "      <td>58</td>\n",
       "      <td>105</td>\n",
       "      <td>44</td>\n",
       "      <td>0.00</td>\n",
       "    </tr>\n",
       "    <tr>\n",
       "      <th>7</th>\n",
       "      <td>Aug</td>\n",
       "      <td>77</td>\n",
       "      <td>59</td>\n",
       "      <td>102</td>\n",
       "      <td>43</td>\n",
       "      <td>0.03</td>\n",
       "    </tr>\n",
       "    <tr>\n",
       "      <th>8</th>\n",
       "      <td>Sep</td>\n",
       "      <td>77</td>\n",
       "      <td>57</td>\n",
       "      <td>103</td>\n",
       "      <td>40</td>\n",
       "      <td>0.17</td>\n",
       "    </tr>\n",
       "    <tr>\n",
       "      <th>9</th>\n",
       "      <td>Oct</td>\n",
       "      <td>73</td>\n",
       "      <td>54</td>\n",
       "      <td>96</td>\n",
       "      <td>34</td>\n",
       "      <td>0.81</td>\n",
       "    </tr>\n",
       "    <tr>\n",
       "      <th>10</th>\n",
       "      <td>Nov</td>\n",
       "      <td>64</td>\n",
       "      <td>48</td>\n",
       "      <td>84</td>\n",
       "      <td>30</td>\n",
       "      <td>1.70</td>\n",
       "    </tr>\n",
       "    <tr>\n",
       "      <th>11</th>\n",
       "      <td>Dec</td>\n",
       "      <td>58</td>\n",
       "      <td>42</td>\n",
       "      <td>73</td>\n",
       "      <td>21</td>\n",
       "      <td>2.56</td>\n",
       "    </tr>\n",
       "  </tbody>\n",
       "</table>\n",
       "</div>"
      ],
      "text/plain": [
       "   month  avg_high_temp  avg_low  record_high  record_low  avg_precipitation\n",
       "0    Jan             58       42           74          22               2.95\n",
       "1    Feb             61       45           78          26               3.02\n",
       "2    Mar             65       48           84          25               2.34\n",
       "3    Apr             67       50           92          28               1.02\n",
       "4    May             71       53           98          35               0.48\n",
       "5    Jun             75       56          107          41               0.11\n",
       "6    Jul             77       58          105          44               0.00\n",
       "7    Aug             77       59          102          43               0.03\n",
       "8    Sep             77       57          103          40               0.17\n",
       "9    Oct             73       54           96          34               0.81\n",
       "10   Nov             64       48           84          30               1.70\n",
       "11   Dec             58       42           73          21               2.56"
      ]
     },
     "execution_count": 81,
     "metadata": {},
     "output_type": "execute_result"
    }
   ],
   "source": [
    "## rename a column \n",
    "df = df.rename(columns = {\"avg_high\":\"avg_high_temp\"})\n",
    "df"
   ]
  },
  {
   "cell_type": "code",
   "execution_count": 1,
   "metadata": {
    "scrolled": true
   },
   "outputs": [
    {
     "ename": "NameError",
     "evalue": "name 'df' is not defined",
     "output_type": "error",
     "traceback": [
      "\u001b[0;31m---------------------------------------------------------------------------\u001b[0m",
      "\u001b[0;31mNameError\u001b[0m                                 Traceback (most recent call last)",
      "\u001b[0;32m<ipython-input-1-7443ef97a55d>\u001b[0m in \u001b[0;36m<module>\u001b[0;34m()\u001b[0m\n\u001b[0;32m----> 1\u001b[0;31m \u001b[0mdf\u001b[0m\u001b[0;34m.\u001b[0m\u001b[0mto_csv\u001b[0m\u001b[0;34m(\u001b[0m\u001b[0;34m\"output.txt\"\u001b[0m\u001b[0;34m)\u001b[0m \u001b[0;31m## save output to a file\u001b[0m\u001b[0;34m\u001b[0m\u001b[0m\n\u001b[0m",
      "\u001b[0;31mNameError\u001b[0m: name 'df' is not defined"
     ]
    }
   ],
   "source": [
    "df.to_csv(\"output.txt\") ## save output to a file\n"
   ]
  },
  {
   "cell_type": "code",
   "execution_count": 69,
   "metadata": {},
   "outputs": [
    {
     "data": {
      "text/plain": [
       "'\\nhttps://www.youtube.com/watch?v=cnPlKLEGR7E\\n\\n1- go to google consol https://console.developers.google.com/cloud-resource-manager\\n2- Create a new project, then click on it\\n3- Dashborad > API & Servies \\n4- Search for google drive API \\n5- Enable it \\n6- Create Credentials: G Drvie api, webserver, Application data, No\\n7- Give a name, then select project , editor, make sure json is selected, then click continue, \\njson file will download, save it\\n8- go to library and get google sheet api \\n9- open json file, look for client email: \"removethis from the email address to access\" the file and share \\nthe google sheet with this email address\\n10- pip install gspead oauth2client\\n11- add scope in credential on google consol\\n\\n'"
      ]
     },
     "execution_count": 69,
     "metadata": {},
     "output_type": "execute_result"
    }
   ],
   "source": [
    "## access google api to google sheets\n",
    "\n",
    "\"\"\"\n",
    "https://www.youtube.com/watch?v=cnPlKLEGR7E\n",
    "\n",
    "1- go to google consol https://console.developers.google.com/cloud-resource-manager\n",
    "2- Create a new project, then click on it\n",
    "3- Dashborad > API & Servies \n",
    "4- Search for google drive API \n",
    "5- Enable it \n",
    "6- Create Credentials: G Drvie api, webserver, Application data, No\n",
    "7- Give a name, then select project , editor, make sure json is selected, then click continue, \n",
    "json file will download, save it\n",
    "8- go to library and get google sheet api \n",
    "9- open json file, look for client email: \"removethis from the email address to access\" the file and share \n",
    "the google sheet with this email address\n",
    "10- pip install gspead oauth2client\n",
    "11- add scope in credential on google consol\n",
    "\n",
    "\"\"\""
   ]
  },
  {
   "cell_type": "code",
   "execution_count": 11,
   "metadata": {
    "scrolled": true
   },
   "outputs": [
    {
     "name": "stdout",
     "output_type": "stream",
     "text": [
      "[{'Test_ID': 1, 'Test_Name': 'Test_Name1', 'Value': -1},\n",
      " {'Test_ID': 2, 'Test_Name': 'Test_Name2', 'Value': 0},\n",
      " {'Test_ID': 3, 'Test_Name': 'Test_Name3', 'Value': 1},\n",
      " {'Test_ID': 4, 'Test_Name': 'Test_Name4', 'Value': 2},\n",
      " {'Test_ID': 5, 'Test_Name': 'Test_Name5', 'Value': 3},\n",
      " {'Test_ID': 6, 'Test_Name': 'Test_Name6', 'Value': 4},\n",
      " {'Test_ID': 7, 'Test_Name': 'Test_Name7', 'Value': 10},\n",
      " {'Test_ID': 8, 'Test_Name': 'Test_Name8', 'Value': 6}]\n"
     ]
    }
   ],
   "source": [
    "import gspread \n",
    "from oauth2client.service_account import ServiceAccountCredentials\n",
    "from pprint import pprint ## pretty print, make the output of pring look better \n",
    "scope = [\"https://www.googleapis.com/auth/drive\"] ## choose a scope for the access level from gsheet scopes\n",
    "credentials=ServiceAccountCredentials.from_json_keyfile_name(\"creds.json\", scope) ## create the credentials for (project file) with the right scope \n",
    "client  = gspread.authorize(credentials)\n",
    "sheet = client.open(\"test_sheet\").sheet1 ## open a sheet and enter data below\n",
    "data = sheet.get_all_records()\n",
    "pprint(data)"
   ]
  },
  {
   "cell_type": "code",
   "execution_count": 12,
   "metadata": {},
   "outputs": [
    {
     "name": "stdout",
     "output_type": "stream",
     "text": [
      "['2', 'Test_Name2', '0']\n",
      "['Test_Name',\n",
      " 'Test_Name1',\n",
      " 'Test_Name2',\n",
      " 'Test_Name3',\n",
      " 'Test_Name4',\n",
      " 'Test_Name5',\n",
      " 'Test_Name6',\n",
      " 'Test_Name7',\n",
      " 'Test_Name8']\n",
      "'3'\n"
     ]
    }
   ],
   "source": [
    "row = sheet.row_values(3) ## print the content of row#3\n",
    "col = sheet.col_values(2) ## print the content of row#2\n",
    "content = sheet.cell(4,1).value ## print the content of a cell \n",
    "pprint(row)\n",
    "pprint(col)\n",
    "pprint(content)"
   ]
  },
  {
   "cell_type": "code",
   "execution_count": 13,
   "metadata": {
    "scrolled": true
   },
   "outputs": [
    {
     "data": {
      "text/plain": [
       "{'spreadsheetId': '1Dy_ERZ9DoBX5dCFSpSbIX-sfl67iYyRlljVrIONzcTo',\n",
       " 'updatedRange': 'Sheet1!A4:D4',\n",
       " 'updatedRows': 1,\n",
       " 'updatedColumns': 4,\n",
       " 'updatedCells': 4}"
      ]
     },
     "execution_count": 13,
     "metadata": {},
     "output_type": "execute_result"
    }
   ],
   "source": [
    "content_to_insert = [\"Data Science\", \"1050\", \"Monday\", '9:30 AM - 12:30 PM'] ## insert content in the table\n",
    "sheet.insert_row(content_to_insert, 4)"
   ]
  },
  {
   "cell_type": "code",
   "execution_count": 14,
   "metadata": {},
   "outputs": [
    {
     "data": {
      "text/plain": [
       "{'spreadsheetId': '1Dy_ERZ9DoBX5dCFSpSbIX-sfl67iYyRlljVrIONzcTo',\n",
       " 'replies': [{}]}"
      ]
     },
     "execution_count": 14,
     "metadata": {},
     "output_type": "execute_result"
    }
   ],
   "source": [
    "sheet.delete_row(5) ## delete content in the table"
   ]
  },
  {
   "cell_type": "code",
   "execution_count": 15,
   "metadata": {},
   "outputs": [
    {
     "data": {
      "text/plain": [
       "{'spreadsheetId': '1Dy_ERZ9DoBX5dCFSpSbIX-sfl67iYyRlljVrIONzcTo',\n",
       " 'updatedRange': 'Sheet1!A1',\n",
       " 'updatedRows': 1,\n",
       " 'updatedColumns': 1,\n",
       " 'updatedCells': 1}"
      ]
     },
     "execution_count": 15,
     "metadata": {},
     "output_type": "execute_result"
    }
   ],
   "source": [
    "sheet.update_cell(1,1, \"Course\") ## change content in a cell"
   ]
  },
  {
   "cell_type": "code",
   "execution_count": 16,
   "metadata": {},
   "outputs": [
    {
     "data": {
      "text/plain": [
       "8"
      ]
     },
     "execution_count": 16,
     "metadata": {},
     "output_type": "execute_result"
    }
   ],
   "source": [
    "sheet.row_count ## total numbers of rows \n",
    "len(data)"
   ]
  },
  {
   "cell_type": "code",
   "execution_count": 2,
   "metadata": {},
   "outputs": [],
   "source": [
    "# object oriented programming: Attribures, Objects, Calss, Methods \n",
    "# class has to start with a capital letter for each word in the class name exp: FunctionOne, UserInterface\n",
    "\n"
   ]
  },
  {
   "cell_type": "code",
   "execution_count": 58,
   "metadata": {},
   "outputs": [],
   "source": [
    "class Dog():\n",
    "    \n",
    "    species = \"mammal\" # Class object attribute, true for all instances \n",
    "    def __init__ (self, breed, size, name, spots): ## __init__ is how you define attributes in the class \n",
    "        self.breed = breed ## self.attribute_name \n",
    "        self.size = size\n",
    "        self.name = name\n",
    "        self.spots = spots\n",
    "    def dog_upper_name(self):\n",
    "        print (\"dog upper name is {}\".format(self.name).upper())\n",
    "    def bark(self): ## always link it to self \n",
    "        print (\"Woof!\")\n",
    "        \n",
    " \n",
    "        "
   ]
  },
  {
   "cell_type": "code",
   "execution_count": 55,
   "metadata": {},
   "outputs": [],
   "source": [
    "my_dog = Dog(breed = \"lab\", size = \"Large\",name = \"zuki\", spots = True )"
   ]
  },
  {
   "cell_type": "code",
   "execution_count": 18,
   "metadata": {},
   "outputs": [
    {
     "data": {
      "text/plain": [
       "'mammal'"
      ]
     },
     "execution_count": 18,
     "metadata": {},
     "output_type": "execute_result"
    }
   ],
   "source": [
    "my_dog.species"
   ]
  },
  {
   "cell_type": "code",
   "execution_count": 14,
   "metadata": {},
   "outputs": [
    {
     "data": {
      "text/plain": [
       "'lab'"
      ]
     },
     "execution_count": 14,
     "metadata": {},
     "output_type": "execute_result"
    }
   ],
   "source": [
    "my_dog.breed"
   ]
  },
  {
   "cell_type": "code",
   "execution_count": 15,
   "metadata": {},
   "outputs": [
    {
     "data": {
      "text/plain": [
       "'zuki'"
      ]
     },
     "execution_count": 15,
     "metadata": {},
     "output_type": "execute_result"
    }
   ],
   "source": [
    "my_dog.name"
   ]
  },
  {
   "cell_type": "code",
   "execution_count": 16,
   "metadata": {},
   "outputs": [
    {
     "data": {
      "text/plain": [
       "True"
      ]
     },
     "execution_count": 16,
     "metadata": {},
     "output_type": "execute_result"
    }
   ],
   "source": [
    "my_dog.spots"
   ]
  },
  {
   "cell_type": "code",
   "execution_count": 56,
   "metadata": {},
   "outputs": [
    {
     "name": "stdout",
     "output_type": "stream",
     "text": [
      "DOG UPPER NAME IS ZUKI\n"
     ]
    }
   ],
   "source": [
    "my_dog.dog_upper_name()"
   ]
  },
  {
   "cell_type": "code",
   "execution_count": 61,
   "metadata": {},
   "outputs": [
    {
     "name": "stdout",
     "output_type": "stream",
     "text": [
      "Woof!\n"
     ]
    }
   ],
   "source": [
    "my_dog.bark()"
   ]
  },
  {
   "cell_type": "code",
   "execution_count": null,
   "metadata": {},
   "outputs": [],
   "source": [
    "import pandas as pd"
   ]
  },
  {
   "cell_type": "code",
   "execution_count": 3,
   "metadata": {},
   "outputs": [],
   "source": [
    "file = open(\"new.txt\")"
   ]
  },
  {
   "cell_type": "code",
   "execution_count": 4,
   "metadata": {},
   "outputs": [
    {
     "data": {
      "text/plain": [
       "'-- MarI/O by SethBling\\n-- Feel free to use this code, but please do not redistribute it.\\n-- Intended for use with the BizHawk emulator and Super Mario World or Super Mario Bros. ROM.\\n-- For SMW, make sure you have a save state named \"DP1.state\" at the beginning of a level,\\n-- and put a copy in both the Lua folder and the root directory of BizHawk.\\n \\nif gameinfo.getromname() == \"Super Mario World (USA)\" then\\n        Filename = \"DP1.state\"\\n        ButtonNames = {\\n                \"A\",\\n                \"B\",\\n                \"X\",\\n                \"Y\",\\n                \"Up\",\\n                \"Down\",\\n                \"Left\",\\n                \"Right\",\\n        }\\nelseif gameinfo.getromname() == \"Super Mario Bros.\" then\\n        Filename = \"SMB1-1.state\"\\n        ButtonNames = {\\n                \"A\",\\n                \"B\",\\n                \"Up\",\\n                \"Down\",\\n                \"Left\",\\n                \"Right\",\\n        }\\nend\\n \\nBoxRadius = 6\\nInputSize = (BoxRadius*2+1)*(BoxRadius*2+1)\\n \\nInputs = InputSize+1\\nOutputs = #ButtonNames\\n \\nPopulation = 300\\nDeltaDisjoint = 2.0\\nDeltaWeights = 0.4\\nDeltaThreshold = 1.0\\n \\nStaleSpecies = 15\\n \\nMutateConnectionsChance = 0.25\\nPerturbChance = 0.90\\nCrossoverChance = 0.75\\nLinkMutationChance = 2.0\\nNodeMutationChance = 0.50\\nBiasMutationChance = 0.40\\nStepSize = 0.1\\nDisableMutationChance = 0.4\\nEnableMutationChance = 0.2\\n \\nTimeoutConstant = 20\\n \\nMaxNodes = 1000000\\n \\nfunction getPositions()\\n        if gameinfo.getromname() == \"Super Mario World (USA)\" then\\n                marioX = memory.read_s16_le(0x94)\\n                marioY = memory.read_s16_le(0x96)\\n               \\n                local layer1x = memory.read_s16_le(0x1A);\\n                local layer1y = memory.read_s16_le(0x1C);\\n               \\n                screenX = marioX-layer1x\\n                screenY = marioY-layer1y\\n        elseif gameinfo.getromname() == \"Super Mario Bros.\" then\\n                marioX = memory.readbyte(0x6D) * 0x100 + memory.readbyte(0x86)\\n                marioY = memory.readbyte(0x03B8)+16\\n       \\n                screenX = memory.readbyte(0x03AD)\\n                screenY = memory.readbyte(0x03B8)\\n        end\\nend\\n \\nfunction getTile(dx, dy)\\n        if gameinfo.getromname() == \"Super Mario World (USA)\" then\\n                x = math.floor((marioX+dx+8)/16)\\n                y = math.floor((marioY+dy)/16)\\n               \\n                return memory.readbyte(0x1C800 + math.floor(x/0x10)*0x1B0 + y*0x10 + x%0x10)\\n        elseif gameinfo.getromname() == \"Super Mario Bros.\" then\\n                local x = marioX + dx + 8\\n                local y = marioY + dy - 16\\n                local page = math.floor(x/256)%2\\n \\n                local subx = math.floor((x%256)/16)\\n                local suby = math.floor((y - 32)/16)\\n                local addr = 0x500 + page*13*16+suby*16+subx\\n               \\n                if suby >= 13 or suby < 0 then\\n                        return 0\\n                end\\n               \\n                if memory.readbyte(addr) ~= 0 then\\n                        return 1\\n                else\\n                        return 0\\n                end\\n        end\\nend\\n \\nfunction getSprites()\\n        if gameinfo.getromname() == \"Super Mario World (USA)\" then\\n                local sprites = {}\\n                for slot=0,11 do\\n                        local status = memory.readbyte(0x14C8+slot)\\n                        if status ~= 0 then\\n                                spritex = memory.readbyte(0xE4+slot) + memory.readbyte(0x14E0+slot)*256\\n                                spritey = memory.readbyte(0xD8+slot) + memory.readbyte(0x14D4+slot)*256\\n                                sprites[#sprites+1] = {[\"x\"]=spritex, [\"y\"]=spritey}\\n                        end\\n                end            \\n               \\n                return sprites\\n        elseif gameinfo.getromname() == \"Super Mario Bros.\" then\\n                local sprites = {}\\n                for slot=0,4 do\\n                        local enemy = memory.readbyte(0xF+slot)\\n                        if enemy ~= 0 then\\n                                local ex = memory.readbyte(0x6E + slot)*0x100 + memory.readbyte(0x87+slot)\\n                                local ey = memory.readbyte(0xCF + slot)+24\\n                                sprites[#sprites+1] = {[\"x\"]=ex,[\"y\"]=ey}\\n                        end\\n                end\\n               \\n                return sprites\\n        end\\nend\\n \\nfunction getExtendedSprites()\\n        if gameinfo.getromname() == \"Super Mario World (USA)\" then\\n                local extended = {}\\n                for slot=0,11 do\\n                        local number = memory.readbyte(0x170B+slot)\\n                        if number ~= 0 then\\n                                spritex = memory.readbyte(0x171F+slot) + memory.readbyte(0x1733+slot)*256\\n                                spritey = memory.readbyte(0x1715+slot) + memory.readbyte(0x1729+slot)*256\\n                                extended[#extended+1] = {[\"x\"]=spritex, [\"y\"]=spritey}\\n                        end\\n                end            \\n               \\n                return extended\\n        elseif gameinfo.getromname() == \"Super Mario Bros.\" then\\n                return {}\\n        end\\nend\\n \\nfunction getInputs()\\n        getPositions()\\n       \\n        sprites = getSprites()\\n        extended = getExtendedSprites()\\n       \\n        local inputs = {}\\n       \\n        for dy=-BoxRadius*16,BoxRadius*16,16 do\\n                for dx=-BoxRadius*16,BoxRadius*16,16 do\\n                        inputs[#inputs+1] = 0\\n                       \\n                        tile = getTile(dx, dy)\\n                        if tile == 1 and marioY+dy < 0x1B0 then\\n                                inputs[#inputs] = 1\\n                        end\\n                       \\n                        for i = 1,#sprites do\\n                                distx = math.abs(sprites[i][\"x\"] - (marioX+dx))\\n                                disty = math.abs(sprites[i][\"y\"] - (marioY+dy))\\n                                if distx <= 8 and disty <= 8 then\\n                                        inputs[#inputs] = -1\\n                                end\\n                        end\\n \\n                        for i = 1,#extended do\\n                                distx = math.abs(extended[i][\"x\"] - (marioX+dx))\\n                                disty = math.abs(extended[i][\"y\"] - (marioY+dy))\\n                                if distx < 8 and disty < 8 then\\n                                        inputs[#inputs] = -1\\n                                end\\n                        end\\n                end\\n        end\\n       \\n        --mariovx = memory.read_s8(0x7B)\\n        --mariovy = memory.read_s8(0x7D)\\n       \\n        return inputs\\nend\\n \\nfunction sigmoid(x)\\n        return 2/(1+math.exp(-4.9*x))-1\\nend\\n \\nfunction newInnovation()\\n        pool.innovation = pool.innovation + 1\\n        return pool.innovation\\nend\\n \\nfunction newPool()\\n        local pool = {}\\n        pool.species = {}\\n        pool.generation = 0\\n        pool.innovation = Outputs\\n        pool.currentSpecies = 1\\n        pool.currentGenome = 1\\n        pool.currentFrame = 0\\n        pool.maxFitness = 0\\n       \\n        return pool\\nend\\n \\nfunction newSpecies()\\n        local species = {}\\n        species.topFitness = 0\\n        species.staleness = 0\\n        species.genomes = {}\\n        species.averageFitness = 0\\n       \\n        return species\\nend\\n \\nfunction newGenome()\\n        local genome = {}\\n        genome.genes = {}\\n        genome.fitness = 0\\n        genome.adjustedFitness = 0\\n        genome.network = {}\\n        genome.maxneuron = 0\\n        genome.globalRank = 0\\n        genome.mutationRates = {}\\n        genome.mutationRates[\"connections\"] = MutateConnectionsChance\\n        genome.mutationRates[\"link\"] = LinkMutationChance\\n        genome.mutationRates[\"bias\"] = BiasMutationChance\\n        genome.mutationRates[\"node\"] = NodeMutationChance\\n        genome.mutationRates[\"enable\"] = EnableMutationChance\\n        genome.mutationRates[\"disable\"] = DisableMutationChance\\n        genome.mutationRates[\"step\"] = StepSize\\n       \\n        return genome\\nend\\n \\nfunction copyGenome(genome)\\n        local genome2 = newGenome()\\n        for g=1,#genome.genes do\\n                table.insert(genome2.genes, copyGene(genome.genes[g]))\\n        end\\n        genome2.maxneuron = genome.maxneuron\\n        genome2.mutationRates[\"connections\"] = genome.mutationRates[\"connections\"]\\n        genome2.mutationRates[\"link\"] = genome.mutationRates[\"link\"]\\n        genome2.mutationRates[\"bias\"] = genome.mutationRates[\"bias\"]\\n        genome2.mutationRates[\"node\"] = genome.mutationRates[\"node\"]\\n        genome2.mutationRates[\"enable\"] = genome.mutationRates[\"enable\"]\\n        genome2.mutationRates[\"disable\"] = genome.mutationRates[\"disable\"]\\n       \\n        return genome2\\nend\\n \\nfunction basicGenome()\\n        local genome = newGenome()\\n        local innovation = 1\\n \\n        genome.maxneuron = Inputs\\n        mutate(genome)\\n       \\n        return genome\\nend\\n \\nfunction newGene()\\n        local gene = {}\\n        gene.into = 0\\n        gene.out = 0\\n        gene.weight = 0.0\\n        gene.enabled = true\\n        gene.innovation = 0\\n       \\n        return gene\\nend\\n \\nfunction copyGene(gene)\\n        local gene2 = newGene()\\n        gene2.into = gene.into\\n        gene2.out = gene.out\\n        gene2.weight = gene.weight\\n        gene2.enabled = gene.enabled\\n        gene2.innovation = gene.innovation\\n       \\n        return gene2\\nend\\n \\nfunction newNeuron()\\n        local neuron = {}\\n        neuron.incoming = {}\\n        neuron.value = 0.0\\n       \\n        return neuron\\nend\\n \\nfunction generateNetwork(genome)\\n        local network = {}\\n        network.neurons = {}\\n       \\n        for i=1,Inputs do\\n                network.neurons[i] = newNeuron()\\n        end\\n       \\n        for o=1,Outputs do\\n                network.neurons[MaxNodes+o] = newNeuron()\\n        end\\n       \\n        table.sort(genome.genes, function (a,b)\\n                return (a.out < b.out)\\n        end)\\n        for i=1,#genome.genes do\\n                local gene = genome.genes[i]\\n                if gene.enabled then\\n                        if network.neurons[gene.out] == nil then\\n                                network.neurons[gene.out] = newNeuron()\\n                        end\\n                        local neuron = network.neurons[gene.out]\\n                        table.insert(neuron.incoming, gene)\\n                        if network.neurons[gene.into] == nil then\\n                                network.neurons[gene.into] = newNeuron()\\n                        end\\n                end\\n        end\\n       \\n        genome.network = network\\nend\\n \\nfunction evaluateNetwork(network, inputs)\\n        table.insert(inputs, 1)\\n        if #inputs ~= Inputs then\\n                console.writeline(\"Incorrect number of neural network inputs.\")\\n                return {}\\n        end\\n       \\n        for i=1,Inputs do\\n                network.neurons[i].value = inputs[i]\\n        end\\n       \\n        for _,neuron in pairs(network.neurons) do\\n                local sum = 0\\n                for j = 1,#neuron.incoming do\\n                        local incoming = neuron.incoming[j]\\n                        local other = network.neurons[incoming.into]\\n                        sum = sum + incoming.weight * other.value\\n                end\\n               \\n                if #neuron.incoming > 0 then\\n                        neuron.value = sigmoid(sum)\\n                end\\n        end\\n       \\n        local outputs = {}\\n        for o=1,Outputs do\\n                local button = \"P1 \" .. ButtonNames[o]\\n                if network.neurons[MaxNodes+o].value > 0 then\\n                        outputs[button] = true\\n                else\\n                        outputs[button] = false\\n                end\\n        end\\n       \\n        return outputs\\nend\\n \\nfunction crossover(g1, g2)\\n        -- Make sure g1 is the higher fitness genome\\n        if g2.fitness > g1.fitness then\\n                tempg = g1\\n                g1 = g2\\n                g2 = tempg\\n        end\\n \\n        local child = newGenome()\\n       \\n        local innovations2 = {}\\n        for i=1,#g2.genes do\\n                local gene = g2.genes[i]\\n                innovations2[gene.innovation] = gene\\n        end\\n       \\n        for i=1,#g1.genes do\\n                local gene1 = g1.genes[i]\\n                local gene2 = innovations2[gene1.innovation]\\n                if gene2 ~= nil and math.random(2) == 1 and gene2.enabled then\\n                        table.insert(child.genes, copyGene(gene2))\\n                else\\n                        table.insert(child.genes, copyGene(gene1))\\n                end\\n        end\\n       \\n        child.maxneuron = math.max(g1.maxneuron,g2.maxneuron)\\n       \\n        for mutation,rate in pairs(g1.mutationRates) do\\n                child.mutationRates[mutation] = rate\\n        end\\n       \\n        return child\\nend\\n \\nfunction randomNeuron(genes, nonInput)\\n        local neurons = {}\\n        if not nonInput then\\n                for i=1,Inputs do\\n                        neurons[i] = true\\n                end\\n        end\\n        for o=1,Outputs do\\n                neurons[MaxNodes+o] = true\\n        end\\n        for i=1,#genes do\\n                if (not nonInput) or genes[i].into > Inputs then\\n                        neurons[genes[i].into] = true\\n                end\\n                if (not nonInput) or genes[i].out > Inputs then\\n                        neurons[genes[i].out] = true\\n                end\\n        end\\n \\n        local count = 0\\n        for _,_ in pairs(neurons) do\\n                count = count + 1\\n        end\\n        local n = math.random(1, count)\\n       \\n        for k,v in pairs(neurons) do\\n                n = n-1\\n                if n == 0 then\\n                        return k\\n                end\\n        end\\n       \\n        return 0\\nend\\n \\nfunction containsLink(genes, link)\\n        for i=1,#genes do\\n                local gene = genes[i]\\n                if gene.into == link.into and gene.out == link.out then\\n                        return true\\n                end\\n        end\\nend\\n \\nfunction pointMutate(genome)\\n        local step = genome.mutationRates[\"step\"]\\n       \\n        for i=1,#genome.genes do\\n                local gene = genome.genes[i]\\n                if math.random() < PerturbChance then\\n                        gene.weight = gene.weight + math.random() * step*2 - step\\n                else\\n                        gene.weight = math.random()*4-2\\n                end\\n        end\\nend\\n \\nfunction linkMutate(genome, forceBias)\\n        local neuron1 = randomNeuron(genome.genes, false)\\n        local neuron2 = randomNeuron(genome.genes, true)\\n         \\n        local newLink = newGene()\\n        if neuron1 <= Inputs and neuron2 <= Inputs then\\n                --Both input nodes\\n                return\\n        end\\n        if neuron2 <= Inputs then\\n                -- Swap output and input\\n                local temp = neuron1\\n                neuron1 = neuron2\\n                neuron2 = temp\\n        end\\n \\n        newLink.into = neuron1\\n        newLink.out = neuron2\\n        if forceBias then\\n                newLink.into = Inputs\\n        end\\n       \\n        if containsLink(genome.genes, newLink) then\\n                return\\n        end\\n        newLink.innovation = newInnovation()\\n        newLink.weight = math.random()*4-2\\n       \\n        table.insert(genome.genes, newLink)\\nend\\n \\nfunction nodeMutate(genome)\\n        if #genome.genes == 0 then\\n                return\\n        end\\n \\n        genome.maxneuron = genome.maxneuron + 1\\n \\n        local gene = genome.genes[math.random(1,#genome.genes)]\\n        if not gene.enabled then\\n                return\\n        end\\n        gene.enabled = false\\n       \\n        local gene1 = copyGene(gene)\\n        gene1.out = genome.maxneuron\\n        gene1.weight = 1.0\\n        gene1.innovation = newInnovation()\\n        gene1.enabled = true\\n        table.insert(genome.genes, gene1)\\n       \\n        local gene2 = copyGene(gene)\\n        gene2.into = genome.maxneuron\\n        gene2.innovation = newInnovation()\\n        gene2.enabled = true\\n        table.insert(genome.genes, gene2)\\nend\\n \\nfunction enableDisableMutate(genome, enable)\\n        local candidates = {}\\n        for _,gene in pairs(genome.genes) do\\n                if gene.enabled == not enable then\\n                        table.insert(candidates, gene)\\n                end\\n        end\\n       \\n        if #candidates == 0 then\\n                return\\n        end\\n       \\n        local gene = candidates[math.random(1,#candidates)]\\n        gene.enabled = not gene.enabled\\nend\\n \\nfunction mutate(genome)\\n        for mutation,rate in pairs(genome.mutationRates) do\\n                if math.random(1,2) == 1 then\\n                        genome.mutationRates[mutation] = 0.95*rate\\n                else\\n                        genome.mutationRates[mutation] = 1.05263*rate\\n                end\\n        end\\n \\n        if math.random() < genome.mutationRates[\"connections\"] then\\n                pointMutate(genome)\\n        end\\n       \\n        local p = genome.mutationRates[\"link\"]\\n        while p > 0 do\\n                if math.random() < p then\\n                        linkMutate(genome, false)\\n                end\\n                p = p - 1\\n        end\\n \\n        p = genome.mutationRates[\"bias\"]\\n        while p > 0 do\\n                if math.random() < p then\\n                        linkMutate(genome, true)\\n                end\\n                p = p - 1\\n        end\\n       \\n        p = genome.mutationRates[\"node\"]\\n        while p > 0 do\\n                if math.random() < p then\\n                        nodeMutate(genome)\\n                end\\n                p = p - 1\\n        end\\n       \\n        p = genome.mutationRates[\"enable\"]\\n        while p > 0 do\\n                if math.random() < p then\\n                        enableDisableMutate(genome, true)\\n                end\\n                p = p - 1\\n        end\\n \\n        p = genome.mutationRates[\"disable\"]\\n        while p > 0 do\\n                if math.random() < p then\\n                        enableDisableMutate(genome, false)\\n                end\\n                p = p - 1\\n        end\\nend\\n \\nfunction disjoint(genes1, genes2)\\n        local i1 = {}\\n        for i = 1,#genes1 do\\n                local gene = genes1[i]\\n                i1[gene.innovation] = true\\n        end\\n \\n        local i2 = {}\\n        for i = 1,#genes2 do\\n                local gene = genes2[i]\\n                i2[gene.innovation] = true\\n        end\\n       \\n        local disjointGenes = 0\\n        for i = 1,#genes1 do\\n                local gene = genes1[i]\\n                if not i2[gene.innovation] then\\n                        disjointGenes = disjointGenes+1\\n                end\\n        end\\n       \\n        for i = 1,#genes2 do\\n                local gene = genes2[i]\\n                if not i1[gene.innovation] then\\n                        disjointGenes = disjointGenes+1\\n                end\\n        end\\n       \\n        local n = math.max(#genes1, #genes2)\\n       \\n        return disjointGenes / n\\nend\\n \\nfunction weights(genes1, genes2)\\n        local i2 = {}\\n        for i = 1,#genes2 do\\n                local gene = genes2[i]\\n                i2[gene.innovation] = gene\\n        end\\n \\n        local sum = 0\\n        local coincident = 0\\n        for i = 1,#genes1 do\\n                local gene = genes1[i]\\n                if i2[gene.innovation] ~= nil then\\n                        local gene2 = i2[gene.innovation]\\n                        sum = sum + math.abs(gene.weight - gene2.weight)\\n                        coincident = coincident + 1\\n                end\\n        end\\n       \\n        return sum / coincident\\nend\\n       \\nfunction sameSpecies(genome1, genome2)\\n        local dd = DeltaDisjoint*disjoint(genome1.genes, genome2.genes)\\n        local dw = DeltaWeights*weights(genome1.genes, genome2.genes)\\n        return dd + dw < DeltaThreshold\\nend\\n \\nfunction rankGlobally()\\n        local global = {}\\n        for s = 1,#pool.species do\\n                local species = pool.species[s]\\n                for g = 1,#species.genomes do\\n                        table.insert(global, species.genomes[g])\\n                end\\n        end\\n        table.sort(global, function (a,b)\\n                return (a.fitness < b.fitness)\\n        end)\\n       \\n        for g=1,#global do\\n                global[g].globalRank = g\\n        end\\nend\\n \\nfunction calculateAverageFitness(species)\\n        local total = 0\\n       \\n        for g=1,#species.genomes do\\n                local genome = species.genomes[g]\\n                total = total + genome.globalRank\\n        end\\n       \\n        species.averageFitness = total / #species.genomes\\nend\\n \\nfunction totalAverageFitness()\\n        local total = 0\\n        for s = 1,#pool.species do\\n                local species = pool.species[s]\\n                total = total + species.averageFitness\\n        end\\n \\n        return total\\nend\\n \\nfunction cullSpecies(cutToOne)\\n        for s = 1,#pool.species do\\n                local species = pool.species[s]\\n               \\n                table.sort(species.genomes, function (a,b)\\n                        return (a.fitness > b.fitness)\\n                end)\\n               \\n                local remaining = math.ceil(#species.genomes/2)\\n                if cutToOne then\\n                        remaining = 1\\n                end\\n                while #species.genomes > remaining do\\n                        table.remove(species.genomes)\\n                end\\n        end\\nend\\n \\nfunction breedChild(species)\\n        local child = {}\\n        if math.random() < CrossoverChance then\\n                g1 = species.genomes[math.random(1, #species.genomes)]\\n                g2 = species.genomes[math.random(1, #species.genomes)]\\n                child = crossover(g1, g2)\\n        else\\n                g = species.genomes[math.random(1, #species.genomes)]\\n                child = copyGenome(g)\\n        end\\n       \\n        mutate(child)\\n       \\n        return child\\nend\\n \\nfunction removeStaleSpecies()\\n        local survived = {}\\n \\n        for s = 1,#pool.species do\\n                local species = pool.species[s]\\n               \\n                table.sort(species.genomes, function (a,b)\\n                        return (a.fitness > b.fitness)\\n                end)\\n               \\n                if species.genomes[1].fitness > species.topFitness then\\n                        species.topFitness = species.genomes[1].fitness\\n                        species.staleness = 0\\n                else\\n                        species.staleness = species.staleness + 1\\n                end\\n                if species.staleness < StaleSpecies or species.topFitness >= pool.maxFitness then\\n                        table.insert(survived, species)\\n                end\\n        end\\n \\n        pool.species = survived\\nend\\n \\nfunction removeWeakSpecies()\\n        local survived = {}\\n \\n        local sum = totalAverageFitness()\\n        for s = 1,#pool.species do\\n                local species = pool.species[s]\\n                breed = math.floor(species.averageFitness / sum * Population)\\n                if breed >= 1 then\\n                        table.insert(survived, species)\\n                end\\n        end\\n \\n        pool.species = survived\\nend\\n \\n \\nfunction addToSpecies(child)\\n        local foundSpecies = false\\n        for s=1,#pool.species do\\n                local species = pool.species[s]\\n                if not foundSpecies and sameSpecies(child, species.genomes[1]) then\\n                        table.insert(species.genomes, child)\\n                        foundSpecies = true\\n                end\\n        end\\n       \\n        if not foundSpecies then\\n                local childSpecies = newSpecies()\\n                table.insert(childSpecies.genomes, child)\\n                table.insert(pool.species, childSpecies)\\n        end\\nend\\n \\nfunction newGeneration()\\n        cullSpecies(false) -- Cull the bottom half of each species\\n        rankGlobally()\\n        removeStaleSpecies()\\n        rankGlobally()\\n        for s = 1,#pool.species do\\n                local species = pool.species[s]\\n                calculateAverageFitness(species)\\n        end\\n        removeWeakSpecies()\\n        local sum = totalAverageFitness()\\n        local children = {}\\n        for s = 1,#pool.species do\\n                local species = pool.species[s]\\n                breed = math.floor(species.averageFitness / sum * Population) - 1\\n                for i=1,breed do\\n                        table.insert(children, breedChild(species))\\n                end\\n        end\\n        cullSpecies(true) -- Cull all but the top member of each species\\n        while #children + #pool.species < Population do\\n                local species = pool.species[math.random(1, #pool.species)]\\n                table.insert(children, breedChild(species))\\n        end\\n        for c=1,#children do\\n                local child = children[c]\\n                addToSpecies(child)\\n        end\\n       \\n        pool.generation = pool.generation + 1\\n       \\n        writeFile(\"backup.\" .. pool.generation .. \".\" .. forms.gettext(saveLoadFile))\\nend\\n       \\nfunction initializePool()\\n        pool = newPool()\\n \\n        for i=1,Population do\\n                basic = basicGenome()\\n                addToSpecies(basic)\\n        end\\n \\n        initializeRun()\\nend\\n \\nfunction clearJoypad()\\n        controller = {}\\n        for b = 1,#ButtonNames do\\n                controller[\"P1 \" .. ButtonNames[b]] = false\\n        end\\n        joypad.set(controller)\\nend\\n \\nfunction initializeRun()\\n        savestate.load(Filename);\\n        rightmost = 0\\n        pool.currentFrame = 0\\n        timeout = TimeoutConstant\\n        clearJoypad()\\n       \\n        local species = pool.species[pool.currentSpecies]\\n        local genome = species.genomes[pool.currentGenome]\\n        generateNetwork(genome)\\n        evaluateCurrent()\\nend\\n \\nfunction evaluateCurrent()\\n        local species = pool.species[pool.currentSpecies]\\n        local genome = species.genomes[pool.currentGenome]\\n \\n        inputs = getInputs()\\n        controller = evaluateNetwork(genome.network, inputs)\\n       \\n        if controller[\"P1 Left\"] and controller[\"P1 Right\"] then\\n                controller[\"P1 Left\"] = false\\n                controller[\"P1 Right\"] = false\\n        end\\n        if controller[\"P1 Up\"] and controller[\"P1 Down\"] then\\n                controller[\"P1 Up\"] = false\\n                controller[\"P1 Down\"] = false\\n        end\\n \\n        joypad.set(controller)\\nend\\n \\nif pool == nil then\\n        initializePool()\\nend\\n \\n \\nfunction nextGenome()\\n        pool.currentGenome = pool.currentGenome + 1\\n        if pool.currentGenome > #pool.species[pool.currentSpecies].genomes then\\n                pool.currentGenome = 1\\n                pool.currentSpecies = pool.currentSpecies+1\\n                if pool.currentSpecies > #pool.species then\\n                        newGeneration()\\n                        pool.currentSpecies = 1\\n                end\\n        end\\nend\\n \\nfunction fitnessAlreadyMeasured()\\n        local species = pool.species[pool.currentSpecies]\\n        local genome = species.genomes[pool.currentGenome]\\n       \\n        return genome.fitness ~= 0\\nend\\n \\nfunction displayGenome(genome)\\n        local network = genome.network\\n        local cells = {}\\n        local i = 1\\n        local cell = {}\\n        for dy=-BoxRadius,BoxRadius do\\n                for dx=-BoxRadius,BoxRadius do\\n                        cell = {}\\n                        cell.x = 50+5*dx\\n                        cell.y = 70+5*dy\\n                        cell.value = network.neurons[i].value\\n                        cells[i] = cell\\n                        i = i + 1\\n                end\\n        end\\n        local biasCell = {}\\n        biasCell.x = 80\\n        biasCell.y = 110\\n        biasCell.value = network.neurons[Inputs].value\\n        cells[Inputs] = biasCell\\n       \\n        for o = 1,Outputs do\\n                cell = {}\\n                cell.x = 220\\n                cell.y = 30 + 8 * o\\n                cell.value = network.neurons[MaxNodes + o].value\\n                cells[MaxNodes+o] = cell\\n                local color\\n                if cell.value > 0 then\\n                        color = 0xFF0000FF\\n                else\\n                        color = 0xFF000000\\n                end\\n                gui.drawText(223, 24+8*o, ButtonNames[o], color, 9)\\n        end\\n       \\n        for n,neuron in pairs(network.neurons) do\\n                cell = {}\\n                if n > Inputs and n <= MaxNodes then\\n                        cell.x = 140\\n                        cell.y = 40\\n                        cell.value = neuron.value\\n                        cells[n] = cell\\n                end\\n        end\\n       \\n        for n=1,4 do\\n                for _,gene in pairs(genome.genes) do\\n                        if gene.enabled then\\n                                local c1 = cells[gene.into]\\n                                local c2 = cells[gene.out]\\n                                if gene.into > Inputs and gene.into <= MaxNodes then\\n                                        c1.x = 0.75*c1.x + 0.25*c2.x\\n                                        if c1.x >= c2.x then\\n                                                c1.x = c1.x - 40\\n                                        end\\n                                        if c1.x < 90 then\\n                                                c1.x = 90\\n                                        end\\n                                       \\n                                        if c1.x > 220 then\\n                                                c1.x = 220\\n                                        end\\n                                        c1.y = 0.75*c1.y + 0.25*c2.y\\n                                       \\n                                end\\n                                if gene.out > Inputs and gene.out <= MaxNodes then\\n                                        c2.x = 0.25*c1.x + 0.75*c2.x\\n                                        if c1.x >= c2.x then\\n                                                c2.x = c2.x + 40\\n                                        end\\n                                        if c2.x < 90 then\\n                                                c2.x = 90\\n                                        end\\n                                        if c2.x > 220 then\\n                                                c2.x = 220\\n                                        end\\n                                        c2.y = 0.25*c1.y + 0.75*c2.y\\n                                end\\n                        end\\n                end\\n        end\\n       \\n        gui.drawBox(50-BoxRadius*5-3,70-BoxRadius*5-3,50+BoxRadius*5+2,70+BoxRadius*5+2,0xFF000000, 0x80808080)\\n        for n,cell in pairs(cells) do\\n                if n > Inputs or cell.value ~= 0 then\\n                        local color = math.floor((cell.value+1)/2*256)\\n                        if color > 255 then color = 255 end\\n                        if color < 0 then color = 0 end\\n                        local opacity = 0xFF000000\\n                        if cell.value == 0 then\\n                                opacity = 0x50000000\\n                        end\\n                        color = opacity + color*0x10000 + color*0x100 + color\\n                        gui.drawBox(cell.x-2,cell.y-2,cell.x+2,cell.y+2,opacity,color)\\n                end\\n        end\\n        for _,gene in pairs(genome.genes) do\\n                if gene.enabled then\\n                        local c1 = cells[gene.into]\\n                        local c2 = cells[gene.out]\\n                        local opacity = 0xA0000000\\n                        if c1.value == 0 then\\n                                opacity = 0x20000000\\n                        end\\n                       \\n                        local color = 0x80-math.floor(math.abs(sigmoid(gene.weight))*0x80)\\n                        if gene.weight > 0 then\\n                                color = opacity + 0x8000 + 0x10000*color\\n                        else\\n                                color = opacity + 0x800000 + 0x100*color\\n                        end\\n                        gui.drawLine(c1.x+1, c1.y, c2.x-3, c2.y, color)\\n                end\\n        end\\n       \\n        gui.drawBox(49,71,51,78,0x00000000,0x80FF0000)\\n       \\n        if forms.ischecked(showMutationRates) then\\n                local pos = 100\\n                for mutation,rate in pairs(genome.mutationRates) do\\n                        gui.drawText(100, pos, mutation .. \": \" .. rate, 0xFF000000, 10)\\n                        pos = pos + 8\\n                end\\n        end\\nend\\n \\nfunction writeFile(filename)\\n        local file = io.open(filename, \"w\")\\n        file:write(pool.generation .. \"\\\\n\")\\n        file:write(pool.maxFitness .. \"\\\\n\")\\n        file:write(#pool.species .. \"\\\\n\")\\n        for n,species in pairs(pool.species) do\\n                file:write(species.topFitness .. \"\\\\n\")\\n                file:write(species.staleness .. \"\\\\n\")\\n                file:write(#species.genomes .. \"\\\\n\")\\n                for m,genome in pairs(species.genomes) do\\n                        file:write(genome.fitness .. \"\\\\n\")\\n                        file:write(genome.maxneuron .. \"\\\\n\")\\n                        for mutation,rate in pairs(genome.mutationRates) do\\n                                file:write(mutation .. \"\\\\n\")\\n                                file:write(rate .. \"\\\\n\")\\n                        end\\n                        file:write(\"done\\\\n\")\\n                       \\n                        file:write(#genome.genes .. \"\\\\n\")\\n                        for l,gene in pairs(genome.genes) do\\n                                file:write(gene.into .. \" \")\\n                                file:write(gene.out .. \" \")\\n                                file:write(gene.weight .. \" \")\\n                                file:write(gene.innovation .. \" \")\\n                                if(gene.enabled) then\\n                                        file:write(\"1\\\\n\")\\n                                else\\n                                        file:write(\"0\\\\n\")\\n                                end\\n                        end\\n                end\\n        end\\n        file:close()\\nend\\n \\nfunction savePool()\\n        local filename = forms.gettext(saveLoadFile)\\n        writeFile(filename)\\nend\\n \\nfunction loadFile(filename)\\n        local file = io.open(filename, \"r\")\\n        pool = newPool()\\n        pool.generation = file:read(\"*number\")\\n        pool.maxFitness = file:read(\"*number\")\\n        forms.settext(maxFitnessLabel, \"Max Fitness: \" .. math.floor(pool.maxFitness))\\n        local numSpecies = file:read(\"*number\")\\n        for s=1,numSpecies do\\n                local species = newSpecies()\\n                table.insert(pool.species, species)\\n                species.topFitness = file:read(\"*number\")\\n                species.staleness = file:read(\"*number\")\\n                local numGenomes = file:read(\"*number\")\\n                for g=1,numGenomes do\\n                        local genome = newGenome()\\n                        table.insert(species.genomes, genome)\\n                        genome.fitness = file:read(\"*number\")\\n                        genome.maxneuron = file:read(\"*number\")\\n                        local line = file:read(\"*line\")\\n                        while line ~= \"done\" do\\n                                genome.mutationRates[line] = file:read(\"*number\")\\n                                line = file:read(\"*line\")\\n                        end\\n                        local numGenes = file:read(\"*number\")\\n                        for n=1,numGenes do\\n                                local gene = newGene()\\n                                table.insert(genome.genes, gene)\\n                                local enabled\\n                                gene.into, gene.out, gene.weight, gene.innovation, enabled = file:read(\"*number\", \"*number\", \"*number\", \"*number\", \"*number\")\\n                                if enabled == 0 then\\n                                        gene.enabled = false\\n                                else\\n                                        gene.enabled = true\\n                                end\\n                               \\n                        end\\n                end\\n        end\\n        file:close()\\n       \\n        while fitnessAlreadyMeasured() do\\n                nextGenome()\\n        end\\n        initializeRun()\\n        pool.currentFrame = pool.currentFrame + 1\\nend\\n \\nfunction loadPool()\\n        local filename = forms.gettext(saveLoadFile)\\n        loadFile(filename)\\nend\\n \\nfunction playTop()\\n        local maxfitness = 0\\n        local maxs, maxg\\n        for s,species in pairs(pool.species) do\\n                for g,genome in pairs(species.genomes) do\\n                        if genome.fitness > maxfitness then\\n                                maxfitness = genome.fitness\\n                                maxs = s\\n                                maxg = g\\n                        end\\n                end\\n        end\\n       \\n        pool.currentSpecies = maxs\\n        pool.currentGenome = maxg\\n        pool.maxFitness = maxfitness\\n        forms.settext(maxFitnessLabel, \"Max Fitness: \" .. math.floor(pool.maxFitness))\\n        initializeRun()\\n        pool.currentFrame = pool.currentFrame + 1\\n        return\\nend\\n \\nfunction onExit()\\n        forms.destroy(form)\\nend\\n \\nwriteFile(\"temp.pool\")\\n \\nevent.onexit(onExit)\\n \\nform = forms.newform(200, 260, \"Fitness\")\\nmaxFitnessLabel = forms.label(form, \"Max Fitness: \" .. math.floor(pool.maxFitness), 5, 8)\\nshowNetwork = forms.checkbox(form, \"Show Map\", 5, 30)\\nshowMutationRates = forms.checkbox(form, \"Show M-Rates\", 5, 52)\\nrestartButton = forms.button(form, \"Restart\", initializePool, 5, 77)\\nsaveButton = forms.button(form, \"Save\", savePool, 5, 102)\\nloadButton = forms.button(form, \"Load\", loadPool, 80, 102)\\nsaveLoadFile = forms.textbox(form, Filename .. \".pool\", 170, 25, nil, 5, 148)\\nsaveLoadLabel = forms.label(form, \"Save/Load:\", 5, 129)\\nplayTopButton = forms.button(form, \"Play Top\", playTop, 5, 170)\\nhideBanner = forms.checkbox(form, \"Hide Banner\", 5, 190)\\n \\n \\nwhile true do\\n        local backgroundColor = 0xD0FFFFFF\\n        if not forms.ischecked(hideBanner) then\\n                gui.drawBox(0, 0, 300, 26, backgroundColor, backgroundColor)\\n        end\\n \\n        local species = pool.species[pool.currentSpecies]\\n        local genome = species.genomes[pool.currentGenome]\\n       \\n        if forms.ischecked(showNetwork) then\\n                displayGenome(genome)\\n        end\\n       \\n        if pool.currentFrame%5 == 0 then\\n                evaluateCurrent()\\n        end\\n \\n        joypad.set(controller)\\n \\n        getPositions()\\n        if marioX > rightmost then\\n                rightmost = marioX\\n                timeout = TimeoutConstant\\n        end\\n       \\n        timeout = timeout - 1\\n       \\n       \\n        local timeoutBonus = pool.currentFrame / 4\\n        if timeout + timeoutBonus <= 0 then\\n                local fitness = rightmost - pool.currentFrame / 2\\n                if gameinfo.getromname() == \"Super Mario World (USA)\" and rightmost > 4816 then\\n                        fitness = fitness + 1000\\n                end\\n                if gameinfo.getromname() == \"Super Mario Bros.\" and rightmost > 3186 then\\n                        fitness = fitness + 1000\\n                end\\n                if fitness == 0 then\\n                        fitness = -1\\n                end\\n                genome.fitness = fitness\\n               \\n                if fitness > pool.maxFitness then\\n                        pool.maxFitness = fitness\\n                        forms.settext(maxFitnessLabel, \"Max Fitness: \" .. math.floor(pool.maxFitness))\\n                        writeFile(\"backup.\" .. pool.generation .. \".\" .. forms.gettext(saveLoadFile))\\n                end\\n               \\n                console.writeline(\"Gen \" .. pool.generation .. \" species \" .. pool.currentSpecies .. \" genome \" .. pool.currentGenome .. \" fitness: \" .. fitness)\\n                pool.currentSpecies = 1\\n                pool.currentGenome = 1\\n                while fitnessAlreadyMeasured() do\\n                        nextGenome()\\n                end\\n                initializeRun()\\n        end\\n \\n        local measured = 0\\n        local total = 0\\n        for _,species in pairs(pool.species) do\\n                for _,genome in pairs(species.genomes) do\\n                        total = total + 1\\n                        if genome.fitness ~= 0 then\\n                                measured = measured + 1\\n                        end\\n                end\\n        end\\n        if not forms.ischecked(hideBanner) then\\n                gui.drawText(0, 0, \"Gen \" .. pool.generation .. \" species \" .. pool.currentSpecies .. \" genome \" .. pool.currentGenome .. \" (\" .. math.floor(measured/total*100) .. \"%)\", 0xFF000000, 11)\\n                gui.drawText(0, 12, \"Fitness: \" .. math.floor(rightmost - (pool.currentFrame) / 2 - (timeout + timeoutBonus)*2/3), 0xFF000000, 11)\\n                gui.drawText(100, 12, \"Max Fitness: \" .. math.floor(pool.maxFitness), 0xFF000000, 11)\\n        end\\n               \\n        pool.currentFrame = pool.currentFrame + 1\\n \\n        emu.frameadvance();\\nend'"
      ]
     },
     "execution_count": 4,
     "metadata": {},
     "output_type": "execute_result"
    }
   ],
   "source": [
    "file.read()"
   ]
  },
  {
   "cell_type": "code",
   "execution_count": 13,
   "metadata": {},
   "outputs": [
    {
     "name": "stdout",
     "output_type": "stream",
     "text": [
      "my fruites ('Banana', 'Apple')\n"
     ]
    }
   ],
   "source": [
    "#args \"arguments\"\n",
    "title = \"my fruites\"\n",
    "fruit_1 = \"Banana\"\n",
    "fruit_2 = \"Apple\"\n",
    "def myfun(title, *args):\n",
    "    print (title, args)\n",
    "myfun(title, fruit_1, fruit_2)"
   ]
  },
  {
   "cell_type": "code",
   "execution_count": 19,
   "metadata": {},
   "outputs": [
    {
     "name": "stdout",
     "output_type": "stream",
     "text": [
      "my fruits\n",
      "Banana\n",
      "Apple\n"
     ]
    }
   ],
   "source": [
    "#kwargs \"key word arguments\"\n",
    "title = \"my fruits\"\n",
    "def myfun(title, **kwargs):\n",
    "    print (title)\n",
    "    for fruit, fruit_name in kwargs.items(): \n",
    "        print  (fruit_name)\n",
    "myfun(title, \n",
    "      fruit_1 = \"Banana\",\n",
    "      fruit_2 = \"Apple\" )"
   ]
  },
  {
   "cell_type": "code",
   "execution_count": 25,
   "metadata": {},
   "outputs": [
    {
     "name": "stdout",
     "output_type": "stream",
     "text": [
      "my fruits\n",
      "1\n",
      "2\n",
      "Banana\n",
      "Apple\n"
     ]
    }
   ],
   "source": [
    "#args + kwargs \n",
    "title = \"my fruits\"\n",
    "def myfun(title, *args, **kwargs):\n",
    "    print (title)\n",
    "    for arg in args:\n",
    "        print (arg)\n",
    "    for fruit, fruit_name in kwargs.items(): \n",
    "        print  (fruit_name)\n",
    "myfun(title, 1,2,\n",
    "      fruit_1 = \"Banana\",\n",
    "      fruit_2 = \"Apple\" )"
   ]
  },
  {
   "cell_type": "code",
   "execution_count": 37,
   "metadata": {},
   "outputs": [
    {
     "data": {
      "image/png": "[encoded data removed]",
      "text/plain": [
       "<Figure size 432x288 with 1 Axes>"
      ]
     },
     "metadata": {
      "needs_background": "light"
     },
     "output_type": "display_data"
    },
    {
     "data": {
      "image/png": "[encoded data removed]",
      "text/plain": [
       "<Figure size 432x288 with 1 Axes>"
      ]
     },
     "metadata": {
      "needs_background": "light"
     },
     "output_type": "display_data"
    }
   ],
   "source": [
    "# args\n",
    "\n",
    "import matplotlib.pyplot as plt\n",
    "def graph(x,y):\n",
    "    plt.plot(x,y)\n",
    "    plt.show()\n",
    "    \n",
    "\n",
    "x = [1,2,3]\n",
    "y = [3,4,2]\n",
    "\n",
    "graph(x,y)\n",
    "\n",
    "graph_me = [x,y]\n",
    "graph(*graph_me)\n"
   ]
  },
  {
   "cell_type": "code",
   "execution_count": 7,
   "metadata": {},
   "outputs": [],
   "source": [
    "import gspread \n",
    "import pandas as pd\n",
    "from oauth2client.service_account import ServiceAccountCredentials\n",
    "from pprint import pprint ## pretty print, make the output of pring look better \n",
    "scope = [\"https://www.googleapis.com/auth/drive\"] ## choose a scope for the access level from gsheet scopes\n",
    "credentials=ServiceAccountCredentials.from_json_keyfile_name(\"creds.json\", scope) ## create the credentials for (project file) with the right scope \n",
    "client  = gspread.authorize(credentials)\n",
    "sheet = client.open(\"test_sheet\").sheet1 ## open a sheet and enter data below\n",
    "data = sheet.get_all_records()\n",
    "df = pd.DataFrame(data)"
   ]
  },
  {
   "cell_type": "code",
   "execution_count": 8,
   "metadata": {},
   "outputs": [
    {
     "data": {
      "text/html": [
       "<div>\n",
       "<style scoped>\n",
       "    .dataframe tbody tr th:only-of-type {\n",
       "        vertical-align: middle;\n",
       "    }\n",
       "\n",
       "    .dataframe tbody tr th {\n",
       "        vertical-align: top;\n",
       "    }\n",
       "\n",
       "    .dataframe thead th {\n",
       "        text-align: right;\n",
       "    }\n",
       "</style>\n",
       "<table border=\"1\" class=\"dataframe\">\n",
       "  <thead>\n",
       "    <tr style=\"text-align: right;\">\n",
       "      <th></th>\n",
       "      <th>Test_ID</th>\n",
       "      <th>Test_Name</th>\n",
       "      <th>Value</th>\n",
       "    </tr>\n",
       "  </thead>\n",
       "  <tbody>\n",
       "    <tr>\n",
       "      <th>0</th>\n",
       "      <td>1</td>\n",
       "      <td>Test_Name1</td>\n",
       "      <td>-1</td>\n",
       "    </tr>\n",
       "    <tr>\n",
       "      <th>1</th>\n",
       "      <td>2</td>\n",
       "      <td>Test_Name2</td>\n",
       "      <td>0</td>\n",
       "    </tr>\n",
       "    <tr>\n",
       "      <th>2</th>\n",
       "      <td>3</td>\n",
       "      <td>Test_Name3</td>\n",
       "      <td>1</td>\n",
       "    </tr>\n",
       "    <tr>\n",
       "      <th>3</th>\n",
       "      <td>4</td>\n",
       "      <td>Test_Name4</td>\n",
       "      <td>2</td>\n",
       "    </tr>\n",
       "    <tr>\n",
       "      <th>4</th>\n",
       "      <td>5</td>\n",
       "      <td>Test_Name5</td>\n",
       "      <td>3</td>\n",
       "    </tr>\n",
       "    <tr>\n",
       "      <th>5</th>\n",
       "      <td>6</td>\n",
       "      <td>Test_Name6</td>\n",
       "      <td>4</td>\n",
       "    </tr>\n",
       "    <tr>\n",
       "      <th>6</th>\n",
       "      <td>7</td>\n",
       "      <td>Test_Name7</td>\n",
       "      <td>10</td>\n",
       "    </tr>\n",
       "    <tr>\n",
       "      <th>7</th>\n",
       "      <td>8</td>\n",
       "      <td>Test_Name8</td>\n",
       "      <td>6</td>\n",
       "    </tr>\n",
       "  </tbody>\n",
       "</table>\n",
       "</div>"
      ],
      "text/plain": [
       "   Test_ID   Test_Name  Value\n",
       "0        1  Test_Name1     -1\n",
       "1        2  Test_Name2      0\n",
       "2        3  Test_Name3      1\n",
       "3        4  Test_Name4      2\n",
       "4        5  Test_Name5      3\n",
       "5        6  Test_Name6      4\n",
       "6        7  Test_Name7     10\n",
       "7        8  Test_Name8      6"
      ]
     },
     "execution_count": 8,
     "metadata": {},
     "output_type": "execute_result"
    }
   ],
   "source": [
    "df"
   ]
  },
  {
   "cell_type": "code",
   "execution_count": null,
   "metadata": {},
   "outputs": [],
   "source": []
  }
 ],
 "metadata": {
  "kernelspec": {
   "display_name": "Python 3",
   "language": "python",
   "name": "python3"
  },
  "language_info": {
   "codemirror_mode": {
    "name": "ipython",
    "version": 3
   },
   "file_extension": ".py",
   "mimetype": "text/x-python",
   "name": "python",
   "nbconvert_exporter": "python",
   "pygments_lexer": "ipython3",
   "version": "3.7.0"
  }
 },
 "nbformat": 4,
 "nbformat_minor": 2
}
